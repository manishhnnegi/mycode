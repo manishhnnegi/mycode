{
 "cells": [
  {
   "cell_type": "markdown",
   "metadata": {},
   "source": [
    "# Requests module in python"
   ]
  },
  {
   "cell_type": "code",
   "execution_count": 28,
   "metadata": {},
   "outputs": [
    {
     "name": "stdout",
     "output_type": "stream",
     "text": [
      "The Mysterious Affair at Styles\n",
      "The Secret Adversary\n",
      "The Murder on the Links\n",
      "The Man in the Brown Suit\n",
      "The Secret of Chimneys\n",
      "The Murder of Roger Ackroyd\n",
      "The Big Four\n",
      "The Mystery of the Blue Train\n",
      "The Seven Dials Mystery\n",
      "The Murder at the Vicarage\n",
      "Giant's Bread\n",
      "The Floating Admiral\n",
      "The Sittaford Mystery\n",
      "Peril at End House\n",
      "Lord Edgware Dies\n",
      "Murder on the Orient Express\n",
      "Unfinished Portrait\n",
      "Why Didn't They Ask Evans?\n",
      "Three Act Tragedy\n",
      "Death in the Clouds\n",
      "\n"
     ]
    }
   ],
   "source": [
    "# use request for accessing the web content lets take example of the site containg all text no html \n",
    "\n",
    "import requests \n",
    "#github raw file of text containt book list\n",
    "url = \"https://raw.githubusercontent.com/itsfoss/text-files/master/agatha.txt\"\n",
    "\n",
    "response = requests.get(url)\n",
    "type(response)\n",
    "if response.status_code == 200:\n",
    "    response_byte = response.content   #shared contanite alwas in byte \n",
    "    ans = response_byte.decode('utf-8')\n",
    "    print(ans)\n"
   ]
  },
  {
   "cell_type": "markdown",
   "metadata": {},
   "source": [
    "## communicate with server.py flask server"
   ]
  },
  {
   "cell_type": "markdown",
   "metadata": {},
   "source": [
    "### GET method"
   ]
  },
  {
   "cell_type": "code",
   "execution_count": 95,
   "metadata": {},
   "outputs": [
    {
     "name": "stdout",
     "output_type": "stream",
     "text": [
      "{'1': {'author': 'ved vyasa', 'name': 'Mahabharata'}, '2': {'author': 'Valamiki', 'name': 'Ramayana'}, '3': {'author': 'Prem chandra', 'name': 'stree3'}, '4': {'author': 'Prem chandra', 'name': 'stree4'}, '5': {'author': 'Prem chandra', 'name': 'stree5'}, '6': {'author': 'Prem chandra', 'name': 'stree5'}, '7': {'author': 'Prem chandra', 'name': 'stree6'}, '9': {'author': 'Prem chandra', 'name': 'fool ke rahi2'}}\n"
     ]
    }
   ],
   "source": [
    "#now from server.py we will communicate using requests\n",
    "\n",
    "import requests\n",
    "\n",
    "url = 'http://127.0.0.1:5000/books'\n",
    "response = requests.get(url)\n",
    "\n",
    "if response.status_code==200:\n",
    "    if response.headers.get('Content-Type'):\n",
    "        ans = response.json()\n",
    "        print(ans)\n",
    "    else:\n",
    "        ans = response.content.decode('utf-8')\n",
    "        print(ans)\n",
    "        "
   ]
  },
  {
   "cell_type": "markdown",
   "metadata": {},
   "source": [
    "### POST"
   ]
  },
  {
   "cell_type": "code",
   "execution_count": 87,
   "metadata": {},
   "outputs": [
    {
     "name": "stdout",
     "output_type": "stream",
     "text": [
      "{'book_id': 9, 'message': 'Book added'}\n"
     ]
    }
   ],
   "source": [
    "base_url = 'http://127.0.0.1:5000/books'\n",
    "new_book = {'author': 'Prem chandra', 'name': 'stree6'}\n",
    "response = requests.post(base_url, json=new_book)\n",
    "\n",
    "if response.status_code==201:\n",
    "    if response.headers.get('Content-Type'):\n",
    "        ans = response.json()\n",
    "        print(ans)\n",
    "    else:\n",
    "        ans = response.content.decode('utf-8')\n",
    "        print(ans)\n",
    "\n"
   ]
  },
  {
   "cell_type": "code",
   "execution_count": 90,
   "metadata": {},
   "outputs": [
    {
     "data": {
      "text/plain": [
       "{'1': {'author': 'ved vyasa', 'name': 'Mahabharata'},\n",
       " '2': {'author': 'Valamiki', 'name': 'Ramayana'},\n",
       " '3': {'author': 'Prem chandra', 'name': 'stree3'},\n",
       " '4': {'author': 'Prem chandra', 'name': 'stree4'},\n",
       " '5': {'author': 'Prem chandra', 'name': 'stree5'},\n",
       " '6': {'author': 'Prem chandra', 'name': 'stree5'},\n",
       " '7': {'author': 'Prem chandra', 'name': 'stree6'},\n",
       " '8': {'author': 'Prem chandra', 'name': 'fool ke rahi'},\n",
       " '9': {'author': 'Prem chandra', 'name': 'stree6'}}"
      ]
     },
     "execution_count": 90,
     "metadata": {},
     "output_type": "execute_result"
    }
   ],
   "source": [
    "ans"
   ]
  },
  {
   "cell_type": "markdown",
   "metadata": {},
   "source": [
    "### PUT for update"
   ]
  },
  {
   "cell_type": "code",
   "execution_count": 86,
   "metadata": {},
   "outputs": [],
   "source": [
    "base_url = 'http://127.0.0.1:5000/books/8'\n",
    "new_book = {'author': 'Prem chandra', 'name': 'fool ke rahi'}\n",
    "response = requests.put(base_url, json=new_book)\n",
    "\n",
    "if response.status_code==200:\n",
    "    if response.headers.get('Content-Type'):\n",
    "        ans = response.json()\n",
    "        print(ans)\n",
    "    else:\n",
    "        ans = response.content.decode('utf-8')\n",
    "        print(ans)\n",
    "\n"
   ]
  },
  {
   "cell_type": "markdown",
   "metadata": {},
   "source": [
    "### DELETE"
   ]
  },
  {
   "cell_type": "code",
   "execution_count": 94,
   "metadata": {},
   "outputs": [
    {
     "name": "stdout",
     "output_type": "stream",
     "text": [
      "{'message': 'Book deleted'}\n"
     ]
    }
   ],
   "source": [
    "base_url = 'http://127.0.0.1:5000/books/8'\n",
    "response = requests.delete(base_url)\n",
    "\n",
    "if response.status_code==200:\n",
    "    if response.headers.get('Content-Type'):\n",
    "        ans = response.json()\n",
    "        print(ans)\n",
    "    else:\n",
    "        ans = response.content.decode('utf-8')\n",
    "        print(ans)\n",
    "\n"
   ]
  },
  {
   "cell_type": "code",
   "execution_count": 96,
   "metadata": {},
   "outputs": [
    {
     "data": {
      "text/plain": [
       "{'1': {'author': 'ved vyasa', 'name': 'Mahabharata'},\n",
       " '2': {'author': 'Valamiki', 'name': 'Ramayana'},\n",
       " '3': {'author': 'Prem chandra', 'name': 'stree3'},\n",
       " '4': {'author': 'Prem chandra', 'name': 'stree4'},\n",
       " '5': {'author': 'Prem chandra', 'name': 'stree5'},\n",
       " '6': {'author': 'Prem chandra', 'name': 'stree5'},\n",
       " '7': {'author': 'Prem chandra', 'name': 'stree6'},\n",
       " '9': {'author': 'Prem chandra', 'name': 'fool ke rahi2'}}"
      ]
     },
     "execution_count": 96,
     "metadata": {},
     "output_type": "execute_result"
    }
   ],
   "source": [
    "ans"
   ]
  },
  {
   "cell_type": "markdown",
   "metadata": {},
   "source": [
    "### extracting the web containt haiving the html init use beautifulsope for extracting it"
   ]
  },
  {
   "cell_type": "code",
   "execution_count": 18,
   "metadata": {},
   "outputs": [
    {
     "name": "stdout",
     "output_type": "stream",
     "text": [
      "The status code is  200\n",
      "\n",
      "\n",
      "<title>Mahatma Gandhi - Wikipedia</title>\n",
      "\n",
      "\n",
      "[<h4 id=\"Father_of_the_Nation\">Father of the Nation</h4>]\n"
     ]
    }
   ],
   "source": [
    "import requests\n",
    "from bs4 import BeautifulSoup\n",
    "res = requests.get( \"https://en.wikipedia.org/wiki/Mahatma_Gandhi\")\n",
    "print(\"The status code is \", res.status_code)\n",
    "print(\"\\n\")\n",
    "soup_data = BeautifulSoup(res.text, 'html.parser')\n",
    "print(soup_data.title)\n",
    "print(\"\\n\")\n",
    "print(soup_data.find_all('h4'))"
   ]
  },
  {
   "cell_type": "markdown",
   "metadata": {},
   "source": [
    "### server.py FLASK API "
   ]
  },
  {
   "cell_type": "code",
   "execution_count": null,
   "metadata": {},
   "outputs": [],
   "source": [
    "from flask import Flask, request, jsonify\n",
    "\n",
    "app = Flask(__name__)\n",
    "\n",
    "# In-memory data storage for demonstration (a simple dictionary)\n",
    "data_store = {\n",
    "    1: {\"name\": \"The Mysterious Affair at Styles\", \"author\": \"Agatha Christie\"},\n",
    "    2: {\"name\": \"The Secret Adversary\", \"author\": \"Agatha Christie\"}\n",
    "}\n",
    "\n",
    "# Home route\n",
    "@app.route('/')\n",
    "def home():\n",
    "    return \"Welcome to the Book Store API!\"\n",
    "\n",
    "# GET request to retrieve all books\n",
    "@app.route('/books', methods=['GET'])\n",
    "def get_books():\n",
    "    return jsonify(data_store)\n",
    "\n",
    "# POST request to add a new book\n",
    "@app.route('/books', methods=['POST'])\n",
    "def add_book():\n",
    "    new_book = request.json\n",
    "    book_id = len(data_store) + 1\n",
    "    data_store[book_id] = new_book\n",
    "    return jsonify({\"message\": \"Book added\", \"book_id\": book_id}), 201\n",
    "\n",
    "# PUT request to update an existing book\n",
    "@app.route('/books/<int:book_id>', methods=['PUT'])\n",
    "def update_book(book_id):\n",
    "    if book_id in data_store:\n",
    "        updated_data = request.json\n",
    "        data_store[book_id].update(updated_data)\n",
    "        return jsonify({\"message\": \"Book updated\"}), 200\n",
    "    else:\n",
    "        return jsonify({\"error\": \"Book not found\"}), 404\n",
    "\n",
    "# DELETE request to delete a book\n",
    "@app.route('/books/<int:book_id>', methods=['DELETE'])\n",
    "def delete_book(book_id):\n",
    "    if book_id in data_store:\n",
    "        del data_store[book_id]\n",
    "        return jsonify({\"message\": \"Book deleted\"}), 200\n",
    "    else:\n",
    "        return jsonify({\"error\": \"Book not found\"}), 404\n",
    "\n",
    "if __name__ == '__main__':\n",
    "    app.run(debug=True)\n"
   ]
  },
  {
   "cell_type": "markdown",
   "metadata": {},
   "source": [
    "## Status Codes:"
   ]
  },
  {
   "cell_type": "markdown",
   "metadata": {},
   "source": [
    "Certainly! Here’s a list of the most commonly encountered HTTP status codes:\n",
    "\n",
    "### Common Status Codes:\n",
    "\n",
    "#### **Successful (200-299)**\n",
    "1. **200 OK**: The request was successful, and the server has returned the requested data.\n",
    "2. **201 Created**: The request was successful, and a new resource was created as a result.\n",
    "3. **204 No Content**: The request was successful, but there is no content to return.\n",
    "\n",
    "#### **Redirection (300-399)**\n",
    "1. **301 Moved Permanently**: The requested resource has been permanently moved to a new URL.\n",
    "2. **302 Found**: The requested resource is temporarily available at a different URL.\n",
    "3. **304 Not Modified**: The resource has not been modified since the last request.\n",
    "\n",
    "#### **Client Error (400-499)**\n",
    "1. **400 Bad Request**: The server cannot process the request due to invalid syntax or parameters.\n",
    "2. **401 Unauthorized**: Authentication is required and has failed or has not been provided.\n",
    "3. **403 Forbidden**: The server understands the request but refuses to authorize it.\n",
    "4. **404 Not Found**: The requested resource could not be found on the server.\n",
    "5. **405 Method Not Allowed**: The request method (e.g., GET, POST) is not allowed for the requested resource.\n",
    "\n",
    "#### **Server Error (500-599)**\n",
    "1. **500 Internal Server Error**: The server encountered an unexpected condition that prevented it from fulfilling the request.\n",
    "2. **502 Bad Gateway**: The server received an invalid response from an upstream server.\n",
    "3. **503 Service Unavailable**: The server is currently unable to handle the request due to temporary overload or maintenance.\n",
    "4. **504 Gateway Timeout**: The server did not receive a timely response from an upstream server.\n",
    "\n",
    "### Summary\n",
    "\n",
    "- **200 OK**: Successful request and response.\n",
    "- **201 Created**: Successful request resulting in resource creation.\n",
    "- **204 No Content**: Successful request with no content to return.\n",
    "- **301 Moved Permanently**: Resource moved permanently to a new URL.\n",
    "- **302 Found**: Resource temporarily available at a different URL.\n",
    "- **304 Not Modified**: Resource not modified since last request.\n",
    "- **400 Bad Request**: Invalid request syntax or parameters.\n",
    "- **401 Unauthorized**: Authentication required or failed.\n",
    "- **403 Forbidden**: Access to the resource is forbidden.\n",
    "- **404 Not Found**: Resource not found.\n",
    "- **405 Method Not Allowed**: Method not allowed for the resource.\n",
    "- **500 Internal Server Error**: Server encountered an error.\n",
    "- **502 Bad Gateway**: Invalid response from an upstream server.\n",
    "- **503 Service Unavailable**: Server is temporarily unavailable.\n",
    "- **504 Gateway Timeout**: Timed out waiting for an upstream server.\n",
    "\n",
    "These are the status codes you’re most likely to encounter when working with HTTP and web APIs."
   ]
  },
  {
   "cell_type": "code",
   "execution_count": null,
   "metadata": {},
   "outputs": [],
   "source": []
  },
  {
   "cell_type": "code",
   "execution_count": null,
   "metadata": {},
   "outputs": [],
   "source": []
  }
 ],
 "metadata": {
  "kernelspec": {
   "display_name": "Python 3 (ipykernel)",
   "language": "python",
   "name": "python3"
  },
  "language_info": {
   "codemirror_mode": {
    "name": "ipython",
    "version": 3
   },
   "file_extension": ".py",
   "mimetype": "text/x-python",
   "name": "python",
   "nbconvert_exporter": "python",
   "pygments_lexer": "ipython3",
   "version": "3.11.4"
  }
 },
 "nbformat": 4,
 "nbformat_minor": 2
}

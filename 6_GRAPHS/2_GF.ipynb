{
 "cells": [
  {
   "cell_type": "markdown",
   "metadata": {},
   "source": [
    "# BFS Bearth First Search:\n",
    "![image.png](attachment:image.png)"
   ]
  },
  {
   "cell_type": "markdown",
   "metadata": {},
   "source": [
    "### Adjecency Matrix:"
   ]
  },
  {
   "cell_type": "code",
   "execution_count": 30,
   "metadata": {},
   "outputs": [
    {
     "name": "stdout",
     "output_type": "stream",
     "text": [
      "[[1, 4], [0, 2, 3], [1], [1], [0]]\n",
      "[[0, 1, 0, 0, 1], [1, 0, 1, 1, 0], [0, 1, 0, 0, 0], [0, 1, 0, 0, 0], [1, 0, 0, 0, 0]]\n",
      "[[1, 4], [0, 2, 3], [1], [1], [0]]\n"
     ]
    }
   ],
   "source": [
    "from collections import defaultdict\n",
    "#-----------------------------------------------------\n",
    "def genadjList(edges, nodes):\n",
    "    adjList = [[] for _ in range(nodes)]\n",
    "    for edg in edges:\n",
    "        u,v = edg\n",
    "        adjList[u].append(v)\n",
    "        adjList[v].append(u)    \n",
    "    return adjList\n",
    "\n",
    "def adjLtoM(adjList, nodes):\n",
    "    # create 0 by 0 matrix for the size of nodes.\n",
    "    matrix = [[0 for i in range(nodes)] for j in range(nodes)]\n",
    "\n",
    "    # fill those matrix with values\n",
    "    for i in range(nodes):\n",
    "        for j in adjList[i]:\n",
    "            matrix[i][j]= 1\n",
    "    return matrix\n",
    "\n",
    "def adjMtoL(adjMtx):\n",
    "    adjLst = defaultdict(list)\n",
    "    for i in range(len(adjMtx)):\n",
    "        for j in range(len(adjMtx[i])):\n",
    "            if adjMtx[i][j]!= 0:\n",
    "                adjLst[i].append(j)\n",
    "\n",
    "    return list(adjLst.values())\n",
    "\n",
    "\n",
    "#different way of writing it\n",
    "adjList = {0:[1,2,3],1:[0,2],2:[0,1,4], 3:[0], 4:[2]}\n",
    "adjList = [[1,2,3],[0,2],[0,1,4],[0],[2]]\n",
    "adjList = [[0,1,2,3],[1,0,2],[2,0,1,4],[3,0],[4,2]]\n",
    "\n",
    "\n",
    "edges = [(0,1),(1,2),(1,3),(0,4)]\n",
    "nodes = 5\n",
    "adjList = genadjList(edges, nodes) \n",
    "print(adjList) \n",
    "adjMtrix = adjLtoM(adjList,nodes= len(adjList))\n",
    "print(adjMtrix)\n",
    "print(adjMtoL(adjMtrix))\n",
    "\n"
   ]
  },
  {
   "attachments": {
    "image.png": {
     "image/png": "[encoded data removed]"
    }
   },
   "cell_type": "markdown",
   "metadata": {},
   "source": [
    "![image.png](attachment:image.png)"
   ]
  },
  {
   "cell_type": "code",
   "execution_count": 33,
   "metadata": {},
   "outputs": [
    {
     "name": "stdout",
     "output_type": "stream",
     "text": [
      "[[2], [2], [0, 1]]\n",
      "[[1, 0, 1], [0, 1, 1], [1, 1, 1]]\n",
      "[[0, 2], [1, 2], [0, 1, 2]]\n"
     ]
    }
   ],
   "source": [
    "edges = [(0,2),(1,2)]\n",
    "nodes = 3\n",
    "adjList = genadjList(edges, nodes) \n",
    "print(adjList)\n",
    "adjList = [[0,2], [1,2], [2,0, 1]]\n",
    "adjMtrix = adjLtoM(adjList,nodes= len(adjList))\n",
    "print(adjMtrix)\n",
    "print(adjMtoL(adjMtrix))"
   ]
  },
  {
   "attachments": {
    "image.png": {
     "image/png": "[encoded data removed]"
    }
   },
   "cell_type": "markdown",
   "metadata": {},
   "source": [
    "# BFS:\n",
    "![image.png](attachment:image.png)"
   ]
  },
  {
   "cell_type": "code",
   "execution_count": 40,
   "metadata": {},
   "outputs": [
    {
     "name": "stdout",
     "output_type": "stream",
     "text": [
      "[[1, 3], [0, 2, 4], [1], [0], [1]]\n"
     ]
    }
   ],
   "source": [
    "edges = [(0,1),(1,2),(3,0),(4,1)]\n",
    "nodes = len(edges)+1\n",
    "adjList = genadjList(edges, nodes) \n",
    "print(adjList)"
   ]
  },
  {
   "cell_type": "code",
   "execution_count": null,
   "metadata": {},
   "outputs": [],
   "source": [
    "def bfs(nodes, adj):\n",
    "    vis = [0]*nodes\n",
    "    \n",
    "\n",
    "    "
   ]
  }
 ],
 "metadata": {
  "kernelspec": {
   "display_name": "gpt",
   "language": "python",
   "name": "python3"
  },
  "language_info": {
   "codemirror_mode": {
    "name": "ipython",
    "version": 3
   },
   "file_extension": ".py",
   "mimetype": "text/x-python",
   "name": "python",
   "nbconvert_exporter": "python",
   "pygments_lexer": "ipython3",
   "version": "3.12.0"
  }
 },
 "nbformat": 4,
 "nbformat_minor": 2
}

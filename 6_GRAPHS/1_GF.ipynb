{
 "cells": [
  {
   "attachments": {
    "image.png": {
     "image/png": "[encoded data removed]"
    }
   },
   "cell_type": "markdown",
   "id": "888b1f65",
   "metadata": {},
   "source": [
    "# Breadth-First-search (BFS):\n",
    "![image.png](attachment:image.png)\n",
    "\n"
   ]
  },
  {
   "cell_type": "code",
   "execution_count": 21,
   "id": "3a1589f5",
   "metadata": {},
   "outputs": [
    {
     "name": "stdout",
     "output_type": "stream",
     "text": [
      "graph-------------------------------------->{0: [1, 2, 3], 1: [0, 2], 2: [0, 1, 4], 3: [0], 4: [2]}\n",
      "visited in the start------------------------------> set()\n",
      "queue in the start--------------------------------> [0]\n",
      "\n",
      "\n",
      "\n",
      "in while loop -------> 1\n",
      "queue before in 1 iteration --- ------------------------> []\n",
      "vertex in 1 iteration ---------- > 0\n",
      "visited in 1 iteration --- ----------------------> {0}\n",
      "queue in 1 iteration --- ------------------------> [1, 2, 3]\n",
      "\n",
      "\n",
      "in while loop -------> 2\n",
      "queue before in 2 iteration --- ------------------------> [1, 2]\n",
      "vertex in 2 iteration ---------- > 3\n",
      "visited in 2 iteration --- ----------------------> {0, 3}\n",
      "queue in 2 iteration --- ------------------------> [1, 2]\n",
      "\n",
      "\n",
      "in while loop -------> 3\n",
      "queue before in 3 iteration --- ------------------------> [1]\n",
      "vertex in 3 iteration ---------- > 2\n",
      "visited in 3 iteration --- ----------------------> {0, 2, 3}\n",
      "queue in 3 iteration --- ------------------------> [1, 1, 4]\n",
      "\n",
      "\n",
      "in while loop -------> 4\n",
      "queue before in 4 iteration --- ------------------------> [1, 1]\n",
      "vertex in 4 iteration ---------- > 4\n",
      "visited in 4 iteration --- ----------------------> {0, 2, 3, 4}\n",
      "queue in 4 iteration --- ------------------------> [1, 1]\n",
      "\n",
      "\n",
      "in while loop -------> 5\n",
      "queue before in 5 iteration --- ------------------------> [1]\n",
      "vertex in 5 iteration ---------- > 1\n",
      "visited in 5 iteration --- ----------------------> {0, 1, 2, 3, 4}\n",
      "queue in 5 iteration --- ------------------------> [1]\n",
      "\n",
      "\n",
      "in while loop -------> 6\n",
      "queue before in 6 iteration --- ------------------------> []\n",
      "vertex in 6 iteration ---------- > 1\n",
      "visited in 6 iteration --- ----------------------> {0, 1, 2, 3, 4}\n",
      "queue in 6 iteration --- ------------------------> []\n",
      "\n",
      "\n",
      "{0, 1, 2, 3, 4}\n"
     ]
    }
   ],
   "source": [
    "graph = {0:[1,2,3],1:[0,2],2:[0,1,4], 3:[0], 4:[2]}\n",
    "\n",
    "def bsf(graph, root):\n",
    "    \n",
    "    visited = set()\n",
    "    print(f\"visited in the start------------------------------> {visited}\")\n",
    "    queue = [root]\n",
    "    print(f\"queue in the start--------------------------------> { queue}\")\n",
    "    print(\"\\n\\n\")\n",
    "    x= 1\n",
    "    while queue:\n",
    "        print(f\"in while loop -------> {x}\")\n",
    "        vertex = queue.pop()\n",
    "        print(f\"queue before in {x} iteration --- ------------------------> {queue}\")\n",
    "        print(f\"vertex in {x} iteration ---------- > {vertex}\")\n",
    "        \n",
    "        visited.add(vertex)\n",
    "        print(f\"visited in {x} iteration --- ----------------------> {visited}\")\n",
    "        for i in graph[vertex]:\n",
    "            if i not in visited:\n",
    "                queue.append(i)\n",
    "        print(f\"queue in {x} iteration --- ------------------------> {queue}\")\n",
    "        x = x+1\n",
    "        print(\"\\n\")\n",
    "    print(visited)\n",
    "        \n",
    "print(f\"graph-------------------------------------->{graph}\")       \n",
    "bsf(graph, 0)"
   ]
  },
  {
   "cell_type": "code",
   "execution_count": 10,
   "id": "ce6c9c93",
   "metadata": {},
   "outputs": [
    {
     "data": {
      "text/plain": [
       "{0, 1, 2, 4, 5, 6}"
      ]
     },
     "execution_count": 10,
     "metadata": {},
     "output_type": "execute_result"
    }
   ],
   "source": [
    "{1,2,2,4,5,6,0}"
   ]
  },
  {
   "cell_type": "code",
   "execution_count": 23,
   "id": "61dbf2c5",
   "metadata": {},
   "outputs": [
    {
     "name": "stdout",
     "output_type": "stream",
     "text": [
      "graph-------------------------------------->{0: [1, 4], 1: [2, 3], 2: [1], 3: [1], 4: [0]}\n",
      "visited in the start------------------------------> set()\n",
      "queue in the start--------------------------------> [0]\n",
      "\n",
      "\n",
      "\n",
      "in while loop -------> 1\n",
      "queue before in 1 iteration --- ------------------------> []\n",
      "vertex in 1 iteration ---------- > 0\n",
      "visited in 1 iteration --- ----------------------> {0}\n",
      "queue in 1 iteration --- ------------------------> [1, 4]\n",
      "\n",
      "\n",
      "in while loop -------> 2\n",
      "queue before in 2 iteration --- ------------------------> [1]\n",
      "vertex in 2 iteration ---------- > 4\n",
      "visited in 2 iteration --- ----------------------> {0, 4}\n",
      "queue in 2 iteration --- ------------------------> [1]\n",
      "\n",
      "\n",
      "in while loop -------> 3\n",
      "queue before in 3 iteration --- ------------------------> []\n",
      "vertex in 3 iteration ---------- > 1\n",
      "visited in 3 iteration --- ----------------------> {0, 1, 4}\n",
      "queue in 3 iteration --- ------------------------> [2, 3]\n",
      "\n",
      "\n",
      "in while loop -------> 4\n",
      "queue before in 4 iteration --- ------------------------> [2]\n",
      "vertex in 4 iteration ---------- > 3\n",
      "visited in 4 iteration --- ----------------------> {0, 1, 3, 4}\n",
      "queue in 4 iteration --- ------------------------> [2]\n",
      "\n",
      "\n",
      "in while loop -------> 5\n",
      "queue before in 5 iteration --- ------------------------> []\n",
      "vertex in 5 iteration ---------- > 2\n",
      "visited in 5 iteration --- ----------------------> {0, 1, 2, 3, 4}\n",
      "queue in 5 iteration --- ------------------------> []\n",
      "\n",
      "\n",
      "{0, 1, 2, 3, 4}\n"
     ]
    }
   ],
   "source": [
    "graph = {0:[1,4],1:[2,3],2:[1],3:[1],4:[0]}\n",
    "print(f\"graph-------------------------------------->{graph}\")       \n",
    "bsf(graph, 0)"
   ]
  },
  {
   "cell_type": "code",
   "execution_count": 22,
   "id": "d67b0382",
   "metadata": {},
   "outputs": [
    {
     "name": "stdout",
     "output_type": "stream",
     "text": [
      "0 1 4 2 3\n"
     ]
    }
   ],
   "source": [
    "from collections import deque\n",
    "\n",
    "class Solution:\n",
    "    # Function to return Breadth First Traversal of given graph.\n",
    "    def bfsOfGraph(self, V, adj):\n",
    "        vis = [0] * V  # Initialize the visited list with 0s\n",
    "        vis[0] = 1  # Mark the first node as visited\n",
    "        q = deque([0])  # Initialize the queue and push the starting node (0)\n",
    "        bfs = []  # List to store the BFS traversal result\n",
    "        \n",
    "        # Iterate until the queue is empty\n",
    "        while q:\n",
    "            node = q.popleft()  # Get the front element in the queue\n",
    "            bfs.append(node)  # Add it to the BFS result list\n",
    "            \n",
    "            # Traverse all its neighbors\n",
    "            for neighbor in adj[node]:\n",
    "                if not vis[neighbor]:  # If neighbor is not visited\n",
    "                    vis[neighbor] = 1  # Mark it visited\n",
    "                    q.append(neighbor)  # Add it to the queue\n",
    "        \n",
    "        return bfs\n",
    "\n",
    "def addEdge(adj, u, v):\n",
    "    adj[u].append(v)\n",
    "    adj[v].append(u)\n",
    "\n",
    "def printAns(ans):\n",
    "    print(\" \".join(map(str, ans)))\n",
    "\n",
    "if __name__ == \"__main__\":\n",
    "    adj = [[] for _ in range(6)]  # Create an adjacency list for 6 nodes\n",
    "    \n",
    "    # Add edges\n",
    "    addEdge(adj, 0, 1)\n",
    "    addEdge(adj, 1, 2)\n",
    "    addEdge(adj, 1, 3)\n",
    "    addEdge(adj, 0, 4)\n",
    "\n",
    "    obj = Solution()\n",
    "    ans = obj.bfsOfGraph(5, adj)\n",
    "    printAns(ans)\n"
   ]
  },
  {
   "cell_type": "code",
   "execution_count": 28,
   "id": "cdf50915",
   "metadata": {},
   "outputs": [
    {
     "name": "stdout",
     "output_type": "stream",
     "text": [
      "0 1 4 2 3\n"
     ]
    }
   ],
   "source": [
    "class Solution:\n",
    "    # Function to return Breadth First Traversal of given graph.\n",
    "    def bfsOfGraph(self, V, adj):\n",
    "        vis = [0] * V  # Initialize the visited list with 0s\n",
    "        vis[0] = 1  # Mark the first node as visited\n",
    "        q = [0]  # Initialize the queue using a list and push the starting node (0)\n",
    "        bfs = []  # List to store the BFS traversal result\n",
    "        \n",
    "        # Iterate until the queue is empty\n",
    "        while q:\n",
    "            node = q.pop(0)  # Get the front element in the queue (FIFO)\n",
    "            bfs.append(node)  # Add it to the BFS result list\n",
    "            \n",
    "            # Traverse all its neighbors\n",
    "            for neighbor in adj[node]:\n",
    "                if not vis[neighbor]:  # If neighbor is not visited\n",
    "                    vis[neighbor] = 1  # Mark it visited\n",
    "                    q.append(neighbor)  # Add it to the queue\n",
    "        \n",
    "        return bfs\n",
    "\n",
    "def addEdge(adj, u, v):\n",
    "    adj[u].append(v)\n",
    "    adj[v].append(u)\n",
    "\n",
    "def printAns(ans):\n",
    "    print(\" \".join(map(str, ans)))\n",
    "\n",
    "if __name__ == \"__main__\":\n",
    "    adj = [[] for _ in range(5)]  # Create an adjacency list for 5 nodes\n",
    "    \n",
    "    # Add edges\n",
    "    addEdge(adj, 0, 1)\n",
    "    addEdge(adj, 1, 2)\n",
    "    addEdge(adj, 1, 3)\n",
    "    addEdge(adj, 0, 4)\n",
    "\n",
    "    obj = Solution()\n",
    "    ans = obj.bfsOfGraph(5, adj)\n",
    "    printAns(ans)\n"
   ]
  },
  {
   "cell_type": "code",
   "execution_count": 29,
   "id": "f5955c0b",
   "metadata": {},
   "outputs": [
    {
     "data": {
      "text/plain": [
       "[[1, 4], [0, 2, 3], [1], [1], [0]]"
      ]
     },
     "execution_count": 29,
     "metadata": {},
     "output_type": "execute_result"
    }
   ],
   "source": [
    "adj"
   ]
  },
  {
   "cell_type": "code",
   "execution_count": 32,
   "id": "9e504ea4",
   "metadata": {},
   "outputs": [
    {
     "name": "stdout",
     "output_type": "stream",
     "text": [
      "0 3 2 1 4\n"
     ]
    }
   ],
   "source": [
    "\n",
    "if __name__ == \"__main__\":\n",
    "    adj = [[] for _ in range(5)]  # Create an adjacency list for 5 nodes\n",
    "    \n",
    "    # Add edges\n",
    "    addEdge(adj, 0, 3)\n",
    "    addEdge(adj, 0, 2)\n",
    "    addEdge(adj, 0, 1)\n",
    "    addEdge(adj, 1, 2)\n",
    "    addEdge(adj, 2, 4)\n",
    "\n",
    "    obj = Solution()\n",
    "    ans = obj.bfsOfGraph(5, adj)\n",
    "    printAns(ans)\n"
   ]
  },
  {
   "cell_type": "code",
   "execution_count": 33,
   "id": "70b20f5b",
   "metadata": {},
   "outputs": [
    {
     "data": {
      "text/plain": [
       "[[3, 2, 1], [0, 2], [0, 1, 4], [0], [2]]"
      ]
     },
     "execution_count": 33,
     "metadata": {},
     "output_type": "execute_result"
    }
   ],
   "source": [
    "adj"
   ]
  },
  {
   "cell_type": "code",
   "execution_count": 38,
   "id": "ae2778e4",
   "metadata": {},
   "outputs": [
    {
     "data": {
      "text/plain": [
       "([0, 3, 2, 1, 4], [1, 1, 1, 1, 1])"
      ]
     },
     "execution_count": 38,
     "metadata": {},
     "output_type": "execute_result"
    }
   ],
   "source": [
    "nodes = 5\n",
    "adj = [[3, 2, 1], [0, 2], [0, 1, 4], [0], [2]]\n",
    "\n",
    "def bsf(nodes , adj):\n",
    "    vis = [0]*nodes\n",
    "    vis[0]= 1\n",
    "    q = [0]  # node0\n",
    "    bfs = []\n",
    "    \n",
    "    while q:\n",
    "        node = q.pop(0)   #(FIFO)\n",
    "        bfs.append(node)\n",
    "        \n",
    "        for neighbour in adj[node]:\n",
    "            if not vis[neighbour]:\n",
    "                vis[neighbour] = 1\n",
    "                q.append(neighbour)\n",
    "        \n",
    "    return bfs, vis\n",
    "a,b = bsf(nodes, adj)\n",
    "a,b "
   ]
  },
  {
   "cell_type": "code",
   "execution_count": 39,
   "id": "9c515330",
   "metadata": {},
   "outputs": [
    {
     "data": {
      "text/plain": [
       "([0, 1, 2, 4, 3], [1, 1, 1, 1, 1])"
      ]
     },
     "execution_count": 39,
     "metadata": {},
     "output_type": "execute_result"
    }
   ],
   "source": [
    "def dfs(nodes, adj):\n",
    "    vis = [0] * nodes\n",
    "    vis[0] = 1\n",
    "    stack = [0]  # Initialize stack with the starting node (node 0)\n",
    "    dfs_result = []\n",
    "\n",
    "    while stack:\n",
    "        node = stack.pop()  # Pop the last added node (LIFO)\n",
    "        dfs_result.append(node)\n",
    "        \n",
    "        # Traverse all its neighbors\n",
    "        for neighbour in adj[node]:\n",
    "            if not vis[neighbour]:\n",
    "                vis[neighbour] = 1\n",
    "                stack.append(neighbour)  # Add the unvisited neighbor to the stack\n",
    "                \n",
    "    return dfs_result, vis\n",
    "\n",
    "nodes = 5\n",
    "adj = [[3, 2, 1], [0, 2], [0, 1, 4], [0], [2]]\n",
    "\n",
    "a, b = dfs(nodes, adj)\n",
    "a, b\n"
   ]
  },
  {
   "cell_type": "code",
   "execution_count": 40,
   "id": "84ec2556",
   "metadata": {},
   "outputs": [
    {
     "data": {
      "text/plain": [
       "([0, 3, 2, 1, 4], [1, 1, 1, 1, 1])"
      ]
     },
     "execution_count": 40,
     "metadata": {},
     "output_type": "execute_result"
    }
   ],
   "source": [
    "def dfs_recursive(node, adj, vis, dfs_result):\n",
    "    # Mark the current node as visited and add it to the result\n",
    "    vis[node] = 1\n",
    "    dfs_result.append(node)\n",
    "    \n",
    "    # Visit all the neighbors of the current node\n",
    "    for neighbour in adj[node]:\n",
    "        if not vis[neighbour]:  # If neighbor hasn't been visited, recurse on it\n",
    "            dfs_recursive(neighbour, adj, vis, dfs_result)\n",
    "\n",
    "def dfs(nodes, adj):\n",
    "    vis = [0] * nodes  # Initialize the visited list\n",
    "    dfs_result = []  # To store the DFS traversal order\n",
    "    \n",
    "    # Perform DFS starting from node 0\n",
    "    dfs_recursive(0, adj, vis, dfs_result)\n",
    "    \n",
    "    return dfs_result, vis\n",
    "\n",
    "# Define the graph and nodes\n",
    "nodes = 5\n",
    "adj = [[3, 2, 1], [0, 2], [0, 1, 4], [0], [2]]\n",
    "\n",
    "# Perform DFS\n",
    "a, b = dfs(nodes, adj)\n",
    "a, b\n"
   ]
  },
  {
   "cell_type": "code",
   "execution_count": null,
   "id": "f2c32df2",
   "metadata": {},
   "outputs": [],
   "source": []
  },
  {
   "cell_type": "code",
   "execution_count": null,
   "id": "e8a28a12",
   "metadata": {},
   "outputs": [],
   "source": []
  },
  {
   "cell_type": "code",
   "execution_count": 42,
   "id": "7c11c292",
   "metadata": {},
   "outputs": [
    {
     "name": "stdout",
     "output_type": "stream",
     "text": [
      "0 2 4 1 3\n"
     ]
    }
   ],
   "source": [
    "class Solution:\n",
    "    # Private helper function for DFS\n",
    "    def dfs(self, node, adj, vis, dfs_result):\n",
    "        vis[node] = 1\n",
    "        dfs_result.append(node)\n",
    "        \n",
    "        # Traverse all its neighbors\n",
    "        for neighbour in adj[node]:\n",
    "            if not vis[neighbour]:  # If the neighbor is not visited\n",
    "                self.dfs(neighbour, adj, vis, dfs_result)\n",
    "\n",
    "    # Function to return a list containing the DFS traversal of the graph\n",
    "    def dfsOfGraph(self, V, adj):\n",
    "        vis = [0] * V  # Initialize visited array\n",
    "        dfs_result = []  # List to store the DFS result\n",
    "        \n",
    "        start = 0  # Starting node is 0\n",
    "        # Call the DFS function for the starting node\n",
    "        self.dfs(start, adj, vis, dfs_result)\n",
    "        \n",
    "        return dfs_result\n",
    "\n",
    "# Function to add an edge between two nodes in an undirected graph\n",
    "def addEdge(adj, u, v):\n",
    "    adj[u].append(v)\n",
    "    adj[v].append(u)\n",
    "\n",
    "# Function to print the DFS result\n",
    "def printAns(ans):\n",
    "    print(\" \".join(map(str, ans)))\n",
    "\n",
    "if __name__ == \"__main__\":\n",
    "    adj = [[] for _ in range(5)]  # Create an adjacency list for 5 nodes\n",
    "    \n",
    "    # Add edges to the graph\n",
    "    addEdge(adj, 0, 2)\n",
    "    addEdge(adj, 2, 4)\n",
    "    addEdge(adj, 0, 1)\n",
    "    addEdge(adj, 0, 3)\n",
    "\n",
    "    # Create an instance of the Solution class\n",
    "    obj = Solution()\n",
    "    \n",
    "    # Perform DFS on the graph\n",
    "    ans = obj.dfsOfGraph(5, adj)\n",
    "    \n",
    "    # Print the result\n",
    "    printAns(ans)\n"
   ]
  },
  {
   "cell_type": "code",
   "execution_count": 43,
   "id": "ff5f914f",
   "metadata": {},
   "outputs": [
    {
     "name": "stdout",
     "output_type": "stream",
     "text": [
      "0 3 2 1 4\n"
     ]
    }
   ],
   "source": [
    "if __name__ == \"__main__\":\n",
    "    adj = [[3, 2, 1], [0, 2], [0, 1, 4], [0], [2]]\n",
    "    # Create an instance of the Solution class\n",
    "    obj = Solution()\n",
    "    \n",
    "    # Perform DFS on the graph\n",
    "    ans = obj.dfsOfGraph(5, adj)\n",
    "    \n",
    "    # Print the result\n",
    "    printAns(ans)"
   ]
  },
  {
   "cell_type": "code",
   "execution_count": null,
   "id": "061d83de",
   "metadata": {},
   "outputs": [],
   "source": []
  }
 ],
 "metadata": {
  "kernelspec": {
   "display_name": "Python 3 (ipykernel)",
   "language": "python",
   "name": "python3"
  },
  "language_info": {
   "codemirror_mode": {
    "name": "ipython",
    "version": 3
   },
   "file_extension": ".py",
   "mimetype": "text/x-python",
   "name": "python",
   "nbconvert_exporter": "python",
   "pygments_lexer": "ipython3",
   "version": "3.11.4"
  }
 },
 "nbformat": 4,
 "nbformat_minor": 5
}

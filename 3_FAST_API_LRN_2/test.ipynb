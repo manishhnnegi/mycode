{
 "cells": [
  {
   "cell_type": "code",
   "execution_count": 1,
   "metadata": {},
   "outputs": [
    {
     "name": "stdout",
     "output_type": "stream",
     "text": [
      "True\n"
     ]
    }
   ],
   "source": [
    "str1 = \"Hello\"\n",
    "str2 = \"HELLO\"\n",
    "\n",
    "print(str1.casefold() == str2.casefold())  # Output: True\n"
   ]
  },
  {
   "cell_type": "code",
   "execution_count": 3,
   "metadata": {},
   "outputs": [
    {
     "data": {
      "text/plain": [
       "'hasdfretwtsggdss123'"
      ]
     },
     "execution_count": 3,
     "metadata": {},
     "output_type": "execute_result"
    }
   ],
   "source": [
    "\"HASDFRetwtsggdss123\".casefold()"
   ]
  },
  {
   "cell_type": "code",
   "execution_count": 4,
   "metadata": {},
   "outputs": [
    {
     "name": "stdout",
     "output_type": "stream",
     "text": [
      "Alice\n",
      "None\n"
     ]
    }
   ],
   "source": [
    "my_dict = {'name': 'Alice', 'age': 30, 'city': 'New York'}\n",
    "\n",
    "# Using get() to retrieve values\n",
    "name = my_dict.get('name')  # Returns 'Alice'\n",
    "print(name)  # Output: Alice\n",
    "\n",
    "# Trying to access a non-existent key without get()\n",
    "# age = my_dict['age']  # Would raise a KeyError if 'age' does not exist\n",
    "\n",
    "# Using get() with a non-existent key\n",
    "country = my_dict.get('country')  # Returns None because 'country' is not a key\n",
    "print(country)  # Output: None\n"
   ]
  },
  {
   "cell_type": "code",
   "execution_count": 5,
   "metadata": {},
   "outputs": [
    {
     "data": {
      "text/plain": [
       "'Alice'"
      ]
     },
     "execution_count": 5,
     "metadata": {},
     "output_type": "execute_result"
    }
   ],
   "source": [
    "my_dict = {'name': 'Alice', 'age': 30, 'city': 'New York'}\n",
    "\n",
    "ky = \"name\"\n",
    "my_dict[ky], my_dict.get(ky)"
   ]
  },
  {
   "cell_type": "code",
   "execution_count": 8,
   "metadata": {},
   "outputs": [
    {
     "name": "stdout",
     "output_type": "stream",
     "text": [
      "Alice\n"
     ]
    },
    {
     "ename": "KeyError",
     "evalue": "'country'",
     "output_type": "error",
     "traceback": [
      "\u001b[1;31m---------------------------------------------------------------------------\u001b[0m",
      "\u001b[1;31mKeyError\u001b[0m                                  Traceback (most recent call last)",
      "Cell \u001b[1;32mIn[8], line 8\u001b[0m\n\u001b[0;32m      5\u001b[0m \u001b[38;5;28mprint\u001b[39m(value)  \u001b[38;5;66;03m# Output: Alice\u001b[39;00m\n\u001b[0;32m      7\u001b[0m ky \u001b[38;5;241m=\u001b[39m \u001b[38;5;124m\"\u001b[39m\u001b[38;5;124mcountry\u001b[39m\u001b[38;5;124m\"\u001b[39m\n\u001b[1;32m----> 8\u001b[0m value \u001b[38;5;241m=\u001b[39m \u001b[43mmy_dict\u001b[49m\u001b[43m[\u001b[49m\u001b[43mky\u001b[49m\u001b[43m]\u001b[49m  \u001b[38;5;66;03m# Raises KeyError: 'country'\u001b[39;00m\n",
      "\u001b[1;31mKeyError\u001b[0m: 'country'"
     ]
    }
   ],
   "source": [
    "my_dict = {'name': 'Alice', 'age': 30, 'city': 'New York'}\n",
    "\n",
    "ky = \"name\"\n",
    "value = my_dict[ky]  # Returns 'Alice'\n",
    "print(value)  # Output: Alice\n",
    "\n",
    "ky = \"country\"\n",
    "value = my_dict[ky]  # Raises KeyError: 'country'\n"
   ]
  },
  {
   "cell_type": "code",
   "execution_count": 9,
   "metadata": {},
   "outputs": [
    {
     "name": "stdout",
     "output_type": "stream",
     "text": [
      "Alice\n",
      "None\n"
     ]
    }
   ],
   "source": [
    "my_dict = {'name': 'Alice', 'age': 30, 'city': 'New York'}\n",
    "\n",
    "ky = \"name\"\n",
    "value = my_dict.get(ky)  # Returns 'Alice'\n",
    "print(value)  # Output: Alice\n",
    "\n",
    "ky = \"country\"\n",
    "value = my_dict.get(ky)  # Returns None because 'country' is not in the dictionary\n",
    "print(value)  # Output: None\n"
   ]
  },
  {
   "cell_type": "markdown",
   "metadata": {},
   "source": [
    "### When to Use:\n",
    "    Use my_dict[ky] when you are certain the key exists in the dictionary and you want to enforce the presence of the key.\n",
    "    Use my_dict.get(ky) when the key might not be present and you want to avoid errors, possibly providing a fallback value."
   ]
  },
  {
   "cell_type": "code",
   "execution_count": 2,
   "metadata": {},
   "outputs": [],
   "source": [
    "class Book:\n",
    "    id:int\n",
    "    title:str\n",
    "    author: str\n",
    "    description:str\n",
    "    rating:str\n",
    "    published_date:str\n",
    "\n",
    "\n",
    "    def __init__(self,id, title, author, description, rating, published_date ):\n",
    "        self.id = id\n",
    "        self.title = title\n",
    "        self.author = author\n",
    "        self.description = description\n",
    "        self.rating = rating\n",
    "        self.published_date = published_date\n",
    "\n",
    "aa = Book(1, \"computer Science Pro\", \"codingwithroby\", \"A very nice book!\", 5, 2030)\n",
    "\n",
    "from pydantic import Field, BaseModel\n",
    "from typing import Optional\n",
    "\n",
    "class BookRequest(BaseModel):\n",
    "    id: Optional[int] = Field(description='ID is not needed on creation', default= None)\n",
    "    title:str = Field(min_length= 3)\n",
    "    author:str = Field(min_length=1)\n",
    "    description :str = Field(min_length= 1, max_length= 100)\n",
    "    rating:int = Field(gt=0,lt=6)\n",
    "    published_date:int = Field(gt=1999, lt=2031)"
   ]
  },
  {
   "cell_type": "code",
   "execution_count": 15,
   "metadata": {},
   "outputs": [
    {
     "data": {
      "text/plain": [
       "<__main__.Book at 0x1be6703c490>"
      ]
     },
     "execution_count": 15,
     "metadata": {},
     "output_type": "execute_result"
    }
   ],
   "source": [
    "aa"
   ]
  },
  {
   "cell_type": "code",
   "execution_count": 3,
   "metadata": {},
   "outputs": [
    {
     "name": "stdout",
     "output_type": "stream",
     "text": [
      "1 validation error for BookRequest\n",
      "published_date\n",
      "  Input should be greater than 1999 [type=greater_than, input_value=1925, input_type=int]\n",
      "    For further information visit https://errors.pydantic.dev/2.4/v/greater_than\n"
     ]
    }
   ],
   "source": [
    "from pydantic import ValidationError\n",
    "\n",
    "# Creating a valid BookRequest instance\n",
    "try:\n",
    "    book = BookRequest(\n",
    "        id=1,\n",
    "        title=\"The Great Gatsby\",\n",
    "        author=\"F. Scott Fitzgerald\",\n",
    "        description=\"A novel about the American dream.\",\n",
    "        rating=5,\n",
    "        published_date=1925\n",
    "    )\n",
    "    print(book)\n",
    "except ValidationError as e:\n",
    "    print(e)\n"
   ]
  },
  {
   "cell_type": "code",
   "execution_count": 4,
   "metadata": {},
   "outputs": [
    {
     "name": "stdout",
     "output_type": "stream",
     "text": [
      "Validation Error: 3 validation errors for BookRequest\n",
      "title\n",
      "  String should have at least 3 characters [type=string_too_short, input_value='Go', input_type=str]\n",
      "    For further information visit https://errors.pydantic.dev/2.4/v/string_too_short\n",
      "rating\n",
      "  Input should be less than 6 [type=less_than, input_value=6, input_type=int]\n",
      "    For further information visit https://errors.pydantic.dev/2.4/v/less_than\n",
      "published_date\n",
      "  Input should be greater than 1999 [type=greater_than, input_value=1960, input_type=int]\n",
      "    For further information visit https://errors.pydantic.dev/2.4/v/greater_than\n"
     ]
    }
   ],
   "source": [
    "from pydantic import ValidationError\n",
    "\n",
    "# Trying to create an invalid BookRequest instance\n",
    "try:\n",
    "    invalid_book = BookRequest(\n",
    "        title=\"Go\",  # Title is too short (min_length=3)\n",
    "        author=\"Harper Lee\",\n",
    "        description=\"A novel about social justice.\",\n",
    "        rating=6,  # Rating is out of allowed range (should be 1-5)\n",
    "        published_date=1960\n",
    "    )\n",
    "except ValidationError as e:\n",
    "    print(\"Validation Error:\", e)\n"
   ]
  },
  {
   "cell_type": "code",
   "execution_count": 6,
   "metadata": {},
   "outputs": [
    {
     "name": "stdout",
     "output_type": "stream",
     "text": [
      "id=None title='To Kill a Mockingbird' author='Harper Lee' description='A novel about racism and injustice.' rating=5 published_date=2000\n"
     ]
    }
   ],
   "source": [
    "# Creating a BookRequest without providing the optional id field\n",
    "book_without_id = BookRequest(\n",
    "    title=\"To Kill a Mockingbird\",\n",
    "    author=\"Harper Lee\",\n",
    "    description=\"A novel about racism and injustice.\",\n",
    "    rating=5,\n",
    "    published_date=2000\n",
    ")\n",
    "print(book_without_id)\n"
   ]
  },
  {
   "cell_type": "code",
   "execution_count": 9,
   "metadata": {},
   "outputs": [
    {
     "name": "stdout",
     "output_type": "stream",
     "text": [
      "Book Title: 1984\n",
      "Author: George Orwell\n",
      "Rating: 4\n"
     ]
    }
   ],
   "source": [
    "# Accessing individual attributes of the BookRequest instance\n",
    "book = BookRequest(\n",
    "    id=2,\n",
    "    title=\"1984\",\n",
    "    author=\"George Orwell\",\n",
    "    description=\"A dystopian novel.\",\n",
    "    rating=4,\n",
    "    published_date=2000\n",
    ")\n",
    "\n",
    "print(f\"Book Title: {book.title}\")\n",
    "print(f\"Author: {book.author}\")\n",
    "print(f\"Rating: {book.rating}\")\n"
   ]
  },
  {
   "cell_type": "code",
   "execution_count": 11,
   "metadata": {},
   "outputs": [
    {
     "name": "stdout",
     "output_type": "stream",
     "text": [
      "{'example': {'author': 'codingwithroby', 'description': 'A new description of a book', 'id': 1, 'published_date': 2029, 'rating': 5, 'title': 'A new book'}, 'properties': {'id': {'anyOf': [{'type': 'integer'}, {'type': 'null'}], 'default': None, 'description': 'ID is not needed on creation', 'title': 'Id'}, 'title': {'minLength': 3, 'title': 'Title', 'type': 'string'}, 'author': {'minLength': 1, 'title': 'Author', 'type': 'string'}, 'description': {'maxLength': 100, 'minLength': 1, 'title': 'Description', 'type': 'string'}, 'rating': {'exclusiveMaximum': 6, 'exclusiveMinimum': 0, 'title': 'Rating', 'type': 'integer'}, 'published_date': {'exclusiveMaximum': 2031, 'exclusiveMinimum': 1999, 'title': 'Published Date', 'type': 'integer'}}, 'required': ['title', 'author', 'description', 'rating', 'published_date'], 'title': 'BookRequest', 'type': 'object'}\n"
     ]
    }
   ],
   "source": [
    "from pydantic import Field, BaseModel\n",
    "from typing import Optional\n",
    "# from pydantic.schema import schema\n",
    "\n",
    "class BookRequest(BaseModel):\n",
    "    id: Optional[int] = Field(description='ID is not needed on creation', default=None)\n",
    "    title: str = Field(min_length=3)\n",
    "    author: str = Field(min_length=1)\n",
    "    description: str = Field(min_length=1, max_length=100)\n",
    "    rating: int = Field(gt=0, lt=6)\n",
    "    published_date: int = Field(gt=1999, lt=2031)\n",
    "\n",
    "    model_config = {\n",
    "        \"json_schema_extra\": {\n",
    "            \"example\": {\n",
    "                \"id\": 1,\n",
    "                \"title\": \"A new book\",\n",
    "                \"author\": \"codingwithroby\",\n",
    "                \"description\": \"A new description of a book\",\n",
    "                \"rating\": 5,\n",
    "                \"published_date\": 2029\n",
    "            }\n",
    "        }\n",
    "    }\n",
    "\n",
    "# Generating JSON schema\n",
    "book_schema = BookRequest.model_json_schema()\n",
    "print(book_schema)\n",
    "\n",
    "# # You can also use Pydantic's `schema` function for a broader schema generation\n",
    "# models_schema = schema([BookRequest], title=\"Book Request Schema\")\n",
    "# print(models_schema)\n"
   ]
  },
  {
   "cell_type": "code",
   "execution_count": 12,
   "metadata": {},
   "outputs": [
    {
     "data": {
      "text/plain": [
       "{'example': {'author': 'codingwithroby',\n",
       "  'description': 'A new description of a book',\n",
       "  'id': 1,\n",
       "  'published_date': 2029,\n",
       "  'rating': 5,\n",
       "  'title': 'A new book'},\n",
       " 'properties': {'id': {'anyOf': [{'type': 'integer'}, {'type': 'null'}],\n",
       "   'default': None,\n",
       "   'description': 'ID is not needed on creation',\n",
       "   'title': 'Id'},\n",
       "  'title': {'minLength': 3, 'title': 'Title', 'type': 'string'},\n",
       "  'author': {'minLength': 1, 'title': 'Author', 'type': 'string'},\n",
       "  'description': {'maxLength': 100,\n",
       "   'minLength': 1,\n",
       "   'title': 'Description',\n",
       "   'type': 'string'},\n",
       "  'rating': {'exclusiveMaximum': 6,\n",
       "   'exclusiveMinimum': 0,\n",
       "   'title': 'Rating',\n",
       "   'type': 'integer'},\n",
       "  'published_date': {'exclusiveMaximum': 2031,\n",
       "   'exclusiveMinimum': 1999,\n",
       "   'title': 'Published Date',\n",
       "   'type': 'integer'}},\n",
       " 'required': ['title', 'author', 'description', 'rating', 'published_date'],\n",
       " 'title': 'BookRequest',\n",
       " 'type': 'object'}"
      ]
     },
     "execution_count": 12,
     "metadata": {},
     "output_type": "execute_result"
    }
   ],
   "source": [
    "book_schema"
   ]
  },
  {
   "cell_type": "code",
   "execution_count": null,
   "metadata": {},
   "outputs": [],
   "source": []
  },
  {
   "cell_type": "markdown",
   "metadata": {},
   "source": []
  }
 ],
 "metadata": {
  "kernelspec": {
   "display_name": "toolm",
   "language": "python",
   "name": "python3"
  },
  "language_info": {
   "codemirror_mode": {
    "name": "ipython",
    "version": 3
   },
   "file_extension": ".py",
   "mimetype": "text/x-python",
   "name": "python",
   "nbconvert_exporter": "python",
   "pygments_lexer": "ipython3",
   "version": "3.10.0"
  }
 },
 "nbformat": 4,
 "nbformat_minor": 2
}

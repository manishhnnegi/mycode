{
 "cells": [
  {
   "cell_type": "markdown",
   "id": "0d4ef9f5",
   "metadata": {},
   "source": [
    "# Recursion series striver youtube video lectures:"
   ]
  },
  {
   "cell_type": "markdown",
   "id": "d8bceef8",
   "metadata": {},
   "source": [
    "## Questions\n",
    "    Striver Questions:\n",
    "    ----------------------------------------\n",
    "    1. print name n times recursively\n",
    "    2. print 1 to N linearly\n",
    "    3. sum of n numbers\n",
    "    4. factorial calculation\n",
    "    5. reverse the list using recursion\n",
    "    6. check the string is paradrong or not\n",
    "    7. implement the series 0,1,1,2,3,4,8....\n",
    "    8. print sub sequence of a string/ list\n",
    "    9. print only one sub sequence\n",
    "    10. print sum of the sub string\n",
    "    \n",
    "    Random Questions:\n",
    "    ---------------------------------------\n",
    "    11.implement X raise to power n\n",
    "    12. a digit string is good if the even position are even no and odd are prime nos\n",
    "    13. sort the list using recursion\n",
    "    14. generate all binary strings without consecutive 1's{000,001,100,101}\n",
    "    "
   ]
  },
  {
   "cell_type": "code",
   "execution_count": null,
   "id": "91a75e31",
   "metadata": {},
   "outputs": [],
   "source": [
    "# code format\n",
    "\n",
    "def main(X):\n",
    "    \n",
    "    def fn(idx):\n",
    "        # --------------->base condition\n",
    "        if idx>len(X):\n",
    "            return \n",
    "        \n",
    "        #--------------->logic to process\n",
    "        #............\n",
    "        #.............\n",
    "        \n",
    "        #-------------------> recursion\n",
    "        answer1 = fn(idx+1)\n",
    "     \n",
    "    # recursion 1st fun call\n",
    "    answer2 = fn(0)\n",
    "    \n",
    "    return answer2\n",
    "\n",
    "\n",
    "if __name__ == \"__main__\":\n",
    "    main(X)\n"
   ]
  },
  {
   "cell_type": "code",
   "execution_count": 1,
   "id": "92e4704d",
   "metadata": {},
   "outputs": [],
   "source": [
    "# print name n times recursively"
   ]
  },
  {
   "cell_type": "code",
   "execution_count": 8,
   "id": "e20c0e89",
   "metadata": {},
   "outputs": [
    {
     "name": "stdout",
     "output_type": "stream",
     "text": [
      "manish\n",
      "manish\n"
     ]
    }
   ],
   "source": [
    "def main(name, n):\n",
    "    def fn(idx):\n",
    "        if idx>n:\n",
    "            return\n",
    "        print(name)\n",
    "        \n",
    "        fn(idx+1)\n",
    "    fn(1)\n",
    "        \n",
    "        \n",
    "if __name__ == \"__main__\":\n",
    "    name = \"manish\"\n",
    "    n = 2\n",
    "    main(name,n)"
   ]
  },
  {
   "cell_type": "code",
   "execution_count": 11,
   "id": "b3727ec2",
   "metadata": {},
   "outputs": [
    {
     "name": "stdout",
     "output_type": "stream",
     "text": [
      "['manish', 'manish', 'manish', 'manish']\n"
     ]
    }
   ],
   "source": [
    "# retrun List of name not print it \n",
    "\n",
    "def main(name,n):\n",
    "    def fn(idx):\n",
    "        if idx>n:\n",
    "            return\n",
    "        results.append(name)\n",
    "        fn(idx+1)\n",
    "     \n",
    "    \n",
    "    results = []\n",
    "    fn(0)\n",
    "    \n",
    "    return results\n",
    "    \n",
    "if __name__ == \"__main__\":\n",
    "    name = \"manish\"\n",
    "    n = 3\n",
    "    ans = main(name,n)\n",
    "    print(ans)\n",
    "        \n",
    "        "
   ]
  },
  {
   "cell_type": "code",
   "execution_count": 26,
   "id": "c27be769",
   "metadata": {},
   "outputs": [
    {
     "name": "stdout",
     "output_type": "stream",
     "text": [
      "['manish', 'manish', 'manish']\n"
     ]
    }
   ],
   "source": [
    "# retrun name not print it \n",
    "\n",
    "def fn(idx, name,n, results):\n",
    "    if idx>n:\n",
    "        return\n",
    "    results.append(name)\n",
    "    fn(idx+1, name,n, results)\n",
    "\n",
    "def main(name,n):\n",
    "    results = []\n",
    "    fn(1, name,n, results)\n",
    "    return results\n",
    "    \n",
    "if __name__ == \"__main__\":\n",
    "    name = \"manish\"\n",
    "    n = 3\n",
    "    ans = main(name,n)\n",
    "    print(ans)\n",
    "        \n",
    "        "
   ]
  },
  {
   "cell_type": "code",
   "execution_count": 27,
   "id": "481811a4",
   "metadata": {},
   "outputs": [],
   "source": [
    "# print 1 to N linearly"
   ]
  },
  {
   "cell_type": "code",
   "execution_count": 36,
   "id": "af3e9f23",
   "metadata": {},
   "outputs": [
    {
     "name": "stdout",
     "output_type": "stream",
     "text": [
      "1\n",
      "2\n",
      "3\n",
      "4\n"
     ]
    }
   ],
   "source": [
    "def main(N):\n",
    "    def fn(idx):\n",
    "        if idx> N:\n",
    "            return\n",
    "        print(idx)\n",
    "        fn(idx+1) \n",
    "     \n",
    "    fn(1)\n",
    "\n",
    "if __name__ == \"__main__\":\n",
    "    main(4)"
   ]
  },
  {
   "cell_type": "code",
   "execution_count": 35,
   "id": "8cfc299a",
   "metadata": {},
   "outputs": [
    {
     "name": "stdout",
     "output_type": "stream",
     "text": [
      "4\n",
      "3\n",
      "2\n",
      "1\n"
     ]
    }
   ],
   "source": [
    "# reverse of N to 1 count\n",
    "def main(N):\n",
    "    def fn(idx):\n",
    "        if idx> N:\n",
    "            return\n",
    "     \n",
    "        fn(idx+1) \n",
    "        print(idx)\n",
    "    fn(1)\n",
    "\n",
    "if __name__ == \"__main__\":\n",
    "    main(4)"
   ]
  },
  {
   "cell_type": "code",
   "execution_count": 37,
   "id": "f757df34",
   "metadata": {},
   "outputs": [
    {
     "name": "stdout",
     "output_type": "stream",
     "text": [
      "[4, 3, 2, 1]\n"
     ]
    }
   ],
   "source": [
    "# reverse of N to 1 count and retrun it in list\n",
    "def main(N):\n",
    "    def fn(idx):\n",
    "        if idx> N:\n",
    "            return\n",
    "        fn(idx+1) \n",
    "        results.append(idx)\n",
    "        \n",
    "    results = []\n",
    "    fn(1)\n",
    "    return results\n",
    "\n",
    "if __name__ == \"__main__\":\n",
    "    ans = main(4)\n",
    "    print(ans)"
   ]
  },
  {
   "cell_type": "code",
   "execution_count": 40,
   "id": "c0bad511",
   "metadata": {},
   "outputs": [
    {
     "name": "stdout",
     "output_type": "stream",
     "text": [
      "10\n"
     ]
    }
   ],
   "source": [
    "# print sum of n numbers\n",
    "\n",
    "def main(N):\n",
    "    def fn(idx, sum):\n",
    "        if idx>N:\n",
    "            print(sum)\n",
    "            return \n",
    "        sum+=idx\n",
    "        \n",
    "        fn(idx+1, sum)\n",
    "        \n",
    "    fn(1, 0)\n",
    "    \n",
    "\n",
    "if __name__ == \"__main__\":\n",
    "    main(4)\n",
    "    \n",
    "        "
   ]
  },
  {
   "cell_type": "code",
   "execution_count": 41,
   "id": "cdeac922",
   "metadata": {},
   "outputs": [
    {
     "name": "stdout",
     "output_type": "stream",
     "text": [
      "10\n"
     ]
    }
   ],
   "source": [
    "def main(N):\n",
    "    def fn(idx, sum):\n",
    "        if idx>N:\n",
    "            return sum\n",
    "        sum+=idx\n",
    "        \n",
    "        return fn(idx+1, sum)\n",
    "        \n",
    "    return fn(1, 0)\n",
    "    \n",
    "\n",
    "if __name__ == \"__main__\":\n",
    "    ans = main(4)\n",
    "    print(ans)"
   ]
  },
  {
   "cell_type": "code",
   "execution_count": 43,
   "id": "be516e97",
   "metadata": {},
   "outputs": [
    {
     "name": "stdout",
     "output_type": "stream",
     "text": [
      "1\n"
     ]
    }
   ],
   "source": [
    "# wrong approach\n",
    "\n",
    "def main(N):\n",
    "    def fn(idx, sum):\n",
    "        if idx>N:\n",
    "            return \n",
    "         \n",
    "        fn(idx+1, sum)\n",
    "        sum += idx\n",
    "        return sum\n",
    "        \n",
    "        \n",
    "    return fn(1, 0)\n",
    "    \n",
    "\n",
    "if __name__ == \"__main__\":\n",
    "    ans = main(4)\n",
    "    print(ans)"
   ]
  },
  {
   "cell_type": "code",
   "execution_count": null,
   "id": "333831bb",
   "metadata": {},
   "outputs": [],
   "source": [
    "# factorial calculation\n",
    "\n",
    "def main(N):\n",
    "    def fn(idx):\n",
    "        if idx <1:\n",
    "            return\n",
    "        \n",
    "        fn(idx-1)\n",
    "        \n",
    "    fn(N)\n",
    "\n",
    "if __name__ == \"__main__\":\n",
    "    main(4)   #24ans--> 4*3*2*1"
   ]
  },
  {
   "cell_type": "code",
   "execution_count": 44,
   "id": "e38f10b0",
   "metadata": {},
   "outputs": [
    {
     "name": "stdout",
     "output_type": "stream",
     "text": [
      "4\n",
      "3\n",
      "2\n",
      "1\n"
     ]
    }
   ],
   "source": [
    "def main(N):\n",
    "    def fn(idx):\n",
    "        if idx<1:\n",
    "            return\n",
    "        print(idx)\n",
    "        fn(idx-1)\n",
    "        \n",
    "    fn(N)\n",
    "if __name__ == \"__main__\":\n",
    "    main(4)   #24ans--> 4*3*2*1"
   ]
  },
  {
   "cell_type": "code",
   "execution_count": 49,
   "id": "e2b7c73e",
   "metadata": {},
   "outputs": [
    {
     "name": "stdout",
     "output_type": "stream",
     "text": [
      "10\n"
     ]
    }
   ],
   "source": [
    "def main(N):\n",
    "    def fn(idx, sum):\n",
    "        if idx<1:\n",
    "            return sum\n",
    "        sum +=idx\n",
    "        return fn(idx-1, sum)\n",
    "        \n",
    "    return fn(N, 0)\n",
    "\n",
    "if __name__ == \"__main__\":\n",
    "    ans = main(4)   #24ans--> 4*3*2*1\n",
    "    print(ans)"
   ]
  },
  {
   "cell_type": "code",
   "execution_count": 51,
   "id": "b9bcfb98",
   "metadata": {},
   "outputs": [
    {
     "name": "stdout",
     "output_type": "stream",
     "text": [
      "24\n"
     ]
    }
   ],
   "source": [
    "def main(N):\n",
    "    def fn(idx, fact):\n",
    "        if idx<1:\n",
    "            return fact\n",
    "        fact *= idx\n",
    "        return fn(idx-1, fact)\n",
    "    return fn(N, 1)\n",
    "    \n",
    "if __name__ == \"__main__\":\n",
    "    ans = main(4)   #24ans--> 4*3*2*1\n",
    "    print(ans)        "
   ]
  },
  {
   "cell_type": "code",
   "execution_count": 52,
   "id": "5c35b628",
   "metadata": {},
   "outputs": [
    {
     "name": "stdout",
     "output_type": "stream",
     "text": [
      "24\n"
     ]
    }
   ],
   "source": [
    "# second way to calculate factorial\n",
    "\n",
    "def mani(N):\n",
    "    def fn(n):\n",
    "        if n==1:\n",
    "            return 1\n",
    "        return n*fn(n-1)\n",
    "    return fn(N)\n",
    "    \n",
    "if __name__ == \"__main__\":\n",
    "    ans = main(4)   #24ans--> 4*3*2*1\n",
    "    print(ans)   "
   ]
  },
  {
   "cell_type": "code",
   "execution_count": 64,
   "id": "c8ffbc65",
   "metadata": {},
   "outputs": [
    {
     "name": "stdout",
     "output_type": "stream",
     "text": [
      "[7, 3, 4, 2, 1]\n"
     ]
    }
   ],
   "source": [
    "# reverse the list using recursion\n",
    "def main(arr,n):\n",
    "    def fn(idx):\n",
    "        if idx >= n//2:\n",
    "            return arr\n",
    "        arr[idx],arr[n-1-idx] = arr[n-1-idx], arr[idx]\n",
    "        return fn(idx+1)\n",
    "    return fn(0)\n",
    "\n",
    "if __name__ == \"__main__\":\n",
    "    arr = [1,2,4,3,7]\n",
    "    #arr= [1,7,3,8,22,3,4,5,6111,123]\n",
    "    n = len(arr)\n",
    "    ans = main(arr, n)  \n",
    "    print(ans)     "
   ]
  },
  {
   "cell_type": "code",
   "execution_count": 66,
   "id": "8b18d9cc",
   "metadata": {},
   "outputs": [
    {
     "name": "stdout",
     "output_type": "stream",
     "text": [
      "[7, 3, 4, 2, 1]\n"
     ]
    }
   ],
   "source": [
    "# reverse the list using recursion\n",
    "def main(arr,n):\n",
    "    def fn(idxs, idxe):\n",
    "        if idxs == idxe:\n",
    "            return arr\n",
    "        arr[idxs],arr[idxe] = arr[idxe], arr[idxs]\n",
    "        return fn(idxs+1, idxe-1)\n",
    "    return fn(0, n-1)\n",
    "\n",
    "if __name__ == \"__main__\":\n",
    "    arr = [1,2,4,3,7]\n",
    "    #arr= [1,7,3,8,22,3,4,5,6111,123]\n",
    "    n = len(arr)\n",
    "    ans = main(arr, n)  \n",
    "    print(ans) "
   ]
  },
  {
   "cell_type": "code",
   "execution_count": 76,
   "id": "6762fe98",
   "metadata": {},
   "outputs": [
    {
     "name": "stdout",
     "output_type": "stream",
     "text": [
      "8\n",
      "[0, 1, 1, 2, 3, 5, 8]\n"
     ]
    }
   ],
   "source": [
    "# example of multipe recursion calls\n",
    "# prnt the series 0,1,1,2,3,5,8,..........\n",
    "\n",
    "def main(N):\n",
    "    \"\"\"will give nth element of the series\"\"\"\n",
    "    \n",
    "    def fn(idx):\n",
    "        if idx == 1:\n",
    "            return 1\n",
    "        if idx == 0:\n",
    "            return 0\n",
    "        \n",
    "        return fn(idx-1)+fn(idx-2)\n",
    "    \n",
    "    \n",
    "    return fn(N)\n",
    "\n",
    "if __name__ == \"__main__\":\n",
    "    ans = main(6)\n",
    "    print(ans)\n",
    "    \n",
    "    results = []\n",
    "    for i in range(6+1):\n",
    "        ans = main(i)\n",
    "        results.append(ans)\n",
    "    print(results)\n",
    "       "
   ]
  },
  {
   "cell_type": "code",
   "execution_count": 88,
   "id": "41ad3783",
   "metadata": {},
   "outputs": [
    {
     "name": "stdout",
     "output_type": "stream",
     "text": [
      "[3, 1, 2]\n",
      "[3, 1]\n",
      "[3, 2]\n",
      "[3]\n",
      "[1, 2]\n",
      "[1]\n",
      "[2]\n",
      "[]\n"
     ]
    }
   ],
   "source": [
    "# print the subsequence of the string\n",
    "def main(arr, n):\n",
    "    def fn(idx, lst):\n",
    "        if idx>= n:\n",
    "            print(lst)\n",
    "            return\n",
    "        \n",
    "        lst.append(arr[idx])\n",
    "        fn(idx+1, lst)\n",
    "        #lst.pop()\n",
    "        lst.remove(arr[idx])\n",
    "        fn(idx+1, lst)\n",
    "    \n",
    "    lst = []\n",
    "    fn(0,lst)\n",
    "\n",
    "    \n",
    "if __name__ == \"__main__\":\n",
    "    arr = [3,1,2]\n",
    "    n = len(arr)\n",
    "    main(arr, n)       "
   ]
  },
  {
   "cell_type": "code",
   "execution_count": 104,
   "id": "144c0ae4",
   "metadata": {},
   "outputs": [
    {
     "name": "stdout",
     "output_type": "stream",
     "text": [
      "[[3, 1, 2], [3, 1], [3, 2], [3], [1, 2], [1], [2], []]\n"
     ]
    }
   ],
   "source": [
    "# print the subsequence of the string\n",
    "def main(arr, n):\n",
    "    def fn(idx, lst, results):\n",
    "        if idx>= n:\n",
    "            #print(lst)\n",
    "            results.append(lst[:])\n",
    "            return\n",
    "        \n",
    "        lst.append(arr[idx])\n",
    "        fn(idx+1, lst, results)\n",
    "        #lst.pop()\n",
    "        lst.remove(arr[idx])\n",
    "        fn(idx+1, lst, results)\n",
    "    \n",
    "    lst = []\n",
    "    results = []\n",
    "    fn(0,lst, results)\n",
    "    return results\n",
    "\n",
    "    \n",
    "if __name__ == \"__main__\":\n",
    "    arr = [3,1,2]\n",
    "    n = len(arr)\n",
    "    ans = main(arr, n) \n",
    "    print(ans)"
   ]
  },
  {
   "cell_type": "code",
   "execution_count": 99,
   "id": "3d4a6aeb",
   "metadata": {},
   "outputs": [
    {
     "name": "stdout",
     "output_type": "stream",
     "text": [
      "[[3, 1, 2], [3, 1], [3, 2], [3], [1, 2], [1], [2], []]\n"
     ]
    }
   ],
   "source": [
    "def main(arr, n):\n",
    "    def fn(idx, lst, result):\n",
    "        if idx >= n:\n",
    "            result.append(lst[:])  # Append a copy of lst\n",
    "            return\n",
    "        \n",
    "        # Include the current element\n",
    "        lst.append(arr[idx])\n",
    "        fn(idx + 1, lst, result)\n",
    "        \n",
    "        # Exclude the current element\n",
    "        lst.pop()\n",
    "        fn(idx + 1, lst, result)\n",
    "    \n",
    "    result = []\n",
    "    fn(0, [], result)\n",
    "    return result\n",
    "\n",
    "if __name__ == \"__main__\":\n",
    "    arr = [3, 1, 2]\n",
    "    n = len(arr)\n",
    "    subsequences = main(arr, n)\n",
    "    print(subsequences)\n"
   ]
  },
  {
   "cell_type": "code",
   "execution_count": 101,
   "id": "c8d5c23b",
   "metadata": {},
   "outputs": [
    {
     "data": {
      "text/plain": [
       "[1, 2, 4]"
      ]
     },
     "execution_count": 101,
     "metadata": {},
     "output_type": "execute_result"
    }
   ],
   "source": [
    "lst[:]"
   ]
  },
  {
   "cell_type": "code",
   "execution_count": 105,
   "id": "a15c7f9a",
   "metadata": {},
   "outputs": [
    {
     "name": "stdout",
     "output_type": "stream",
     "text": [
      "[[], [2], [1], [1, 2], [3], [3, 2], [3, 1], [3, 1, 2]]\n"
     ]
    }
   ],
   "source": [
    "def get_subsequences(arr):\n",
    "    def helper(idx, current):\n",
    "        if idx == len(arr):\n",
    "            result.append(current)\n",
    "            return\n",
    "        # Recursive case: Exclude or include the current element\n",
    "        helper(idx + 1, current)  # Exclude the current element\n",
    "        helper(idx + 1, current + [arr[idx]])  # Include the current element\n",
    "    \n",
    "    result = []\n",
    "    helper(0, [])\n",
    "    return result\n",
    "\n",
    "if __name__ == \"__main__\":\n",
    "    arr = [3, 1, 2]\n",
    "    subsequences = get_subsequences(arr)\n",
    "    print(subsequences)\n"
   ]
  },
  {
   "cell_type": "code",
   "execution_count": 91,
   "id": "122e71c7",
   "metadata": {},
   "outputs": [
    {
     "name": "stdout",
     "output_type": "stream",
     "text": [
      "6\n",
      "4\n",
      "5\n",
      "3\n",
      "3\n",
      "1\n",
      "2\n",
      "0\n"
     ]
    }
   ],
   "source": [
    "# print the sum of each subsequence of the string\n",
    "def main(arr, n):\n",
    "    def fn(idx, lst):\n",
    "        if idx>= n:\n",
    "            print(sum(lst))\n",
    "            return\n",
    "        \n",
    "        lst.append(arr[idx])\n",
    "        fn(idx+1, lst)\n",
    "        #lst.pop()\n",
    "        lst.remove(arr[idx])\n",
    "        fn(idx+1, lst)\n",
    "    \n",
    "    lst = []\n",
    "    fn(0,lst)\n",
    "\n",
    "    \n",
    "if __name__ == \"__main__\":\n",
    "    arr = [3,1,2]\n",
    "    n = len(arr)\n",
    "    main(arr, n)       "
   ]
  },
  {
   "cell_type": "code",
   "execution_count": null,
   "id": "68d59f49",
   "metadata": {},
   "outputs": [],
   "source": []
  },
  {
   "cell_type": "code",
   "execution_count": null,
   "id": "055a6504",
   "metadata": {},
   "outputs": [],
   "source": []
  },
  {
   "cell_type": "code",
   "execution_count": null,
   "id": "874eff06",
   "metadata": {},
   "outputs": [],
   "source": []
  }
 ],
 "metadata": {
  "kernelspec": {
   "display_name": "Python 3 (ipykernel)",
   "language": "python",
   "name": "python3"
  },
  "language_info": {
   "codemirror_mode": {
    "name": "ipython",
    "version": 3
   },
   "file_extension": ".py",
   "mimetype": "text/x-python",
   "name": "python",
   "nbconvert_exporter": "python",
   "pygments_lexer": "ipython3",
   "version": "3.11.4"
  }
 },
 "nbformat": 4,
 "nbformat_minor": 5
}

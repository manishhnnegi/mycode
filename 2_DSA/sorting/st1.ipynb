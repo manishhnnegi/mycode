{
 "cells": [
  {
   "cell_type": "code",
   "execution_count": 18,
   "id": "a8a60116",
   "metadata": {},
   "outputs": [
    {
     "data": {
      "text/plain": [
       "[1, 2, 5, 7, 8, 9]"
      ]
     },
     "execution_count": 18,
     "metadata": {},
     "output_type": "execute_result"
    }
   ],
   "source": [
    "# selection sorting: O(n2)\n",
    "# 1st: find the index of sortest element in the array\n",
    "#---------------------------------------------------\n",
    "\n",
    "\n",
    "arr = [7, 5, 9, 2, 8,1]\n",
    "n = len(arr)\n",
    "\n",
    "\n",
    "for i in range(len(arr)):\n",
    "    min = i\n",
    "    for j in range(i, len(arr)):\n",
    "        if arr[j]<arr[min]:\n",
    "            min = j   \n",
    "    arr[min], arr[i] = arr[i], arr[min]\n",
    "    \n",
    "    \n",
    "    #print(\"---------------------\")\n",
    "    \n",
    "arr"
   ]
  },
  {
   "cell_type": "code",
   "execution_count": 15,
   "id": "6c8665bf",
   "metadata": {
    "scrolled": true
   },
   "outputs": [
    {
     "name": "stdout",
     "output_type": "stream",
     "text": [
      "1\n",
      "2\n",
      "3\n",
      "4\n",
      "5\n",
      "----\n",
      "2\n",
      "3\n",
      "4\n",
      "5\n",
      "----\n",
      "3\n",
      "4\n",
      "5\n",
      "----\n",
      "4\n",
      "5\n",
      "----\n",
      "5\n",
      "----\n",
      "-------------------------\n",
      "0\n",
      "1\n",
      "2\n",
      "3\n",
      "4\n",
      "5\n",
      "----\n",
      "1\n",
      "2\n",
      "3\n",
      "4\n",
      "5\n",
      "----\n",
      "2\n",
      "3\n",
      "4\n",
      "5\n",
      "----\n",
      "3\n",
      "4\n",
      "5\n",
      "----\n",
      "4\n",
      "5\n",
      "----\n",
      "5\n",
      "----\n"
     ]
    }
   ],
   "source": [
    "# use of range to give iterations of different parttermn\n",
    "#------------------------------------------\n",
    "for i in range(n-1):\n",
    "    for j in range(i+1, n):\n",
    "        print(j)\n",
    "        \n",
    "    print(\"----\")\n",
    "\n",
    "print(\"-------------------------\")\n",
    "for i in range(n):\n",
    "    for j in range(i, n):\n",
    "        print(j)\n",
    "    \n",
    "    print(\"----\")"
   ]
  },
  {
   "cell_type": "code",
   "execution_count": 35,
   "id": "75409ee2",
   "metadata": {},
   "outputs": [
    {
     "name": "stdout",
     "output_type": "stream",
     "text": [
      "4\n",
      "0 1\n",
      "1 2\n",
      "2 3\n",
      "3 4\n",
      "3\n",
      "0 1\n",
      "1 2\n",
      "2 3\n",
      "2\n",
      "0 1\n",
      "1 2\n",
      "1\n",
      "0 1\n"
     ]
    }
   ],
   "source": [
    "# bubble sort: O(n2)\n",
    "# The algorithm steps are as follows:\n",
    "\n",
    "# First, we will select the range of the unsorted array. For that, we will run a loop(say i) \n",
    "# that will signify the last index of the selected range. The loop will run backward from index n-1 to 0(where n = size of the array). The value i = n-1 means the range is from 0 to n-1, and similarly, i = n-2 means the range is from 0 to n-2, and so on.\n",
    "# Within the loop, we will run another loop(say j, runs from 0 to i-1 though the range is from 0 to i) to push the maximum element to the last index of the selected range, by repeatedly swapping adjacent elements.\n",
    "# Basically, we will swap adjacent elements(if arr[j] > arr[j+1]) until the maximum element of the range reaches the end.\n",
    "# Thus, after each iteration, the last part of the array will become sorted. Like: after the first iteration, the array up to the last index will be sorted, and after the second iteration, the array up to the second last index will be sorted, and so on.\n",
    "# After (n-1) iteration, the whole array will be sorted.\n",
    "# Note: Here, after each iteration, the array becomes sorted up to the last index of the range. \n",
    "# That is why the last index of the range decreases by 1 after each iteration. This decrement is achieved by \n",
    "# the outer loop and the last index is represented by variable i in the following code. And the inner loop(i.e. j) \n",
    "# helps to push the maximum element of range [0….i] to the last index(i.e. index i).\n",
    "\n",
    "\n",
    "#-----------------------------------------------------------------------------------------\n",
    "# After (n-1) iteration, the whole array will be sorted.\n",
    "# after each iteration, the last part of the array will become sorted.\n",
    "\n",
    "\n",
    "\n",
    "\n",
    "\n",
    "# solution 1:\n",
    "#-----------------------------------\n",
    "\n",
    "for i in range(n-1, 0,-1):\n",
    "    print(i)\n",
    "    for j in range(i):\n",
    "        print(j,j+1)\n",
    "        if arr[j] > arr[j+1]:\n",
    "            arr[j], arr[j+1] = arr[j+1], arr[j]"
   ]
  },
  {
   "cell_type": "code",
   "execution_count": 34,
   "id": "29e6bd05",
   "metadata": {
    "scrolled": true
   },
   "outputs": [
    {
     "name": "stdout",
     "output_type": "stream",
     "text": [
      "0\n",
      "1 2\n",
      "2 3\n",
      "3 4\n",
      "4 5\n",
      "1\n",
      "2 3\n",
      "3 4\n",
      "4 5\n",
      "2\n",
      "3 4\n",
      "4 5\n",
      "3\n",
      "4 5\n"
     ]
    },
    {
     "data": {
      "text/plain": [
       "[1, 2, 5, 7, 8, 9]"
      ]
     },
     "execution_count": 34,
     "metadata": {},
     "output_type": "execute_result"
    }
   ],
   "source": [
    "# altenative loop iteration:\n",
    "#---------------------------------------------\n",
    "\n",
    "\n",
    "for i in range(n-1):\n",
    "    print(i)\n",
    "    for j in range(i+1, n):\n",
    "        print(j,j+1)\n",
    "        if arr[j] > arr[j+1]:\n",
    "            arr[j], arr[j+1] = arr[j+1], arr[j]\n",
    "\n",
    "arr"
   ]
  },
  {
   "cell_type": "code",
   "execution_count": 36,
   "id": "0cfec322",
   "metadata": {},
   "outputs": [
    {
     "data": {
      "text/plain": [
       "[9, 13, 20, 24, 46, 52]"
      ]
     },
     "execution_count": 36,
     "metadata": {},
     "output_type": "execute_result"
    }
   ],
   "source": [
    "# insertion sorting: O(n)\n",
    "#---------------------------------------\n",
    "\n",
    "# insertion sort\n",
    "\n",
    "def isr(arr, n):\n",
    "  for i in range(n):\n",
    "    j = i\n",
    "    while j>0 and arr[j-1] >arr[j]:\n",
    "      arr[j-1], arr[j] = arr[j], arr[j-1]\n",
    "      j= j-1\n",
    "\n",
    "  return arr\n",
    "arr = [13,46,24,52,20,9]\n",
    "n = len(arr)\n",
    "isr(arr,n)"
   ]
  },
  {
   "cell_type": "code",
   "execution_count": null,
   "id": "2a478527",
   "metadata": {},
   "outputs": [],
   "source": []
  }
 ],
 "metadata": {
  "kernelspec": {
   "display_name": "Python 3 (ipykernel)",
   "language": "python",
   "name": "python3"
  },
  "language_info": {
   "codemirror_mode": {
    "name": "ipython",
    "version": 3
   },
   "file_extension": ".py",
   "mimetype": "text/x-python",
   "name": "python",
   "nbconvert_exporter": "python",
   "pygments_lexer": "ipython3",
   "version": "3.11.4"
  }
 },
 "nbformat": 4,
 "nbformat_minor": 5
}

{
 "cells": [
  {
   "cell_type": "markdown",
   "metadata": {},
   "source": [
    "### print name n times"
   ]
  },
  {
   "cell_type": "code",
   "execution_count": 26,
   "metadata": {},
   "outputs": [
    {
     "name": "stdout",
     "output_type": "stream",
     "text": [
      "manish\n",
      "manish\n",
      "manish\n",
      "manish\n"
     ]
    }
   ],
   "source": [
    "# def main(n, name):\n",
    "#     for i in range(n):\n",
    "#         print(name)\n",
    "\n",
    "# main(4,'mainsh')  \n",
    "\n",
    "\n",
    "def main(n,name):\n",
    "\n",
    "    def rec_fun(i, name,n):\n",
    "        if i>n:                 # base case\n",
    "            return \n",
    "        print(name)\n",
    "        rec_fun(i+1, name,n)    # recursion\n",
    "     \n",
    "\n",
    "    rec_fun(1, name,n)\n",
    "\n",
    "main(4,'manish')"
   ]
  },
  {
   "cell_type": "markdown",
   "metadata": {},
   "source": [
    "## recursion tree\n",
    "\n",
    "    main(n = 4, 'manish)\n",
    "        rec_fun(1)\n",
    "            print(name)----> manish\n",
    "                rec_fun(2)\n",
    "                    print(name)---->manish\n",
    "                        rec_fun(3)\n",
    "                            print(name)--->manish\n",
    "                                rec_fun(4)\n",
    "                                    print(name)---->manish\n",
    "                                    rec_fun(5)\n",
    "                                        5 > n=4---> return\n",
    "\n"
   ]
  },
  {
   "cell_type": "markdown",
   "metadata": {},
   "source": [
    "### print 1 to N linearly"
   ]
  },
  {
   "cell_type": "code",
   "execution_count": 27,
   "metadata": {},
   "outputs": [
    {
     "name": "stdout",
     "output_type": "stream",
     "text": [
      "1\n",
      "2\n",
      "3\n",
      "4\n"
     ]
    }
   ],
   "source": [
    "def main(N):\n",
    "    def rec_fun(i,N):\n",
    "        if i>N:      # base condition\n",
    "            return\n",
    "        print(i)\n",
    "        rec_fun(i+1,N)\n",
    "        \n",
    "    \n",
    "    rec_fun(1,N)\n",
    "\n",
    "main(4)\n"
   ]
  },
  {
   "cell_type": "markdown",
   "metadata": {},
   "source": [
    "    main(N = 4)\n",
    "        rec_fun(1)\n",
    "            print(1)---->1\n",
    "                rec_fun(2)\n",
    "                    print(2)---->2\n",
    "                        rec_fun(3)\n",
    "                            print(3)--->3\n",
    "                                rec_fun(4)\n",
    "                                    print(4)--->4\n",
    "                                    rec-fun(5)\n",
    "                                        5>n=4---> return from 5\n",
    "                                    return from 4\n",
    "                            return from 3\n",
    "                    return from 2\n",
    "            return from 1\n",
    "        return from main"
   ]
  },
  {
   "cell_type": "markdown",
   "metadata": {},
   "source": [
    "### print 1 to N linearly without using i+1:"
   ]
  },
  {
   "cell_type": "code",
   "execution_count": 28,
   "metadata": {},
   "outputs": [
    {
     "name": "stdout",
     "output_type": "stream",
     "text": [
      "1\n",
      "2\n",
      "3\n",
      "4\n"
     ]
    }
   ],
   "source": [
    "def main(N):\n",
    "    \n",
    "    def rec_fun(N,i):\n",
    "        if i==0:   #base condition\n",
    "            return\n",
    "        rec_fun(N,i-1)\n",
    "        print(i)\n",
    "         \n",
    "        \n",
    "    rec_fun(N,i= N)\n",
    "    \n",
    "\n",
    "main(4)"
   ]
  },
  {
   "cell_type": "markdown",
   "metadata": {},
   "source": [
    "    main(N= 4)\n",
    "        rec_fun(4)\n",
    "            rec_fun(3)\n",
    "                rec_fun(2)  \n",
    "                    rec_fun(1)\n",
    "                        rec_fun(0)\n",
    "                            return\n",
    "                        print(1)\n",
    "                    print(2)\n",
    "                print(3)\n",
    "            print(4)\n",
    "        return\n",
    "\n",
    "        \n",
    "        \n",
    "             \n",
    "                                    "
   ]
  },
  {
   "cell_type": "markdown",
   "metadata": {},
   "source": [
    "### print no from N to 1 using i+1"
   ]
  },
  {
   "cell_type": "code",
   "execution_count": 30,
   "metadata": {},
   "outputs": [
    {
     "name": "stdout",
     "output_type": "stream",
     "text": [
      "4\n",
      "3\n",
      "2\n",
      "1\n"
     ]
    }
   ],
   "source": [
    "def main(N):\n",
    "    def rec_fun(i,N):\n",
    "        if i >N :  # base condition\n",
    "            return\n",
    "        rec_fun(i+1,N)   # recursion condition\n",
    "        print(i)\n",
    "    \n",
    "    rec_fun(1,N)\n",
    "\n",
    "main(4)\n",
    "\n"
   ]
  },
  {
   "cell_type": "markdown",
   "metadata": {},
   "source": [
    "    main(N = 4)\n",
    "        rec_fun(1)\n",
    "            retrun\n",
    "                rec_fun(2)\n",
    "                    retrun\n",
    "                        rec_fun(3)\n",
    "                            retrun\n",
    "                                rec_fun(4)\n",
    "                                    retrun\n",
    "                                        5>n=4---> return from 5\n",
    "                                    print(4)--4\n",
    "                            rprint(3)---3\n",
    "                    print(2)--2\n",
    "            print(1)--1\n",
    "        return from main"
   ]
  },
  {
   "cell_type": "markdown",
   "metadata": {},
   "source": [
    "### sum of N numbers using parametrised way:"
   ]
  },
  {
   "cell_type": "code",
   "execution_count": 38,
   "metadata": {},
   "outputs": [
    {
     "name": "stdout",
     "output_type": "stream",
     "text": [
      "6\n"
     ]
    }
   ],
   "source": [
    "def main(N):\n",
    "    def rec_fun(i,N, sum):\n",
    "        #print(\"--------------------------\",i)\n",
    "\n",
    "        if i>N:\n",
    "            print(sum)\n",
    "            return sum\n",
    "        \n",
    "        sum+=i\n",
    "        rec_fun(i+1,N , sum)\n",
    "    \n",
    "    return rec_fun(1, N, sum= 0)\n",
    "\n",
    "aa=main(3)\n"
   ]
  },
  {
   "cell_type": "code",
   "execution_count": 39,
   "metadata": {},
   "outputs": [],
   "source": [
    "aa"
   ]
  },
  {
   "cell_type": "code",
   "execution_count": null,
   "metadata": {},
   "outputs": [],
   "source": []
  }
 ],
 "metadata": {
  "kernelspec": {
   "display_name": "gpt",
   "language": "python",
   "name": "python3"
  },
  "language_info": {
   "codemirror_mode": {
    "name": "ipython",
    "version": 3
   },
   "file_extension": ".py",
   "mimetype": "text/x-python",
   "name": "python",
   "nbconvert_exporter": "python",
   "pygments_lexer": "ipython3",
   "version": "3.12.0"
  }
 },
 "nbformat": 4,
 "nbformat_minor": 2
}

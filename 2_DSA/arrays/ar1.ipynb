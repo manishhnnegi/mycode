{
 "cells": [
  {
   "cell_type": "code",
   "execution_count": 14,
   "id": "1bab97bc",
   "metadata": {},
   "outputs": [
    {
     "name": "stdout",
     "output_type": "stream",
     "text": [
      "[0, 1]\n"
     ]
    },
    {
     "data": {
      "text/plain": [
       "[0, 1]"
      ]
     },
     "execution_count": 14,
     "metadata": {},
     "output_type": "execute_result"
    }
   ],
   "source": [
    "# Given an array of integers nums and an integer target, return indices of the two numbers such that they add up to target.\n",
    "\n",
    "# You may assume that each input would have exactly one solution, and you may not use the same element twice.\n",
    "\n",
    "# You can return the answer in any order.\n",
    "\n",
    " \n",
    "\n",
    "# Example 1:\n",
    "\n",
    "# Input: nums = [2,7,11,15], target = 9\n",
    "# Output: [0,1]\n",
    "# Explanation: Because nums[0] + nums[1] == 9, we return [0, 1].\n",
    "# Example 2:\n",
    "\n",
    "# Input: nums = [3,2,4], target = 6\n",
    "# Output: [1,2]\n",
    "# Example 3:\n",
    "\n",
    "# Input: nums = [3,3], target = 6\n",
    "# Output: [0,1]\n",
    "\n",
    "#--------------------------------------------------------------------------------------\n",
    "\n",
    "\n",
    "\n",
    "\n",
    "# solution 1: O(n2)\n",
    "#--------------------------------------------------------------------\n",
    "\n",
    "nums = [2,7,11,15]\n",
    "target = 9\n",
    "\n",
    "for i in range(len(nums)):\n",
    "    for j in range(i+1, len(nums)):             \n",
    "        if nums[i] + nums[j] == target:\n",
    "            print([i,j])\n",
    "    \n",
    " \n",
    "class Solution(object):\n",
    "    def twoSum(self, nums, target):\n",
    "        \"\"\"\n",
    "        :type nums: List[int]\n",
    "        :type target: int\n",
    "        :rtype: List[int]\n",
    "        \"\"\"\n",
    "        for i in range(len(nums)):\n",
    "            for j in range(i+1, len(nums)):             \n",
    "                if nums[i] + nums[j] == target:\n",
    "                    return [i,j]\n",
    "            \n",
    "s = Solution()\n",
    "s.twoSum(nums, target)"
   ]
  },
  {
   "cell_type": "code",
   "execution_count": 49,
   "id": "4c232c28",
   "metadata": {},
   "outputs": [
    {
     "name": "stdout",
     "output_type": "stream",
     "text": [
      "1 0\n",
      "[1, 0]\n"
     ]
    }
   ],
   "source": [
    "# solution2: O(n)\n",
    "# using hash map:\n",
    "#-------------------------------------------\n",
    "\n",
    "dic = {}\n",
    "nums = [2,7,11,15]\n",
    "target = 9\n",
    "\n",
    "for i in range(len(nums)):\n",
    "    left = target - nums[i]\n",
    "    \n",
    "    if left in dic:\n",
    "        print(i, dic[left])\n",
    "    dic[nums[i]] = i\n",
    "\n",
    " \n",
    "# 2nd version:\n",
    "#-------------------------------------------------------\n",
    "\n",
    "\n",
    "dic = {}\n",
    "for idx1, first in enumerate(nums):\n",
    "    compliment = target - first\n",
    "\n",
    "    if compliment in dic:\n",
    "      print([idx1, dic[compliment]])\n",
    "\n",
    "    dic[first] = idx1\n"
   ]
  },
  {
   "cell_type": "code",
   "execution_count": 46,
   "id": "e1aa2528",
   "metadata": {},
   "outputs": [
    {
     "name": "stdout",
     "output_type": "stream",
     "text": [
      "[0, 1]\n"
     ]
    }
   ],
   "source": [
    "# solution3: most optimal O(n)\n",
    "# note some cases are failing in this soluntion:\n",
    "#------------------------------------------------\n",
    "nums = [3,3]  #[3,2,4] #[2,7,11,15]\n",
    "target =6 # 9\n",
    "nums = sorted(nums)\n",
    "n = len(nums)\n",
    "left = 0\n",
    "right = n-1\n",
    "\n",
    "while left < right:\n",
    "    sums = nums[left] + nums[right]\n",
    "    \n",
    "    if sums == target:\n",
    "        print([left,right])\n",
    "        break\n",
    "    elif sums > target:\n",
    "        right -= 1\n",
    "    else: \n",
    "        left += 1\n",
    "        \n",
    "        "
   ]
  },
  {
   "cell_type": "code",
   "execution_count": 50,
   "id": "d139af8d",
   "metadata": {},
   "outputs": [
    {
     "data": {
      "text/plain": [
       "[0, 1, 2]"
      ]
     },
     "execution_count": 50,
     "metadata": {},
     "output_type": "execute_result"
    }
   ],
   "source": [
    "# sort array\n",
    "# Problem Statement: Given an array consisting of only 0s, 1s, and 2s.\n",
    "# Write a program to in-place sort the array without using inbuilt sort functions.\n",
    "# ( Expected: Single pass-O(N) and constant space)\n",
    "# Input: nums = [2,0,2,1,1,0]\n",
    "# Output: [0,0,1,1,2,2]\n",
    "\n",
    "\n",
    "\n",
    "\n",
    "#---------------------------------------------------------------------\n",
    "# solution:\n",
    "#---------------------------------------------------------------------\n",
    "\n",
    "nums =[2,0,1] #[2,0,2,1,1,0]# [2,0,2,1,1,0]\n",
    "nums\n",
    "\n",
    "zeros= []\n",
    "ones = []\n",
    "twos = []\n",
    "for i in range(len(nums)):\n",
    "  if nums[i] == 0:\n",
    "    zeros.append(0)\n",
    "  elif nums[i] ==1:\n",
    "    ones.append(1)\n",
    "  elif nums[i] ==2:\n",
    "    twos.append(2)\n",
    "\n",
    "result = zeros+ones+twos\n",
    "result\n",
    "\n",
    "class Solution(object):\n",
    "    def sortColors(self, nums):\n",
    "\n",
    "        zeros= []\n",
    "        ones = []\n",
    "        twos = []\n",
    "        for i in range(len(nums)):\n",
    "            if nums[i] == 0:\n",
    "                zeros.append(0)\n",
    "            elif nums[i] ==1:\n",
    "                ones.append(1)\n",
    "            elif nums[i] ==2:\n",
    "                twos.append(2)\n",
    "\n",
    "        result = zeros+ones+twos\n",
    "        result\n",
    "        return result\n",
    "\n",
    "\n",
    "ss = Solution()\n",
    "ss.sortColors(nums)"
   ]
  },
  {
   "cell_type": "code",
   "execution_count": 51,
   "id": "b6eed791",
   "metadata": {},
   "outputs": [
    {
     "data": {
      "text/plain": [
       "[0, 0, 1, 1, 2, 2]"
      ]
     },
     "execution_count": 51,
     "metadata": {},
     "output_type": "execute_result"
    }
   ],
   "source": [
    "# method2:\n",
    "\n",
    "arr = [2,0,2,1,1,0]\n",
    "cnt0 = 0\n",
    "cnt1 =0\n",
    "cnt2 = 0\n",
    "for i in range(len(arr)):\n",
    "  if arr[i] == 0:\n",
    "      cnt0 +=1\n",
    "  elif arr[i] ==1:\n",
    "      cnt1 +=1\n",
    "  elif arr[i] ==2:\n",
    "      cnt2 +=1\n",
    "\n",
    "for i in range(cnt0):\n",
    "  arr[i] = 0\n",
    "\n",
    "for i in range(cnt0 , cnt0+cnt1):\n",
    "  arr[i] = 1\n",
    "\n",
    "for i in range(cnt0+cnt1, len(arr)):\n",
    "  arr[i] = 2\n",
    "\n",
    "arr"
   ]
  },
  {
   "cell_type": "code",
   "execution_count": null,
   "id": "1d062b5f",
   "metadata": {},
   "outputs": [],
   "source": [
    "# todo best optimal solution:\n",
    "#-------------------------------------------------"
   ]
  },
  {
   "cell_type": "code",
   "execution_count": null,
   "id": "d550ed63",
   "metadata": {},
   "outputs": [],
   "source": []
  },
  {
   "cell_type": "code",
   "execution_count": null,
   "id": "66fa9219",
   "metadata": {},
   "outputs": [],
   "source": []
  },
  {
   "cell_type": "code",
   "execution_count": null,
   "id": "6527ebf0",
   "metadata": {},
   "outputs": [],
   "source": [
    "# Problem Statement: Given an array of N integers, write a program to return an \n",
    "# element that occurs more than N/2 times in the given array. \n",
    "# You may consider that such an element always exists in the array.\n",
    "\n",
    "# Given an array nums of size n, return the majority element.\n",
    "\n",
    "# The majority element is the element that appears more than ⌊n / 2⌋ times. You may assume that the majority element always exists in the array.\n",
    "\n",
    " \n",
    "\n",
    "# Example 1:\n",
    "\n",
    "# Input: nums = [3,2,3]\n",
    "# Output: 3\n",
    "# Example 2:\n",
    "\n",
    "# Input: nums = [2,2,1,1,1,2,2]\n",
    "# Output: 2"
   ]
  },
  {
   "cell_type": "code",
   "execution_count": 25,
   "id": "bc5110e3",
   "metadata": {},
   "outputs": [
    {
     "name": "stdout",
     "output_type": "stream",
     "text": [
      "3\n"
     ]
    },
    {
     "data": {
      "text/plain": [
       "{2: 3, 1: 4}"
      ]
     },
     "execution_count": 25,
     "metadata": {},
     "output_type": "execute_result"
    }
   ],
   "source": [
    "nums = [3,3,4] #[3,2,3] #[2,2,1,1,1,2,2]\n",
    "\n",
    "dic= {}\n",
    "\n",
    "for i in set(nums):\n",
    "    #print(i)\n",
    "    counter = 0\n",
    "    for j in nums:\n",
    "        if i == j:\n",
    "            counter += 1\n",
    "        \n",
    "    dic[counter] = i\n",
    "    \n",
    "            \n",
    "k = max(dic.keys())\n",
    "\n",
    "if k > len(nums)/2:\n",
    "    print(dic[k])\n",
    "dic          "
   ]
  },
  {
   "cell_type": "code",
   "execution_count": 19,
   "id": "a473279f",
   "metadata": {},
   "outputs": [
    {
     "name": "stdout",
     "output_type": "stream",
     "text": [
      "2\n"
     ]
    }
   ],
   "source": [
    "\n",
    "class Solution(object):\n",
    "    def majorityElement(self, nums):\n",
    "        \"\"\"\n",
    "        :type nums: List[int]\n",
    "        :rtype: int\n",
    "        \"\"\"\n",
    "        dic = {}\n",
    "        \n",
    "        for i in set(nums):\n",
    "            #print(i)\n",
    "            counter = 0\n",
    "            for j in nums:\n",
    "                if i == j:\n",
    "                    counter += 1\n",
    "                \n",
    "            dic[counter] = i\n",
    "            \n",
    "                    \n",
    "        k = max(dic.keys())\n",
    "        if k > len(nums)/2:\n",
    "            #print(dic[k])\n",
    "            return dic[k]"
   ]
  },
  {
   "cell_type": "code",
   "execution_count": null,
   "id": "72a1e9bc",
   "metadata": {},
   "outputs": [],
   "source": []
  }
 ],
 "metadata": {
  "kernelspec": {
   "display_name": "Python 3 (ipykernel)",
   "language": "python",
   "name": "python3"
  },
  "language_info": {
   "codemirror_mode": {
    "name": "ipython",
    "version": 3
   },
   "file_extension": ".py",
   "mimetype": "text/x-python",
   "name": "python",
   "nbconvert_exporter": "python",
   "pygments_lexer": "ipython3",
   "version": "3.11.4"
  }
 },
 "nbformat": 4,
 "nbformat_minor": 5
}

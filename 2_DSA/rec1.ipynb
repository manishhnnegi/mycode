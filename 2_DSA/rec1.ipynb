{
 "cells": [
  {
   "cell_type": "markdown",
   "metadata": {},
   "source": [
    "### calculate prime number"
   ]
  },
  {
   "cell_type": "code",
   "execution_count": 15,
   "metadata": {},
   "outputs": [
    {
     "name": "stdout",
     "output_type": "stream",
     "text": [
      "3\n",
      "5\n",
      "prime number\n"
     ]
    }
   ],
   "source": [
    "def is_prime(number):\n",
    "    if number <=1:\n",
    "        return False\n",
    "    if number==2:\n",
    "        return True\n",
    "    if number % 2 == 0:\n",
    "        return False\n",
    "    for i in range(3,int(number**0.5)+1, 2):  #\n",
    "        #if the number is divisible by another number greater than its square root the other devisor must be less than the square root.\n",
    "        #example:\n",
    "        # 27\n",
    "        # range(3, 5+1, 2)---> [3,5]\n",
    "        # if 27 will have any divisior greater than its square root which is 9\n",
    "        print(i)\n",
    "        if number % i == 0:\n",
    "            return False\n",
    "        \n",
    "    return True\n",
    "\n",
    "\n",
    "if __name__ == \"__main__\":\n",
    "    number = 29\n",
    "\n",
    "    ans = is_prime(number)\n",
    "    #print(ans)\n",
    "    if ans:\n",
    "        print(\"prime number\")\n",
    "    else:\n",
    "        print(\"not prime number\")\n",
    "\n"
   ]
  },
  {
   "cell_type": "code",
   "execution_count": 16,
   "metadata": {},
   "outputs": [
    {
     "data": {
      "text/plain": [
       "[1, 2, 3, 4, 6, 9, 12, 18, 36]"
      ]
     },
     "execution_count": 16,
     "metadata": {},
     "output_type": "execute_result"
    }
   ],
   "source": [
    "# calculate factore of number\n",
    "def cal_factor(number):\n",
    "    lst = []\n",
    "    for i in range(1,number+1):\n",
    "        if number%i==0:\n",
    "            lst.append(i)\n",
    "    return lst\n",
    "cal_factor(36)"
   ]
  },
  {
   "cell_type": "code",
   "execution_count": null,
   "metadata": {},
   "outputs": [],
   "source": [
    "#prime number--->2,3,5,7\n",
    "#even number---->0,2,4,6,8\n",
    "# 0 index ----> even   [5 choices]\n",
    "# 1 index ---> odd    [4 choices]\n",
    "\n",
    "\n",
    "# algo:\n",
    "# lets say n = 5\n",
    "# indices:   0,1,2,3,4\n",
    "# even index = (5+1)//2 = 3\n",
    "# odd index = 5//2= 2\n",
    "# total no can be created using format even index- even no odd index- prime no\n",
    "# total possibility :  evn(5**3)* odd(4**2) = 125*16 = 2000"
   ]
  },
  {
   "cell_type": "code",
   "execution_count": 2,
   "metadata": {},
   "outputs": [
    {
     "name": "stdout",
     "output_type": "stream",
     "text": [
      "even_count 25500\n",
      "odd_count 25500\n"
     ]
    },
    {
     "ename": "ValueError",
     "evalue": "Exceeds the limit (4300 digits) for integer string conversion; use sys.set_int_max_str_digits() to increase the limit",
     "output_type": "error",
     "traceback": [
      "\u001b[1;31m---------------------------------------------------------------------------\u001b[0m",
      "\u001b[1;31mValueError\u001b[0m                                Traceback (most recent call last)",
      "File \u001b[1;32mc:\\Users\\Deevia\\miniconda3\\envs\\gpt\\Lib\\site-packages\\IPython\\core\\formatters.py:711\u001b[0m, in \u001b[0;36mPlainTextFormatter.__call__\u001b[1;34m(self, obj)\u001b[0m\n\u001b[0;32m    704\u001b[0m stream \u001b[38;5;241m=\u001b[39m StringIO()\n\u001b[0;32m    705\u001b[0m printer \u001b[38;5;241m=\u001b[39m pretty\u001b[38;5;241m.\u001b[39mRepresentationPrinter(stream, \u001b[38;5;28mself\u001b[39m\u001b[38;5;241m.\u001b[39mverbose,\n\u001b[0;32m    706\u001b[0m     \u001b[38;5;28mself\u001b[39m\u001b[38;5;241m.\u001b[39mmax_width, \u001b[38;5;28mself\u001b[39m\u001b[38;5;241m.\u001b[39mnewline,\n\u001b[0;32m    707\u001b[0m     max_seq_length\u001b[38;5;241m=\u001b[39m\u001b[38;5;28mself\u001b[39m\u001b[38;5;241m.\u001b[39mmax_seq_length,\n\u001b[0;32m    708\u001b[0m     singleton_pprinters\u001b[38;5;241m=\u001b[39m\u001b[38;5;28mself\u001b[39m\u001b[38;5;241m.\u001b[39msingleton_printers,\n\u001b[0;32m    709\u001b[0m     type_pprinters\u001b[38;5;241m=\u001b[39m\u001b[38;5;28mself\u001b[39m\u001b[38;5;241m.\u001b[39mtype_printers,\n\u001b[0;32m    710\u001b[0m     deferred_pprinters\u001b[38;5;241m=\u001b[39m\u001b[38;5;28mself\u001b[39m\u001b[38;5;241m.\u001b[39mdeferred_printers)\n\u001b[1;32m--> 711\u001b[0m \u001b[43mprinter\u001b[49m\u001b[38;5;241;43m.\u001b[39;49m\u001b[43mpretty\u001b[49m\u001b[43m(\u001b[49m\u001b[43mobj\u001b[49m\u001b[43m)\u001b[49m\n\u001b[0;32m    712\u001b[0m printer\u001b[38;5;241m.\u001b[39mflush()\n\u001b[0;32m    713\u001b[0m \u001b[38;5;28;01mreturn\u001b[39;00m stream\u001b[38;5;241m.\u001b[39mgetvalue()\n",
      "File \u001b[1;32mc:\\Users\\Deevia\\miniconda3\\envs\\gpt\\Lib\\site-packages\\IPython\\lib\\pretty.py:394\u001b[0m, in \u001b[0;36mRepresentationPrinter.pretty\u001b[1;34m(self, obj)\u001b[0m\n\u001b[0;32m    391\u001b[0m \u001b[38;5;28;01mfor\u001b[39;00m \u001b[38;5;28mcls\u001b[39m \u001b[38;5;129;01min\u001b[39;00m _get_mro(obj_class):\n\u001b[0;32m    392\u001b[0m     \u001b[38;5;28;01mif\u001b[39;00m \u001b[38;5;28mcls\u001b[39m \u001b[38;5;129;01min\u001b[39;00m \u001b[38;5;28mself\u001b[39m\u001b[38;5;241m.\u001b[39mtype_pprinters:\n\u001b[0;32m    393\u001b[0m         \u001b[38;5;66;03m# printer registered in self.type_pprinters\u001b[39;00m\n\u001b[1;32m--> 394\u001b[0m         \u001b[38;5;28;01mreturn\u001b[39;00m \u001b[38;5;28;43mself\u001b[39;49m\u001b[38;5;241;43m.\u001b[39;49m\u001b[43mtype_pprinters\u001b[49m\u001b[43m[\u001b[49m\u001b[38;5;28;43mcls\u001b[39;49m\u001b[43m]\u001b[49m\u001b[43m(\u001b[49m\u001b[43mobj\u001b[49m\u001b[43m,\u001b[49m\u001b[43m \u001b[49m\u001b[38;5;28;43mself\u001b[39;49m\u001b[43m,\u001b[49m\u001b[43m \u001b[49m\u001b[43mcycle\u001b[49m\u001b[43m)\u001b[49m\n\u001b[0;32m    395\u001b[0m     \u001b[38;5;28;01melse\u001b[39;00m:\n\u001b[0;32m    396\u001b[0m         \u001b[38;5;66;03m# deferred printer\u001b[39;00m\n\u001b[0;32m    397\u001b[0m         printer \u001b[38;5;241m=\u001b[39m \u001b[38;5;28mself\u001b[39m\u001b[38;5;241m.\u001b[39m_in_deferred_types(\u001b[38;5;28mcls\u001b[39m)\n",
      "File \u001b[1;32mc:\\Users\\Deevia\\miniconda3\\envs\\gpt\\Lib\\site-packages\\IPython\\lib\\pretty.py:779\u001b[0m, in \u001b[0;36m_repr_pprint\u001b[1;34m(obj, p, cycle)\u001b[0m\n\u001b[0;32m    777\u001b[0m \u001b[38;5;250m\u001b[39m\u001b[38;5;124;03m\"\"\"A pprint that just redirects to the normal repr function.\"\"\"\u001b[39;00m\n\u001b[0;32m    778\u001b[0m \u001b[38;5;66;03m# Find newlines and replace them with p.break_()\u001b[39;00m\n\u001b[1;32m--> 779\u001b[0m output \u001b[38;5;241m=\u001b[39m \u001b[38;5;28;43mrepr\u001b[39;49m\u001b[43m(\u001b[49m\u001b[43mobj\u001b[49m\u001b[43m)\u001b[49m\n\u001b[0;32m    780\u001b[0m lines \u001b[38;5;241m=\u001b[39m output\u001b[38;5;241m.\u001b[39msplitlines()\n\u001b[0;32m    781\u001b[0m \u001b[38;5;28;01mwith\u001b[39;00m p\u001b[38;5;241m.\u001b[39mgroup():\n",
      "\u001b[1;31mValueError\u001b[0m: Exceeds the limit (4300 digits) for integer string conversion; use sys.set_int_max_str_digits() to increase the limit"
     ]
    }
   ],
   "source": [
    "def countGoodNo(n: int) -> int:\n",
    "    def myPower(x,n):\n",
    "        return x**n\n",
    "    even_count = (n+1)>>1    #(n+1)//2   where n is the length of string-- even indexed postion\n",
    "    odd_count =  n >> 1    #   n//2  --> odd indexed postion\n",
    "    print(\"even_count\", even_count)\n",
    "    print('odd_count',odd_count)\n",
    "    return myPower(5, even_count) * myPower(4, odd_count)\n",
    "\n",
    "countGoodNo(51000)   # when no produce result greater than the range oiff the int 32 bit it will get error so for that we use\n",
    "                   # mod a very high value so that it will reduce the limit of the higher no by \n",
    "                    # generating remainder by dividing the result from the modulus\n",
    "                    # ValueError: Exceeds the limit (4300 digits) for integer string conversion; use sys.set_int_max_str_digits() to increase the limit\n"
   ]
  },
  {
   "cell_type": "code",
   "execution_count": 3,
   "metadata": {},
   "outputs": [
    {
     "name": "stdout",
     "output_type": "stream",
     "text": [
      "even_count 3\n",
      "odd_count 2\n"
     ]
    },
    {
     "data": {
      "text/plain": [
       "2000"
      ]
     },
     "execution_count": 3,
     "metadata": {},
     "output_type": "execute_result"
    }
   ],
   "source": [
    "def countGoodNo(n: int) -> int:\n",
    "    mod = 10**9+7\n",
    "\n",
    "    def myPower(x,n):\n",
    "        return x**n\n",
    "    \n",
    "    even_count = (n+1)>>1    #(n+1)//2   where n is the length of string-- even indexed postion\n",
    "    odd_count =  n >> 1    #   n//2  --> odd indexed postion\n",
    "    print(\"even_count\", even_count)\n",
    "    print('odd_count',odd_count)\n",
    "    return myPower(5, even_count) * myPower(4, odd_count) % mod \n",
    "\n",
    "\n",
    "countGoodNo(5)"
   ]
  },
  {
   "cell_type": "code",
   "execution_count": null,
   "metadata": {},
   "outputs": [],
   "source": [
    "def myPower(x,n):\n",
    "    "
   ]
  },
  {
   "cell_type": "code",
   "execution_count": 31,
   "metadata": {},
   "outputs": [
    {
     "name": "stdout",
     "output_type": "stream",
     "text": [
      "even_count 3\n",
      "odd_count 2\n"
     ]
    },
    {
     "data": {
      "text/plain": [
       "2000"
      ]
     },
     "execution_count": 31,
     "metadata": {},
     "output_type": "execute_result"
    }
   ],
   "source": [
    "def countGoodNo(n: int) -> int:\n",
    "    def myPower(x,n):\n",
    "        res=1\n",
    "        while n:\n",
    "            if (n & 1)==1:\n",
    "                res = res*x\n",
    "            \n",
    "            x = x*x\n",
    "            n= n>>1    # bitwise right shifting  # its equal to to operation integerr division by 2 [A%2]\n",
    "        return res \n",
    "\n",
    "\n",
    "\n",
    "    even_count = (n+1)>>1    #(n+1)//2   where n is the length of string-- even indexed postion\n",
    "    odd_count =  n >> 1    #   n//2  --> odd indexed postion\n",
    "\n",
    "    print(\"even_count\", even_count)\n",
    "    print('odd_count',odd_count)\n",
    "\n",
    "    return myPower(5, even_count) * myPower(4, odd_count)\n",
    "\n",
    "\n",
    "\n",
    "countGoodNo(5)\n"
   ]
  },
  {
   "cell_type": "code",
   "execution_count": 25,
   "metadata": {},
   "outputs": [
    {
     "name": "stdout",
     "output_type": "stream",
     "text": [
      "0\n",
      "1\n",
      "2\n",
      "--------\n",
      "16\n"
     ]
    }
   ],
   "source": [
    "2**3  #x**n\n",
    "\n",
    "n = 3\n",
    "x = 2\n",
    "\n",
    "y = x\n",
    "for i in range( n):\n",
    "    print(i)\n",
    "    y=x*y\n",
    "print(\"--------\")\n",
    "print(y)\n",
    "\n"
   ]
  },
  {
   "cell_type": "code",
   "execution_count": 24,
   "metadata": {},
   "outputs": [
    {
     "name": "stdout",
     "output_type": "stream",
     "text": [
      "2\n",
      "1\n",
      "0\n",
      "---------\n",
      "8\n"
     ]
    }
   ],
   "source": [
    "2**3  #x**n\n",
    "\n",
    "n = 3\n",
    "x = 2\n",
    "\n",
    "y = 1\n",
    "while n:\n",
    "    y = x*y\n",
    "    n = n-1\n",
    "    print(n)\n",
    "print(\"---------\")\n",
    "print(y)"
   ]
  },
  {
   "cell_type": "code",
   "execution_count": 29,
   "metadata": {},
   "outputs": [
    {
     "name": "stdout",
     "output_type": "stream",
     "text": [
      "2\n",
      "1\n",
      "0\n",
      "---------\n",
      "0.125\n"
     ]
    }
   ],
   "source": [
    "2**3  #x**n\n",
    "\n",
    "n = -3\n",
    "x = 2\n",
    "\n",
    "nn = n\n",
    "y = 1\n",
    "if n < 0:\n",
    "    nn = -nn\n",
    "\n",
    "while nn:\n",
    "    y = x*y\n",
    "    nn = nn-1\n",
    "    print(nn)\n",
    "\n",
    "if n<0:\n",
    "    y = 1.0/y\n",
    "    \n",
    "print(\"---------\")\n",
    "print(y)"
   ]
  },
  {
   "cell_type": "code",
   "execution_count": 33,
   "metadata": {},
   "outputs": [
    {
     "name": "stdout",
     "output_type": "stream",
     "text": [
      "odd 2\n",
      "even 1\n",
      "odd 0\n",
      "---------\n",
      "8\n"
     ]
    }
   ],
   "source": [
    "2**3  #x**n\n",
    "\n",
    "n = 3\n",
    "x = 2\n",
    "\n",
    "nn = n\n",
    "y = 1\n",
    "if n < 0:\n",
    "    nn = -nn\n",
    "\n",
    "while nn:\n",
    "    if nn % 2:\n",
    "        y = x*y\n",
    "        nn = nn-1\n",
    "        print('odd',nn)\n",
    "    else:\n",
    "        x=x*x\n",
    "        nn = nn//2\n",
    "        print('even',nn)\n",
    "\n",
    "\n",
    "\n",
    "if n<0:\n",
    "    y = 1.0/y\n",
    "    \n",
    "print(\"---------\")\n",
    "print(y)                            "
   ]
  },
  {
   "cell_type": "code",
   "execution_count": null,
   "metadata": {},
   "outputs": [],
   "source": []
  }
 ],
 "metadata": {
  "kernelspec": {
   "display_name": "gpt",
   "language": "python",
   "name": "python3"
  },
  "language_info": {
   "codemirror_mode": {
    "name": "ipython",
    "version": 3
   },
   "file_extension": ".py",
   "mimetype": "text/x-python",
   "name": "python",
   "nbconvert_exporter": "python",
   "pygments_lexer": "ipython3",
   "version": "3.12.0"
  }
 },
 "nbformat": 4,
 "nbformat_minor": 2
}

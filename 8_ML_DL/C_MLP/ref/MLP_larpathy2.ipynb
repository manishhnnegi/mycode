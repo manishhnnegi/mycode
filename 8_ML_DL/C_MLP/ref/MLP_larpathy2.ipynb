{
 "cells": [
  {
   "cell_type": "code",
   "execution_count": 38,
   "metadata": {},
   "outputs": [],
   "source": [
    "import torch\n",
    "import requests\n",
    "import torch.nn.functional as plt\n",
    "import torch.nn.functional as F\n"
   ]
  },
  {
   "cell_type": "code",
   "execution_count": 39,
   "metadata": {},
   "outputs": [
    {
     "name": "stdout",
     "output_type": "stream",
     "text": [
      "words: ['emma', 'olivia', 'ava', 'isabella', 'sophia']\n",
      "word length of text data: 32033\n"
     ]
    }
   ],
   "source": [
    "# load text file:\n",
    "\n",
    "google_colab = False\n",
    "# URL of the raw file from GitHub\n",
    "if google_colab == True:\n",
    "    url = 'https://raw.githubusercontent.com/karpathy/makemore/refs/heads/master/names.txt'\n",
    "    # Send a GET request to fetch the file content\n",
    "    response = requests.get(url)\n",
    "\n",
    "    # Check if the request was successful\n",
    "    if response.status_code == 200:\n",
    "        text_data = response.text\n",
    "        #print(text_data)\n",
    "    else:\n",
    "        print(f\"Failed to fetch the file. Status code: {response.status_code}\")\n",
    "\n",
    "    print(f\"{type(text_data)}\")\n",
    "    words = text_data.split(\"\\n\")\n",
    "    print(f\"word length of text data: {len(words)}\")\n",
    "\n",
    "else:\n",
    "    # read in all the words\n",
    "    words = open('names.txt', 'r').read().splitlines()\n",
    "    print(f\"words: {words[:5]}\")\n",
    "    print(f\"word length of text data: {len(words)}\")\n",
    "    "
   ]
  },
  {
   "cell_type": "code",
   "execution_count": 40,
   "metadata": {},
   "outputs": [
    {
     "name": "stdout",
     "output_type": "stream",
     "text": [
      "indx to char:{1: 'a', 2: 'b', 3: 'c', 4: 'd', 5: 'e', 6: 'f', 7: 'g', 8: 'h', 9: 'i', 10: 'j', 11: 'k', 12: 'l', 13: 'm', 14: 'n', 15: 'o', 16: 'p', 17: 'q', 18: 'r', 19: 's', 20: 't', 21: 'u', 22: 'v', 23: 'w', 24: 'x', 25: 'y', 26: 'z', 0: '.'}\n",
      "vocab size: 27\n"
     ]
    }
   ],
   "source": [
    "# Build the vocabulary of characters and mappings to/from integers:\n",
    "#--------------------------------------------\n",
    "# in this dataset:\n",
    "# Total vocab size is 27\n",
    "    # 26 unique charcters in english \n",
    "    # One special chatacter \".\"\n",
    "\n",
    "\n",
    "\n",
    "\n",
    "chars = sorted(list(set(''.join(words))))\n",
    "stoi = {s:i+1 for i,s in enumerate(chars)}\n",
    "stoi['.'] = 0\n",
    "itos = {i:s for s,i in stoi.items()}\n",
    "\n",
    "vocab_size = len(itos)\n",
    "\n",
    "\n",
    "\n",
    "\n",
    "print(f\"indx to char:{itos}\")\n",
    "print(f\"vocab size: {vocab_size}\")"
   ]
  },
  {
   "cell_type": "code",
   "execution_count": 41,
   "metadata": {},
   "outputs": [
    {
     "name": "stdout",
     "output_type": "stream",
     "text": [
      "torch.Size([182625, 3]) torch.Size([182625])\n",
      "torch.Size([22655, 3]) torch.Size([22655])\n",
      "torch.Size([22866, 3]) torch.Size([22866])\n"
     ]
    }
   ],
   "source": [
    "# build the dataset\n",
    "block_size = 3 # context length: how many characters do we take to predict the next one?\n",
    "\n",
    "def build_dataset(words):  \n",
    "  X, Y = [], []\n",
    "  \n",
    "  for w in words:\n",
    "    context = [0] * block_size\n",
    "    for ch in w + '.':\n",
    "      ix = stoi[ch]\n",
    "      X.append(context)\n",
    "      Y.append(ix)\n",
    "      context = context[1:] + [ix] # crop and append\n",
    "\n",
    "  X = torch.tensor(X)\n",
    "  Y = torch.tensor(Y)\n",
    "  print(X.shape, Y.shape)\n",
    "  return X, Y\n",
    "\n",
    "import random\n",
    "random.seed(42)\n",
    "random.shuffle(words)\n",
    "n1 = int(0.8*len(words))\n",
    "n2 = int(0.9*len(words))\n",
    "\n",
    "Xtr,  Ytr  = build_dataset(words[:n1])     # 80%\n",
    "Xdev, Ydev = build_dataset(words[n1:n2])   # 10%\n",
    "Xte,  Yte  = build_dataset(words[n2:])     # 10%"
   ]
  },
  {
   "cell_type": "code",
   "execution_count": 79,
   "metadata": {},
   "outputs": [
    {
     "name": "stdout",
     "output_type": "stream",
     "text": [
      "11897\n"
     ]
    }
   ],
   "source": [
    "n_embd = 10 # the dimensionality of the character embedding vectors\n",
    "n_hidden = 200 # the number of neurons in the hidden layer of the MLP\n",
    "\n",
    "g = torch.Generator().manual_seed(2147483647) # for reproducibility\n",
    "C  = torch.randn((vocab_size, n_embd),            generator=g)\n",
    "W1 = torch.randn((n_embd * block_size, n_hidden), generator=g)\n",
    "b1 = torch.randn(n_hidden,                        generator=g) \n",
    "W2 = torch.randn((n_hidden, vocab_size),          generator=g) \n",
    "b2 = torch.randn(vocab_size,                      generator=g) \n",
    "\n",
    "parameters = [C, W1, b1, W2, b2]\n",
    "print(sum(p.nelement() for p in parameters)) # number of parameters in total\n",
    "for p in parameters:\n",
    "  p.requires_grad = True"
   ]
  },
  {
   "cell_type": "code",
   "execution_count": 44,
   "metadata": {},
   "outputs": [
    {
     "name": "stdout",
     "output_type": "stream",
     "text": [
      "      0/   5000: 27.8817\n",
      "    500/   5000: 6.6551\n",
      "   1000/   5000: 4.1455\n",
      "   1500/   5000: 4.9696\n",
      "   2000/   5000: 3.9851\n",
      "   2500/   5000: 4.3726\n",
      "   3000/   5000: 3.6716\n",
      "   3500/   5000: 3.2918\n",
      "   4000/   5000: 3.4521\n",
      "   4500/   5000: 3.5971\n"
     ]
    }
   ],
   "source": [
    "# Training Loop:\n",
    "#------------------------------\n",
    "\n",
    "max_steps = 5000\n",
    "batch_size = 32\n",
    "lossi = []\n",
    "\n",
    "\n",
    "for i in range(max_steps):\n",
    "\n",
    "    #minbatch construct\n",
    "    ix = torch.randint(0, Xtr.shape[0], (batch_size,), generator= g)\n",
    "    Xb, Yb = Xtr[ix], Ytr[ix] # batchs\n",
    "\n",
    "    #forward Pass:\n",
    "    emb = C[Xb]                 # emb chr into vector(32,3,10)\n",
    "    embcat = emb.view(emb.shape[0],-1)       # voncat the vectors(32,30)\n",
    "    hpreact = embcat @ W1 + b1    # (32,200)\n",
    "    h = torch.tanh(hpreact)     # (32,200)\n",
    "    logits = h @ W2 + b2        # (32,27)\n",
    "    loss = F.cross_entropy(logits, Yb)\n",
    "\n",
    "    #backward pass:\n",
    "    for p in parameters:\n",
    "        p.grad = None\n",
    "    loss.backward()\n",
    "\n",
    "    #weight update:\n",
    "    lr = 0.1 if i < 500 else 0.01      # step lr decay\n",
    "    for p in parameters:\n",
    "        p.data += -lr * p.grad\n",
    "\n",
    "    # track status:\n",
    "    if i % 500== 0:\n",
    "        print(f\"{i:7d}/{max_steps:7d}: {loss.item():.4f}\")\n",
    "    \n",
    "    # plot data\n",
    "    lossi.append(loss.log10().item())\n",
    "\n",
    "\n",
    "\n"
   ]
  },
  {
   "cell_type": "code",
   "execution_count": null,
   "metadata": {},
   "outputs": [
    {
     "data": {
      "image/png": "[encoded data removed]",
      "text/plain": [
       "<Figure size 800x400 with 1 Axes>"
      ]
     },
     "metadata": {},
     "output_type": "display_data"
    }
   ],
   "source": [
    "\n",
    "import matplotlib.pyplot as plt\n",
    "# Plot loss vs epochs\n",
    "plt.figure(figsize=(8, 4))  # Set the width and height in inches\n",
    "plt.plot(lossi)\n",
    "plt.xlabel('Epochs')\n",
    "plt.ylabel('Loss')\n",
    "plt.grid(True)\n",
    "plt.show()"
   ]
  },
  {
   "cell_type": "code",
   "execution_count": null,
   "metadata": {},
   "outputs": [
    {
     "name": "stdout",
     "output_type": "stream",
     "text": [
      "train 3.4380\n",
      "val 3.4333\n"
     ]
    }
   ],
   "source": [
    "@torch.no_grad()   # decorator will disable gradient tracking\n",
    "def split_loss(split):\n",
    "    x,y = {\n",
    "        'train': (Xtr, Ytr),\n",
    "        'val' : (Xdev, Ydev),\n",
    "        'test': (Xte, Yte)\n",
    "    }[split]\n",
    "\n",
    "    emb = C[x]\n",
    "    embcat = emb.view(emb.shape[0],-1)\n",
    "    hpreact = embcat @ W1 + b1\n",
    "    h = torch.tanh(hpreact)\n",
    "    logits = h @ W2 + b2\n",
    "    loss = F.cross_entropy(logits, y)\n",
    "    print(f\"{split} {loss.item():.4f}\")\n",
    "\n",
    "split_loss('train')\n",
    "split_loss('val')"
   ]
  },
  {
   "cell_type": "code",
   "execution_count": 77,
   "metadata": {},
   "outputs": [
    {
     "name": "stdout",
     "output_type": "stream",
     "text": [
      "st_loss =tensor(3.2958)\n",
      "logits=tensor([0., 0., 0., 0.])\n",
      "probs=tensor([0.2500, 0.2500, 0.2500, 0.2500]),\n",
      "loss=tensor(1.3863)\n",
      "------------------------------\n",
      "logits=tensor([0., 0., 8., 0.])\n",
      "probs=tensor([3.3513e-04, 3.3513e-04, 9.9899e-01, 3.3513e-04]),\n",
      "loss=tensor(0.0010)\n",
      "------------------------------\n",
      "logits=tensor([10.,  0.,  1.,  5.])\n",
      "probs=tensor([9.9314e-01, 4.5089e-05, 1.2256e-04, 6.6917e-03]),\n",
      "loss=tensor(9.0069)\n",
      "------------------------------\n",
      "logits=tensor([  39.0013, 1207.2515,  713.9269,  382.7595])\n",
      "probs=tensor([0., 1., 0., 0.]),\n",
      "loss=tensor(inf)\n"
     ]
    }
   ],
   "source": [
    "# from the training loss we can say that our model is wrongly configured:\n",
    "# as the starting loss is very high 27 at 1st iteration\n",
    "\n",
    "# as per the calculation \n",
    "# prob of any char to be in output is 1/27\n",
    "# if we will take -ive of log of prob \n",
    "# it will come around: 3.29\n",
    "# at initalusation all char have equal prob to come next. uniforma prob\n",
    "\n",
    "# in the above case where loss is 27 \n",
    "# its shjow that the prob distribution of next char in the seq is unevan and haiving wrong prob values\n",
    "\n",
    "st_loss = -torch.tensor(1/27.0).log()\n",
    "print(f\"{st_loss =}\")\n",
    "\n",
    "# case 1:\n",
    "# 4-dim example;\n",
    "logits = torch.tensor([0.0,0.0,0.0,0.0])   # le it all the logits values are equal and 0\n",
    "probs = torch.softmax(logits, dim = 0)\n",
    "loss = -probs[2].log()   # let say my actual out pyut is of index 2\n",
    "print(f\"{logits=}\\n{probs=},\\n{loss=}\")    # so for equal prob of all char to be come in seq \n",
    "# here loss is ok 1.38\n",
    "\n",
    "print(f\"------------------------------\")\n",
    "# case 2: \n",
    "# 4-dim example;\n",
    "logits = torch.tensor([0.0,0.0,8.0,0.0])   # let it has high value for true char \n",
    "probs = torch.softmax(logits, dim = 0)\n",
    "loss = -probs[2].log()   # let say my actual out pyut is of index 2\n",
    "print(f\"{logits=}\\n{probs=},\\n{loss=}\")   \n",
    "#here loss is very low  0.001\n",
    "\n",
    "print(f\"------------------------------\")\n",
    "# case 2: \n",
    "# 4-dim example;\n",
    "logits = torch.tensor([10.0,0.0,1.0,5.0])   # let it has high value for other char \n",
    "probs = torch.softmax(logits, dim = 0)\n",
    "loss = -probs[2].log()   # let say my actual out pyut is of index 2\n",
    "print(f\"{logits=}\\n{probs=},\\n{loss=}\")    # so for equal prob of all char to be come in seq \n",
    "#here loss will become very high\n",
    "\n",
    "\n",
    "print(f\"------------------------------\")\n",
    "# case 2: \n",
    "# 4-dim example;\n",
    "logits = torch.randn(4) * 500   # let it has all the logit values are very high extrem values\n",
    "probs = torch.softmax(logits, dim = 0)\n",
    "loss = -probs[2].log()   # let say my actual out pyut is of index 2\n",
    "print(f\"{logits=}\\n{probs=},\\n{loss=}\")    # so for equal prob of all char to be come in seq \n",
    "#here loss will become infinity\n",
    "\n",
    "\n",
    "# conclusion:\n",
    "\n",
    "# so we want logits values roughly 0  when we are initalising the NN\n"
   ]
  },
  {
   "cell_type": "code",
   "execution_count": 81,
   "metadata": {},
   "outputs": [
    {
     "name": "stdout",
     "output_type": "stream",
     "text": [
      "      0/   5000: 26.5404\n"
     ]
    }
   ],
   "source": [
    "# so now will break the training for the 1st epocch and check the logits values:\n",
    "# Training Loop:\n",
    "#------------------------------\n",
    "\n",
    "# as you can see the logits values are very high:\n",
    "# it need to be near to zero\n",
    "\n",
    "# tensor([  9.8054, -10.7094, -18.9225,   4.5784,  25.0958,  12.3420,  25.2245,\n",
    "#           2.3172,  23.1374, -15.8994,  -1.2803, -13.0714,  11.7869,  21.8830,\n",
    "#         -10.2817, -10.7709,  13.7777,  -7.2771,  -1.5731,  15.3102,  -0.5203,\n",
    "#         -18.8392,  30.8516,  16.5554, -18.1451,   2.9022, -36.2960],\n",
    "#        grad_fn=<SelectBackward0>)"
   ]
  },
  {
   "cell_type": "code",
   "execution_count": 83,
   "metadata": {},
   "outputs": [
    {
     "data": {
      "text/plain": [
       "tensor([  9.8054, -10.7094, -18.9225,   4.5784,  25.0958,  12.3420,  25.2245,\n",
       "          2.3172,  23.1374, -15.8994,  -1.2803, -13.0714,  11.7869,  21.8830,\n",
       "        -10.2817, -10.7709,  13.7777,  -7.2771,  -1.5731,  15.3102,  -0.5203,\n",
       "        -18.8392,  30.8516,  16.5554, -18.1451,   2.9022, -36.2960],\n",
       "       grad_fn=<SelectBackward0>)"
      ]
     },
     "execution_count": 83,
     "metadata": {},
     "output_type": "execute_result"
    }
   ],
   "source": [
    "logits[0]"
   ]
  },
  {
   "cell_type": "code",
   "execution_count": 84,
   "metadata": {},
   "outputs": [
    {
     "name": "stdout",
     "output_type": "stream",
     "text": [
      "11897\n",
      "      0/   5000: 4.1594\n"
     ]
    }
   ],
   "source": [
    "# now we will do manupulation in the w and b to reduce the value of logits:\n",
    "#-----------------------------------------------------------------------------\n",
    "\n",
    "n_embd = 10 # the dimensionality of the character embedding vectors\n",
    "n_hidden = 200 # the number of neurons in the hidden layer of the MLP\n",
    "\n",
    "g = torch.Generator().manual_seed(2147483647) # for reproducibility\n",
    "C  = torch.randn((vocab_size, n_embd),            generator=g)\n",
    "W1 = torch.randn((n_embd * block_size, n_hidden), generator=g)\n",
    "b1 = torch.randn(n_hidden,                        generator=g) \n",
    "W2 = torch.randn((n_hidden, vocab_size),          generator=g) * 0.1\n",
    "b2 = torch.randn(vocab_size,                      generator=g) * 0.0\n",
    "\n",
    "parameters = [C, W1, b1, W2, b2]\n",
    "print(sum(p.nelement() for p in parameters)) # number of parameters in total\n",
    "for p in parameters:\n",
    "  p.requires_grad = True\n",
    "\n",
    "# Training Loop:\n",
    "#------------------------------\n",
    "\n",
    "max_steps = 5000\n",
    "batch_size = 32\n",
    "lossi = []\n",
    "\n",
    "\n",
    "for i in range(max_steps):\n",
    "\n",
    "    #minbatch construct\n",
    "    ix = torch.randint(0, Xtr.shape[0], (batch_size,), generator= g)\n",
    "    Xb, Yb = Xtr[ix], Ytr[ix] # batchs\n",
    "\n",
    "    #forward Pass:\n",
    "    emb = C[Xb]                 # emb chr into vector(32,3,10)\n",
    "    embcat = emb.view(emb.shape[0],-1)       # voncat the vectors(32,30)\n",
    "    hpreact = embcat @ W1 + b1    # (32,200)\n",
    "    h = torch.tanh(hpreact)     # (32,200)\n",
    "    logits = h @ W2 + b2        # (32,27)\n",
    "    loss = F.cross_entropy(logits, Yb)\n",
    "\n",
    "    #backward pass:\n",
    "    for p in parameters:\n",
    "        p.grad = None\n",
    "    loss.backward()\n",
    "\n",
    "    #weight update:\n",
    "    lr = 0.1 if i < 500 else 0.01      # step lr decay\n",
    "    for p in parameters:\n",
    "        p.data += -lr * p.grad\n",
    "\n",
    "    # track status:\n",
    "    if i % 500== 0:\n",
    "        print(f\"{i:7d}/{max_steps:7d}: {loss.item():.4f}\")\n",
    "    \n",
    "    # plot data\n",
    "    lossi.append(loss.log10().item())\n",
    "    break\n",
    "\n",
    "\n",
    "\n",
    "\n",
    "# now the loss got reduce to 4.15\n"
   ]
  },
  {
   "cell_type": "code",
   "execution_count": 85,
   "metadata": {},
   "outputs": [
    {
     "data": {
      "text/plain": [
       "tensor([ 9.6681e-01, -1.1914e+00, -2.0867e+00,  4.2690e-01,  2.3077e+00,\n",
       "         1.2333e+00,  2.6025e+00,  1.7052e-01,  2.1348e+00, -1.5226e+00,\n",
       "        -6.5428e-04, -1.1943e+00,  1.1500e+00,  2.1714e+00, -1.1405e+00,\n",
       "        -1.1426e+00,  1.6481e+00, -8.5650e-01, -1.5825e-01,  1.5952e+00,\n",
       "        -1.8752e-01, -1.6885e+00,  2.9731e+00,  1.6532e+00, -1.8955e+00,\n",
       "         3.7008e-01, -3.6045e+00], grad_fn=<SelectBackward0>)"
      ]
     },
     "execution_count": 85,
     "metadata": {},
     "output_type": "execute_result"
    }
   ],
   "source": [
    "logits[0]"
   ]
  },
  {
   "cell_type": "code",
   "execution_count": 87,
   "metadata": {},
   "outputs": [
    {
     "name": "stdout",
     "output_type": "stream",
     "text": [
      "11897\n",
      "      0/   5000: 4.1594\n",
      "    500/   5000: 2.9007\n",
      "   1000/   5000: 2.4570\n",
      "   1500/   5000: 2.0873\n",
      "   2000/   5000: 2.3688\n",
      "   2500/   5000: 2.2147\n",
      "   3000/   5000: 2.1680\n",
      "   3500/   5000: 2.5260\n",
      "   4000/   5000: 1.9915\n",
      "   4500/   5000: 2.2146\n"
     ]
    }
   ],
   "source": [
    "# we cant set W2 as 0 in the 1st place:\n",
    "\n",
    "# now do training for all \n",
    "\n",
    "n_embd = 10 # the dimensionality of the character embedding vectors\n",
    "n_hidden = 200 # the number of neurons in the hidden layer of the MLP\n",
    "\n",
    "g = torch.Generator().manual_seed(2147483647) # for reproducibility\n",
    "C  = torch.randn((vocab_size, n_embd),            generator=g)\n",
    "W1 = torch.randn((n_embd * block_size, n_hidden), generator=g)\n",
    "b1 = torch.randn(n_hidden,                        generator=g) \n",
    "W2 = torch.randn((n_hidden, vocab_size),          generator=g) * 0.1\n",
    "b2 = torch.randn(vocab_size,                      generator=g) * 0.0\n",
    "\n",
    "parameters = [C, W1, b1, W2, b2]\n",
    "print(sum(p.nelement() for p in parameters)) # number of parameters in total\n",
    "for p in parameters:\n",
    "  p.requires_grad = True\n",
    "\n",
    "# Training Loop:\n",
    "#------------------------------\n",
    "\n",
    "max_steps = 5000\n",
    "batch_size = 32\n",
    "lossi = []\n",
    "\n",
    "\n",
    "for i in range(max_steps):\n",
    "\n",
    "    #minbatch construct\n",
    "    ix = torch.randint(0, Xtr.shape[0], (batch_size,), generator= g)\n",
    "    Xb, Yb = Xtr[ix], Ytr[ix] # batchs\n",
    "\n",
    "    #forward Pass:\n",
    "    emb = C[Xb]                 # emb chr into vector(32,3,10)\n",
    "    embcat = emb.view(emb.shape[0],-1)       # voncat the vectors(32,30)\n",
    "    hpreact = embcat @ W1 + b1    # (32,200)\n",
    "    h = torch.tanh(hpreact)     # (32,200)\n",
    "    logits = h @ W2 + b2        # (32,27)\n",
    "    loss = F.cross_entropy(logits, Yb)\n",
    "\n",
    "    #backward pass:\n",
    "    for p in parameters:\n",
    "        p.grad = None\n",
    "    loss.backward()\n",
    "\n",
    "    #weight update:\n",
    "    lr = 0.1 if i < 500 else 0.01      # step lr decay\n",
    "    for p in parameters:\n",
    "        p.data += -lr * p.grad\n",
    "\n",
    "    # track status:\n",
    "    if i % 500== 0:\n",
    "        print(f\"{i:7d}/{max_steps:7d}: {loss.item():.4f}\")\n",
    "    \n",
    "    # plot data\n",
    "    lossi.append(loss.log10().item())\n",
    "\n"
   ]
  },
  {
   "cell_type": "code",
   "execution_count": 88,
   "metadata": {},
   "outputs": [
    {
     "data": {
      "image/png": "[encoded data removed]",
      "text/plain": [
       "<Figure size 800x400 with 1 Axes>"
      ]
     },
     "metadata": {},
     "output_type": "display_data"
    }
   ],
   "source": [
    "\n",
    "import matplotlib.pyplot as plt\n",
    "# Plot loss vs epochs\n",
    "plt.figure(figsize=(8, 4))  # Set the width and height in inches\n",
    "plt.plot(lossi)\n",
    "plt.xlabel('Epochs')\n",
    "plt.ylabel('Loss')\n",
    "plt.grid(True)\n",
    "plt.show()"
   ]
  },
  {
   "cell_type": "code",
   "execution_count": 89,
   "metadata": {},
   "outputs": [
    {
     "name": "stdout",
     "output_type": "stream",
     "text": [
      "train 2.3525\n",
      "val 2.3578\n"
     ]
    }
   ],
   "source": [
    "@torch.no_grad()   # decorator will disable gradient tracking\n",
    "def split_loss(split):\n",
    "    x,y = {\n",
    "        'train': (Xtr, Ytr),\n",
    "        'val' : (Xdev, Ydev),\n",
    "        'test': (Xte, Yte)\n",
    "    }[split]\n",
    "\n",
    "    emb = C[x]\n",
    "    embcat = emb.view(emb.shape[0],-1)\n",
    "    hpreact = embcat @ W1 + b1\n",
    "    h = torch.tanh(hpreact)\n",
    "    logits = h @ W2 + b2\n",
    "    loss = F.cross_entropy(logits, y)\n",
    "    print(f\"{split} {loss.item():.4f}\")\n",
    "\n",
    "split_loss('train')\n",
    "split_loss('val')"
   ]
  },
  {
   "cell_type": "code",
   "execution_count": 90,
   "metadata": {},
   "outputs": [],
   "source": [
    "# now we can see below changes after properly intialising the weight and baises\n",
    "# W2 * 0.1 small value\n",
    "# b2 * 0.0 \n",
    "\n",
    "# 1. starting loss value got reduce\n",
    "# 2. loss curve got change from the hockey stick to much curved shape\n",
    "# 3. the val loss also got imporved.\n",
    "            # train 2.3525\n",
    "            # val 2.3578\n",
    "\n",
    "\n"
   ]
  },
  {
   "cell_type": "code",
   "execution_count": 91,
   "metadata": {},
   "outputs": [
    {
     "name": "stdout",
     "output_type": "stream",
     "text": [
      "11897\n",
      "      0/   5000: 4.1594\n"
     ]
    }
   ],
   "source": [
    "# 2nd prob in weight initalization\n",
    "#-----------------------------------------\n",
    "\n",
    "\n",
    "n_embd = 10 # the dimensionality of the character embedding vectors\n",
    "n_hidden = 200 # the number of neurons in the hidden layer of the MLP\n",
    "\n",
    "g = torch.Generator().manual_seed(2147483647) # for reproducibility\n",
    "C  = torch.randn((vocab_size, n_embd),            generator=g)\n",
    "W1 = torch.randn((n_embd * block_size, n_hidden), generator=g)\n",
    "b1 = torch.randn(n_hidden,                        generator=g) \n",
    "W2 = torch.randn((n_hidden, vocab_size),          generator=g) * 0.1\n",
    "b2 = torch.randn(vocab_size,                      generator=g) * 0.0\n",
    "\n",
    "parameters = [C, W1, b1, W2, b2]\n",
    "print(sum(p.nelement() for p in parameters)) # number of parameters in total\n",
    "for p in parameters:\n",
    "  p.requires_grad = True\n",
    "\n",
    "# Training Loop:\n",
    "#------------------------------\n",
    "\n",
    "max_steps = 5000\n",
    "batch_size = 32\n",
    "lossi = []\n",
    "\n",
    "\n",
    "for i in range(max_steps):\n",
    "\n",
    "    #minbatch construct\n",
    "    ix = torch.randint(0, Xtr.shape[0], (batch_size,), generator= g)\n",
    "    Xb, Yb = Xtr[ix], Ytr[ix] # batchs\n",
    "\n",
    "    #forward Pass:\n",
    "    emb = C[Xb]                 # emb chr into vector(32,3,10)\n",
    "    embcat = emb.view(emb.shape[0],-1)       # voncat the vectors(32,30)\n",
    "    hpreact = embcat @ W1 + b1    # (32,200)\n",
    "    h = torch.tanh(hpreact)     # (32,200)\n",
    "    logits = h @ W2 + b2        # (32,27)\n",
    "    loss = F.cross_entropy(logits, Yb)\n",
    "\n",
    "    #backward pass:\n",
    "    for p in parameters:\n",
    "        p.grad = None\n",
    "    loss.backward()\n",
    "\n",
    "    #weight update:\n",
    "    lr = 0.1 if i < 500 else 0.01      # step lr decay\n",
    "    for p in parameters:\n",
    "        p.data += -lr * p.grad\n",
    "\n",
    "    # track status:\n",
    "    if i % 500== 0:\n",
    "        print(f\"{i:7d}/{max_steps:7d}: {loss.item():.4f}\")\n",
    "    \n",
    "    # plot data\n",
    "    lossi.append(loss.log10().item())\n",
    "    break\n",
    "\n",
    "\n",
    "\n",
    "\n",
    "\n"
   ]
  },
  {
   "cell_type": "code",
   "execution_count": 100,
   "metadata": {},
   "outputs": [
    {
     "data": {
      "text/plain": [
       "tensor([[ 0.9971,  0.9999, -1.0000,  0.9119,  0.8863, -0.9997, -1.0000,  1.0000,\n",
       "          1.0000, -1.0000, -0.9906,  1.0000,  1.0000, -1.0000,  0.9992,  1.0000,\n",
       "          1.0000,  1.0000, -1.0000, -1.0000,  1.0000,  1.0000, -0.9691, -1.0000,\n",
       "          0.9997,  0.9987,  1.0000,  1.0000,  0.3237,  0.9854,  1.0000, -0.9034,\n",
       "         -1.0000, -0.9997,  0.9592, -1.0000,  0.9999,  0.9927,  0.9999,  0.5128,\n",
       "         -0.9792, -1.0000,  1.0000,  0.9830,  0.1449, -0.9695,  1.0000, -1.0000,\n",
       "          0.9948, -0.9997, -0.9689, -1.0000, -0.9997,  0.9999,  0.6740, -0.9906,\n",
       "          1.0000, -1.0000,  0.8690, -1.0000, -0.9341, -0.9999,  0.9999,  1.0000,\n",
       "         -0.6062,  1.0000,  0.9952, -0.9999, -1.0000,  1.0000,  0.8954, -0.6913,\n",
       "          0.9213,  0.9823,  0.9980, -1.0000, -1.0000, -0.9753, -0.9978, -1.0000,\n",
       "         -0.9954, -1.0000, -0.9913, -0.8012, -0.9765,  0.4806,  0.4614,  0.9999,\n",
       "         -1.0000, -0.9993,  0.9936, -0.2828,  1.0000, -0.9998,  0.9798,  0.8794,\n",
       "         -1.0000, -0.9915, -0.7179, -1.0000,  1.0000,  0.9917,  0.6602,  0.9450,\n",
       "         -0.9889, -0.9977,  0.9995,  0.9999,  0.9993,  1.0000,  0.1487, -0.9999,\n",
       "          1.0000, -0.9503,  1.0000, -0.3764, -0.9925, -0.9985, -0.9998,  1.0000,\n",
       "         -0.9925,  1.0000, -1.0000,  1.0000, -0.9642, -0.9342, -0.9924, -0.9995,\n",
       "          1.0000, -0.9424, -1.0000, -1.0000,  1.0000, -0.9984,  0.9999,  1.0000,\n",
       "          0.9999,  1.0000,  1.0000, -1.0000,  0.9999,  0.9781,  0.9999, -0.9993,\n",
       "          1.0000,  1.0000,  0.9999,  1.0000,  0.8402,  0.7402, -1.0000, -0.9999,\n",
       "         -0.3311,  1.0000,  0.9990,  0.7453,  0.9995,  1.0000, -0.9989, -0.9999,\n",
       "         -0.9992, -0.9984, -1.0000,  0.8338,  1.0000, -0.9985, -0.9351, -0.4104,\n",
       "         -0.9364, -0.7766, -0.9856, -0.9926,  1.0000, -0.4032, -1.0000, -1.0000,\n",
       "          0.9980,  1.0000,  0.9918,  1.0000,  0.9987,  0.9422, -0.4649, -1.0000,\n",
       "         -1.0000, -1.0000,  0.9837,  0.6244,  0.9980,  1.0000, -0.9998,  1.0000,\n",
       "          0.3992, -1.0000, -0.9930, -0.9860,  1.0000,  0.4089, -0.9785, -1.0000],\n",
       "        [ 0.2474, -0.9912,  0.9942,  1.0000,  1.0000,  0.9025,  1.0000,  0.7312,\n",
       "          1.0000, -0.5947, -1.0000, -0.9567, -1.0000, -0.2652, -0.9583,  0.1976,\n",
       "         -0.8498, -0.9971, -0.9714, -0.9277,  0.9903,  1.0000,  1.0000, -1.0000,\n",
       "          1.0000, -0.9976,  0.9999, -0.9962, -1.0000, -1.0000, -0.9912, -0.9999,\n",
       "          1.0000, -0.9988,  0.9581, -1.0000,  1.0000,  1.0000, -0.9955, -1.0000,\n",
       "         -1.0000, -1.0000, -0.9685,  0.9997,  1.0000,  0.9994,  0.9997,  1.0000,\n",
       "         -0.9993, -1.0000, -0.9980, -0.9703, -0.0952, -1.0000, -1.0000,  0.9973,\n",
       "          1.0000,  0.9985, -0.9992, -0.9805, -0.7163, -0.0609, -0.9997,  0.9999,\n",
       "         -1.0000,  0.8454,  1.0000, -0.9753,  1.0000,  0.9944, -1.0000, -1.0000,\n",
       "         -0.9959,  0.9967,  0.2098, -1.0000, -1.0000,  1.0000, -0.9996, -0.9958,\n",
       "         -0.9521, -1.0000, -1.0000, -0.9987,  0.9995,  0.7500,  0.9775, -0.9924,\n",
       "         -1.0000,  1.0000, -0.9886, -0.9997, -0.9896,  0.6635, -0.9810, -0.9934,\n",
       "         -0.8838,  0.7041,  1.0000, -1.0000,  1.0000, -0.9990, -0.7540, -0.9985,\n",
       "          0.9998,  0.5703, -1.0000, -0.9911,  0.7320, -1.0000, -0.4127,  1.0000,\n",
       "         -0.8397,  0.9901,  0.9995, -0.9453,  0.9997, -1.0000, -0.9937, -0.9994,\n",
       "         -0.9930,  1.0000,  0.9406, -0.4779, -0.9017,  1.0000, -1.0000,  0.9999,\n",
       "         -0.9999, -1.0000, -0.9632,  0.9994,  1.0000,  0.9956,  1.0000,  0.1098,\n",
       "         -0.9989, -0.9135, -0.8698, -0.2700, -1.0000,  0.2476,  1.0000, -0.9683,\n",
       "          0.9999, -0.9982,  1.0000, -1.0000, -1.0000,  1.0000,  0.7277, -0.3655,\n",
       "         -1.0000,  0.5116, -1.0000, -0.9998,  0.9998, -0.9820,  0.9990, -1.0000,\n",
       "          1.0000, -1.0000, -1.0000,  1.0000, -1.0000, -1.0000,  1.0000,  0.6541,\n",
       "          0.9996,  0.9999, -1.0000,  0.9635, -1.0000,  0.9917, -0.9993,  1.0000,\n",
       "          1.0000,  1.0000,  1.0000,  1.0000,  1.0000,  1.0000, -0.9994, -1.0000,\n",
       "         -1.0000,  0.9800, -0.8397, -0.9998, -0.9998, -0.9995,  0.9985,  0.9994,\n",
       "          0.7315,  0.9997,  1.0000, -0.9983, -0.9930, -0.9978,  0.7833,  0.9782],\n",
       "        [-1.0000, -1.0000, -1.0000,  0.9998,  1.0000,  1.0000,  1.0000, -0.9954,\n",
       "         -1.0000,  0.8414, -1.0000, -1.0000,  0.9808, -1.0000,  0.8120,  0.9909,\n",
       "         -1.0000, -1.0000, -1.0000,  0.9996,  1.0000,  0.9998, -0.1691, -0.9993,\n",
       "          1.0000,  0.9859,  0.9999, -1.0000,  1.0000,  1.0000, -0.9999, -0.7099,\n",
       "         -1.0000, -1.0000,  0.9610,  0.0660, -0.9816,  0.9264, -0.9992,  0.8683,\n",
       "         -0.9559, -1.0000, -0.9998,  0.3291,  0.9690,  0.6082,  0.9995, -0.8940,\n",
       "          0.9706,  1.0000,  0.9999,  0.9914,  1.0000,  1.0000,  1.0000,  0.9557,\n",
       "         -0.5805,  1.0000,  1.0000, -1.0000,  0.9899,  0.2947,  1.0000,  0.9999,\n",
       "          1.0000,  1.0000,  0.9999,  1.0000,  0.6667,  1.0000, -1.0000,  1.0000,\n",
       "          1.0000,  0.7792, -0.9992, -0.9966, -0.9512, -1.0000, -0.5028, -0.9930,\n",
       "          0.2368,  0.4476,  0.9999, -1.0000, -1.0000, -1.0000,  0.9998,  0.9589,\n",
       "          0.9998,  0.9996, -0.9380,  0.9999, -0.9999, -1.0000, -0.9468, -1.0000,\n",
       "         -1.0000, -1.0000,  0.9401,  1.0000, -0.9882, -0.6864, -0.9991, -0.9852,\n",
       "          0.9999,  1.0000, -1.0000, -1.0000,  0.9996, -0.8481,  0.6309,  1.0000,\n",
       "         -0.9999,  0.9998,  0.9995, -0.9986, -0.9458, -1.0000,  1.0000, -1.0000,\n",
       "         -1.0000,  1.0000,  0.9868,  1.0000, -0.9957,  0.9961, -0.8313,  0.6999,\n",
       "          0.8494, -0.9989,  1.0000,  0.6686,  0.9998,  0.1232,  0.9707, -0.9984,\n",
       "          1.0000, -0.3162, -0.7525,  1.0000, -0.9892, -1.0000, -0.9592,  0.9942,\n",
       "          1.0000, -0.9995, -0.9556, -0.9730,  0.9998,  1.0000, -0.7890,  0.9593,\n",
       "          0.9999,  1.0000,  0.4904, -1.0000,  1.0000, -1.0000, -1.0000,  0.6794,\n",
       "          0.9999,  0.9944, -0.9991, -1.0000, -0.9999,  0.9971, -0.0734, -1.0000,\n",
       "         -0.9999,  0.8605, -0.9998, -0.9999, -0.9987,  0.9920, -0.9554,  1.0000,\n",
       "          1.0000, -1.0000,  0.9856,  0.9745, -0.1064,  1.0000, -1.0000, -0.9968,\n",
       "          1.0000, -1.0000,  1.0000, -1.0000,  1.0000,  0.9994,  0.9994,  1.0000,\n",
       "          0.9811,  1.0000,  0.5122, -0.2439,  1.0000,  0.6157, -1.0000, -0.9852],\n",
       "        [ 0.4337,  0.6072, -0.9428,  0.8537,  1.0000,  0.8325,  0.9773,  0.8946,\n",
       "         -0.3659,  0.7079,  0.8985,  0.9798,  0.9998,  0.9999, -0.7100, -0.6476,\n",
       "          1.0000, -0.9997, -0.9999,  1.0000,  0.8698, -0.7889,  0.9999,  0.9975,\n",
       "         -0.9982,  1.0000, -0.9947,  1.0000,  0.0653,  0.9998, -0.7685, -1.0000,\n",
       "         -0.9996, -0.9987, -0.9983,  0.9819, -0.9985, -0.9999, -0.7965,  0.9428,\n",
       "          0.8198, -1.0000,  0.2503, -1.0000,  0.7941, -0.9949, -0.9355, -1.0000,\n",
       "          1.0000,  0.9872, -0.4732,  0.9851,  0.8879,  0.9525,  0.9998, -1.0000,\n",
       "          0.9888,  1.0000, -0.9826,  0.9996, -0.9998, -0.9886, -0.7972, -0.1978,\n",
       "          1.0000,  1.0000,  0.9225,  0.9939, -0.9950, -1.0000,  0.9999,  0.9999,\n",
       "          1.0000, -1.0000, -1.0000,  0.1216,  0.9999, -0.9494, -0.9907, -0.3628,\n",
       "          0.9998,  0.9999,  0.9997,  1.0000, -0.9986, -0.9139, -1.0000, -1.0000,\n",
       "          0.9937, -0.9985,  1.0000, -0.2033,  0.9999, -0.9815,  1.0000, -0.9341,\n",
       "         -0.9959, -0.9998,  0.9929, -1.0000, -1.0000,  0.9563, -1.0000,  0.9998,\n",
       "          0.5361,  0.7715, -1.0000, -1.0000,  1.0000, -0.9880,  0.9999,  0.0369,\n",
       "          0.9792,  1.0000,  0.9994,  1.0000, -0.7531, -0.8403,  0.9903, -0.9995,\n",
       "          0.9815, -1.0000,  1.0000,  1.0000, -0.8063, -0.8652,  0.9999, -1.0000,\n",
       "         -1.0000,  0.9829,  1.0000, -0.9898, -0.9999, -0.9856,  0.9861, -1.0000,\n",
       "         -0.9957,  0.9908,  0.9979,  0.8776,  1.0000,  0.9341, -0.9969, -0.9233,\n",
       "          1.0000,  0.4742, -1.0000,  0.9986,  0.6954,  0.9997,  0.9999, -0.9978,\n",
       "          0.9888,  1.0000,  0.9988, -0.9831, -0.3040,  0.4955,  0.9803, -0.5199,\n",
       "          1.0000,  0.9954, -0.7887, -1.0000,  0.8919, -0.9967, -0.9997,  0.9971,\n",
       "         -0.9914, -1.0000,  0.6147, -0.0679,  0.9929,  0.8620, -0.6343,  0.9949,\n",
       "          1.0000, -1.0000,  0.9962, -1.0000,  0.4808, -0.9998, -0.8809,  1.0000,\n",
       "          0.9998,  0.9753,  1.0000, -0.4993,  1.0000,  0.9019, -0.9969,  1.0000,\n",
       "         -0.9963,  0.9996, -1.0000,  0.9993,  1.0000, -0.9997,  1.0000,  0.9999],\n",
       "        [-0.9400, -0.7706, -0.9556,  0.9926,  1.0000,  1.0000,  0.9844,  0.9901,\n",
       "          0.9997,  0.9999,  0.9759, -0.9996, -1.0000,  1.0000,  1.0000, -0.9950,\n",
       "          1.0000, -0.8773,  1.0000,  0.9998,  0.5674, -0.9698,  1.0000, -1.0000,\n",
       "         -1.0000,  0.0595,  1.0000,  0.9872,  0.9999, -0.8496,  1.0000, -0.9196,\n",
       "         -1.0000, -0.9984,  1.0000,  0.9999,  0.8324,  1.0000, -0.9987, -1.0000,\n",
       "          0.9998,  1.0000,  1.0000,  1.0000,  0.9965,  1.0000, -1.0000,  1.0000,\n",
       "          0.5517, -1.0000,  1.0000,  1.0000,  0.5270, -0.9999, -1.0000,  0.9916,\n",
       "          1.0000,  1.0000,  0.1500,  1.0000, -0.9957, -0.0334, -1.0000,  1.0000,\n",
       "          0.9795,  1.0000,  1.0000,  1.0000,  1.0000,  0.9977,  1.0000, -0.9438,\n",
       "          0.8395, -0.9999,  0.9998, -0.5651, -0.9995, -0.9999, -0.9989,  1.0000,\n",
       "          1.0000,  1.0000,  0.9999, -1.0000,  0.9908, -1.0000,  0.8632, -0.9958,\n",
       "          0.9723,  1.0000,  0.9749, -1.0000,  0.9812, -1.0000,  0.1066,  0.9994,\n",
       "          1.0000,  1.0000,  0.5595, -0.9996,  0.9999, -0.9984,  0.0120,  0.9880,\n",
       "          1.0000,  0.9994, -1.0000,  1.0000,  0.9361, -1.0000,  0.9928, -1.0000,\n",
       "          0.9998, -0.9999,  0.9953,  1.0000, -1.0000, -0.9766, -1.0000, -1.0000,\n",
       "          0.8810, -1.0000,  0.7559, -0.9992,  0.9865,  0.9999,  0.2418,  0.9858,\n",
       "         -1.0000,  0.4833,  0.9998,  1.0000, -1.0000,  1.0000,  0.5903, -0.7328,\n",
       "         -0.8094, -0.3100, -0.9954, -0.5286, -1.0000, -0.9977, -0.3100, -0.8415,\n",
       "         -0.2498, -0.6131, -1.0000, -0.9676, -0.5871, -1.0000, -0.9756, -1.0000,\n",
       "         -0.9999,  1.0000, -1.0000, -0.9265,  0.8747,  0.9535, -0.6507,  0.9868,\n",
       "          0.9971, -0.9895, -1.0000,  0.9998, -0.9980, -0.8545,  0.4365,  1.0000,\n",
       "          0.7058,  0.9982,  0.8923,  1.0000, -1.0000, -1.0000,  1.0000,  0.2481,\n",
       "          1.0000, -0.9999,  1.0000,  1.0000,  1.0000, -0.9740,  1.0000,  1.0000,\n",
       "          1.0000, -0.4740,  0.3008,  1.0000, -1.0000, -0.3118,  0.9972, -0.9997,\n",
       "          1.0000,  0.9996,  0.8161,  0.9963,  0.9249,  0.9998, -0.9948,  0.9933]],\n",
       "       grad_fn=<SliceBackward0>)"
      ]
     },
     "execution_count": 100,
     "metadata": {},
     "output_type": "execute_result"
    }
   ],
   "source": [
    "# now logits values are good in 1st iteration \n",
    "# now check the the values of h\n",
    "# h is the activation of the hidden state\n",
    "\n",
    "h[:5,:]\n",
    "\n",
    "# here most of the values are 1 or -1 \n",
    "# bcz the tanh function squshes the input in b/w 1&-1"
   ]
  },
  {
   "cell_type": "code",
   "execution_count": 113,
   "metadata": {},
   "outputs": [
    {
     "name": "stdout",
     "output_type": "stream",
     "text": [
      "torch.Size([32, 200]) torch.Size([6400])\n"
     ]
    },
    {
     "data": {
      "text/plain": [
       "[]"
      ]
     },
     "execution_count": 113,
     "metadata": {},
     "output_type": "execute_result"
    },
    {
     "data": {
      "image/png": "[encoded data removed]",
      "text/plain": [
       "<Figure size 400x300 with 1 Axes>"
      ]
     },
     "metadata": {},
     "output_type": "display_data"
    }
   ],
   "source": [
    "# plot of h\n",
    "# stratch it one large vector\n",
    "\n",
    "print(h.shape, h.view(-1).shape)\n",
    "lst =  h.view(-1).tolist()\n",
    "plt.figure(figsize=(4, 3))\n",
    "plt.hist(lst,50)\n",
    "plt.plot()\n",
    "\n",
    "# from plot u can see that the most of the values of activation are 1 or -1 bcz of squashing nature of tanh"
   ]
  },
  {
   "cell_type": "code",
   "execution_count": 117,
   "metadata": {},
   "outputs": [
    {
     "data": {
      "text/plain": [
       "[]"
      ]
     },
     "execution_count": 117,
     "metadata": {},
     "output_type": "execute_result"
    },
    {
     "data": {
      "image/png": "[encoded data removed]",
      "text/plain": [
       "<Figure size 600x300 with 1 Axes>"
      ]
     },
     "metadata": {},
     "output_type": "display_data"
    }
   ],
   "source": [
    "# values before activation triggered\n",
    "plt.figure(figsize=(6, 3))\n",
    "plt.hist(hpreact.view(-1).tolist(), 50)\n",
    "plt.plot()\n",
    "\n",
    "\n",
    "# from the plot of preactivation values we can see that the range of values are quit broad \n",
    "# # from [-20 to +20] "
   ]
  },
  {
   "cell_type": "code",
   "execution_count": null,
   "metadata": {},
   "outputs": [],
   "source": [
    "# the -1 or +1 values of activation h will effect the value of grad in back propgation \n",
    "# it will kill the gradiants (grad = 0)\n",
    "\n",
    "# from below code you can see at the time of back prop\n",
    "# activation value will become -1 or +1 \n",
    "# which will inforce grad to become zero\n",
    "# self.grad += (1-t**2) * out.grad \n",
    "\n",
    "\n",
    "def tanh(self):\n",
    "        import math\n",
    "        x = self.data\n",
    "        t = (math.exp(2*x) - 1)/(math.exp(2*x)+ 1)\n",
    "        out = Value(t, (self,), 'tanh')\n",
    "\n",
    "        def _backward():\n",
    "            self.grad += (1-t**2) * out.grad      \n",
    "        out._backward = _backward\n",
    "\n",
    "        return out\n",
    "\n",
    "# the basic intustion is that\n",
    "# for the changes in W and b there will be least changes in the value of loss beach ofv the flat reasons of the tenh oput values.\n",
    "# the gradiants corrosponding to the 1 or -1 values of activation will get die. "
   ]
  },
  {
   "cell_type": "code",
   "execution_count": 122,
   "metadata": {},
   "outputs": [
    {
     "name": "stdout",
     "output_type": "stream",
     "text": [
      "shape of activation:\n",
      "torch.Size([32, 200])\n"
     ]
    },
    {
     "data": {
      "text/plain": [
       "<matplotlib.image.AxesImage at 0x20529449550>"
      ]
     },
     "execution_count": 122,
     "metadata": {},
     "output_type": "execute_result"
    },
    {
     "data": {
      "image/png": "[encoded data removed]",
      "text/plain": [
       "<Figure size 2000x1000 with 1 Axes>"
      ]
     },
     "metadata": {},
     "output_type": "display_data"
    }
   ],
   "source": [
    "# now we will check (how much values of h are having close 1 values\n",
    "print(f\"shape of activation:\\n{h.shape}\")\n",
    "plt.figure(figsize=(20,10))\n",
    "plt.imshow(h.abs()>0.99, cmap= 'gray', interpolation='nearest')\n",
    "# 32 examples vs 200 output from 200 neurons for each example\n",
    "\n",
    "# the whit colure shows that the activation of that neuron is haveing value 1 which will kill the gradiants\n",
    "# if entire coumn is having white colure\n",
    "# it will ve consider as ded neuron\n",
    "# which meanse not any example ever activate this neuron in the tanh active reason of tanh (ie the non flat reason)"
   ]
  },
  {
   "cell_type": "code",
   "execution_count": 126,
   "metadata": {},
   "outputs": [
    {
     "name": "stdout",
     "output_type": "stream",
     "text": [
      "11897\n",
      "      0/   5000: 3.7477\n"
     ]
    }
   ],
   "source": [
    "# solution:\n",
    "# to fix that we want preactivation \n",
    "# hpreact values to be close to zero\n",
    "# so we will change the W1 and b1 values\n",
    "# bxz C is already from gausian distribution\n",
    "#-------------------------------------------------------\n",
    "\n",
    "n_embd = 10 # the dimensionality of the character embedding vectors\n",
    "n_hidden = 200 # the number of neurons in the hidden layer of the MLP\n",
    "\n",
    "g = torch.Generator().manual_seed(2147483647) # for reproducibility\n",
    "C  = torch.randn((vocab_size, n_embd),            generator=g)\n",
    "W1 = torch.randn((n_embd * block_size, n_hidden), generator=g) * 0.2\n",
    "b1 = torch.randn(n_hidden,                        generator=g) * 0.01\n",
    "W2 = torch.randn((n_hidden, vocab_size),          generator=g) * 0.1\n",
    "b2 = torch.randn(vocab_size,                      generator=g) * 0.0\n",
    "\n",
    "parameters = [C, W1, b1, W2, b2]\n",
    "print(sum(p.nelement() for p in parameters)) # number of parameters in total\n",
    "for p in parameters:\n",
    "  p.requires_grad = True\n",
    "\n",
    "# Training Loop:\n",
    "#------------------------------\n",
    "\n",
    "max_steps = 5000\n",
    "batch_size = 32\n",
    "lossi = []\n",
    "\n",
    "\n",
    "for i in range(max_steps):\n",
    "\n",
    "    #minbatch construct\n",
    "    ix = torch.randint(0, Xtr.shape[0], (batch_size,), generator= g)\n",
    "    Xb, Yb = Xtr[ix], Ytr[ix] # batchs\n",
    "\n",
    "    #forward Pass:\n",
    "    emb = C[Xb]                 # emb chr into vector(32,3,10)\n",
    "    embcat = emb.view(emb.shape[0],-1)       # voncat the vectors(32,30)\n",
    "    hpreact = embcat @ W1 + b1    # (32,200)\n",
    "    h = torch.tanh(hpreact)     # (32,200)\n",
    "    logits = h @ W2 + b2        # (32,27)\n",
    "    loss = F.cross_entropy(logits, Yb)\n",
    "\n",
    "    #backward pass:\n",
    "    for p in parameters:\n",
    "        p.grad = None\n",
    "    loss.backward()\n",
    "\n",
    "    #weight update:\n",
    "    lr = 0.1 if i < 500 else 0.01      # step lr decay\n",
    "    for p in parameters:\n",
    "        p.data += -lr * p.grad\n",
    "\n",
    "    # track status:\n",
    "    if i % 500== 0:\n",
    "        print(f\"{i:7d}/{max_steps:7d}: {loss.item():.4f}\")\n",
    "    \n",
    "    # plot data\n",
    "    lossi.append(loss.log10().item())\n",
    "    break\n",
    "\n"
   ]
  },
  {
   "cell_type": "code",
   "execution_count": 127,
   "metadata": {},
   "outputs": [
    {
     "name": "stdout",
     "output_type": "stream",
     "text": [
      "torch.Size([32, 200]) torch.Size([6400])\n",
      "shape of activation:\n",
      "torch.Size([32, 200])\n"
     ]
    },
    {
     "data": {
      "text/plain": [
       "<matplotlib.image.AxesImage at 0x2052a491b50>"
      ]
     },
     "execution_count": 127,
     "metadata": {},
     "output_type": "execute_result"
    },
    {
     "data": {
      "image/png": "[encoded data removed]",
      "text/plain": [
       "<Figure size 400x300 with 1 Axes>"
      ]
     },
     "metadata": {},
     "output_type": "display_data"
    },
    {
     "data": {
      "image/png": "[encoded data removed]",
      "text/plain": [
       "<Figure size 600x300 with 1 Axes>"
      ]
     },
     "metadata": {},
     "output_type": "display_data"
    },
    {
     "data": {
      "image/png": "[encoded data removed]",
      "text/plain": [
       "<Figure size 2000x1000 with 1 Axes>"
      ]
     },
     "metadata": {},
     "output_type": "display_data"
    }
   ],
   "source": [
    "# values of activation:\n",
    "\n",
    "print(h.shape, h.view(-1).shape)\n",
    "lst =  h.view(-1).tolist()\n",
    "plt.figure(figsize=(4, 3))\n",
    "plt.hist(lst,50)\n",
    "plt.plot()\n",
    "\n",
    "\n",
    "# values before activation triggered\n",
    "plt.figure(figsize=(6, 3))\n",
    "plt.hist(hpreact.view(-1).tolist(), 50)\n",
    "plt.plot()\n",
    "\n",
    "print(f\"shape of activation:\\n{h.shape}\")\n",
    "plt.figure(figsize=(20,10))\n",
    "plt.imshow(h.abs()>0.99, cmap= 'gray', interpolation='nearest')"
   ]
  },
  {
   "cell_type": "code",
   "execution_count": 130,
   "metadata": {},
   "outputs": [
    {
     "name": "stdout",
     "output_type": "stream",
     "text": [
      "11897\n",
      "      0/   5000: 3.7477\n",
      "    500/   5000: 2.9541\n",
      "   1000/   5000: 2.4541\n",
      "   1500/   5000: 2.1060\n",
      "   2000/   5000: 2.4049\n",
      "   2500/   5000: 2.3513\n",
      "   3000/   5000: 2.2152\n",
      "   3500/   5000: 2.5592\n",
      "   4000/   5000: 2.0156\n",
      "   4500/   5000: 2.3334\n",
      "train 2.3564\n",
      "val 2.3568\n"
     ]
    },
    {
     "data": {
      "image/png": "[encoded data removed]",
      "text/plain": [
       "<Figure size 800x400 with 1 Axes>"
      ]
     },
     "metadata": {},
     "output_type": "display_data"
    }
   ],
   "source": [
    "# now from the above graphs we can see that \n",
    "# we have solved the activation issues\n",
    "#now will roun for all epochs\n",
    "#-------------------------------------------\n",
    "\n",
    "\n",
    "n_embd = 10 # the dimensionality of the character embedding vectors\n",
    "n_hidden = 200 # the number of neurons in the hidden layer of the MLP\n",
    "\n",
    "g = torch.Generator().manual_seed(2147483647) # for reproducibility\n",
    "C  = torch.randn((vocab_size, n_embd),            generator=g)\n",
    "W1 = torch.randn((n_embd * block_size, n_hidden), generator=g) * 0.2\n",
    "b1 = torch.randn(n_hidden,                        generator=g) * 0.01\n",
    "W2 = torch.randn((n_hidden, vocab_size),          generator=g) * 0.1\n",
    "b2 = torch.randn(vocab_size,                      generator=g) * 0.0\n",
    "\n",
    "parameters = [C, W1, b1, W2, b2]\n",
    "print(sum(p.nelement() for p in parameters)) # number of parameters in total\n",
    "for p in parameters:\n",
    "  p.requires_grad = True\n",
    "\n",
    "# Training Loop:\n",
    "#------------------------------\n",
    "\n",
    "max_steps = 5000\n",
    "batch_size = 32\n",
    "lossi = []\n",
    "\n",
    "\n",
    "for i in range(max_steps):\n",
    "\n",
    "    #minbatch construct\n",
    "    ix = torch.randint(0, Xtr.shape[0], (batch_size,), generator= g)\n",
    "    Xb, Yb = Xtr[ix], Ytr[ix] # batchs\n",
    "\n",
    "    #forward Pass:\n",
    "    emb = C[Xb]                 # emb chr into vector(32,3,10)\n",
    "    embcat = emb.view(emb.shape[0],-1)       # voncat the vectors(32,30)\n",
    "    hpreact = embcat @ W1 + b1    # (32,200)\n",
    "    h = torch.tanh(hpreact)     # (32,200)\n",
    "    logits = h @ W2 + b2        # (32,27)\n",
    "    loss = F.cross_entropy(logits, Yb)\n",
    "\n",
    "    #backward pass:\n",
    "    for p in parameters:\n",
    "        p.grad = None\n",
    "    loss.backward()\n",
    "\n",
    "    #weight update:\n",
    "    lr = 0.1 if i < 500 else 0.01      # step lr decay\n",
    "    for p in parameters:\n",
    "        p.data += -lr * p.grad\n",
    "\n",
    "    # track status:\n",
    "    if i % 500== 0:\n",
    "        print(f\"{i:7d}/{max_steps:7d}: {loss.item():.4f}\")\n",
    "    \n",
    "    # plot data\n",
    "    lossi.append(loss.log10().item())\n",
    "    \n",
    "split_loss('train')\n",
    "split_loss('val')\n",
    "import matplotlib.pyplot as plt\n",
    "# Plot loss vs epochs\n",
    "plt.figure(figsize=(8, 4))  # Set the width and height in inches\n",
    "plt.plot(lossi)\n",
    "plt.xlabel('Epochs')\n",
    "plt.ylabel('Loss')\n",
    "plt.grid(True)\n",
    "plt.show()\n"
   ]
  },
  {
   "cell_type": "code",
   "execution_count": null,
   "metadata": {},
   "outputs": [],
   "source": [
    "# after seting the activation below are results\n",
    "\n",
    "# train 2.3525\n",
    "# val 2.3578\n"
   ]
  },
  {
   "cell_type": "code",
   "execution_count": 36,
   "metadata": {},
   "outputs": [
    {
     "name": "stdout",
     "output_type": "stream",
     "text": [
      "x shape: torch.Size([1000, 10])\n",
      "w shape: torch.Size([10, 200])\n",
      "y shape: torch.Size([1000, 200])\n",
      "x mean: 0.012196 w mean:-0.049129 y mean:-0.010581\n",
      "x SD 0.989946 w SD 1.019952 y SD 3.204167\n",
      "x mean: 0.003141 w mean:-0.073506 y mean:0.007505\n",
      "x SD 1.009675 w SD 4.972723 y SD 15.919535\n",
      "x mean: 0.006935 w mean:0.001056 y mean:-0.001454\n",
      "x SD 1.009692 w SD 0.473435 y SD 1.508884\n",
      "x mean: 0.000212 w mean:0.009018 y mean:-0.004890\n",
      "x SD 0.990460 w SD 0.310164 y SD 0.972122\n"
     ]
    },
    {
     "data": {
      "text/plain": [
       "[]"
      ]
     },
     "execution_count": 36,
     "metadata": {},
     "output_type": "execute_result"
    },
    {
     "data": {
      "image/png": "[encoded data removed]",
      "text/plain": [
       "<Figure size 2000x300 with 2 Axes>"
      ]
     },
     "metadata": {},
     "output_type": "display_data"
    },
    {
     "data": {
      "image/png": "[encoded data removed]",
      "text/plain": [
       "<Figure size 2000x300 with 2 Axes>"
      ]
     },
     "metadata": {},
     "output_type": "display_data"
    },
    {
     "data": {
      "image/png": "[encoded data removed]",
      "text/plain": [
       "<Figure size 2000x300 with 2 Axes>"
      ]
     },
     "metadata": {},
     "output_type": "display_data"
    },
    {
     "data": {
      "image/png": "[encoded data removed]",
      "text/plain": [
       "<Figure size 2000x300 with 2 Axes>"
      ]
     },
     "metadata": {},
     "output_type": "display_data"
    }
   ],
   "source": [
    "#\n",
    "import matplotlib.pyplot as plt \n",
    "x = torch.randn(1000, 10)      # 10 inputs \n",
    "w = torch.randn(10,200)        # 200 neurons with input 10\n",
    "y = x @ w\n",
    "\n",
    "print(f\"x shape: {x.shape}\")\n",
    "print(f\"w shape: {w.shape}\")\n",
    "print(f\"y shape: {y.shape}\")\n",
    "\n",
    "print(f\"x mean: {x.mean():4f} w mean:{w.mean():4f} y mean:{y.mean():4f}\")\n",
    "print(f\"x SD {x.std():4f} w SD {w.std():4f} y SD {y.std():4f}\")\n",
    "\n",
    "plt.figure(figsize=(20,3))\n",
    "plt.subplot(121)\n",
    "plt.hist(x.view(-1).tolist(), 50, density=True)\n",
    "plt.subplot(122)\n",
    "plt.hist(y.view(-1).tolist(), 50, density=True)\n",
    "\n",
    "plt.plot()\n",
    "\n",
    "\n",
    "\n",
    "#\n",
    "import matplotlib.pyplot as plt \n",
    "x = torch.randn(1000, 10)      # 10 inputs \n",
    "w = torch.randn(10,200)  * 5      # 200 neurons with input 10\n",
    "y = x @ w\n",
    "\n",
    "\n",
    "\n",
    "print(f\"x mean: {x.mean():4f} w mean:{w.mean():4f} y mean:{y.mean():4f}\")\n",
    "print(f\"x SD {x.std():4f} w SD {w.std():4f} y SD {y.std():4f}\")\n",
    "\n",
    "plt.figure(figsize=(20,3))\n",
    "plt.subplot(121)\n",
    "plt.hist(x.view(-1).tolist(), 50, density=True)\n",
    "plt.subplot(122)\n",
    "plt.hist(y.view(-1).tolist(), 50, density=True)\n",
    "\n",
    "plt.plot()\n",
    "\n",
    "\n",
    "\n",
    "import matplotlib.pyplot as plt \n",
    "x = torch.randn(1000, 10)      # 10 inputs \n",
    "w = torch.randn(10,200)  * 0.5      # 200 neurons with input 10\n",
    "y = x @ w\n",
    "\n",
    "\n",
    "\n",
    "print(f\"x mean: {x.mean():4f} w mean:{w.mean():4f} y mean:{y.mean():4f}\")\n",
    "print(f\"x SD {x.std():4f} w SD {w.std():4f} y SD {y.std():4f}\")\n",
    "\n",
    "plt.figure(figsize=(20,3))\n",
    "plt.subplot(121)\n",
    "plt.hist(x.view(-1).tolist(), 50, density=True)\n",
    "plt.subplot(122)\n",
    "plt.hist(y.view(-1).tolist(), 50, density=True)\n",
    "\n",
    "plt.plot()\n",
    "\n",
    "\n",
    "import matplotlib.pyplot as plt \n",
    "x = torch.randn(1000, 10)      # 10 inputs \n",
    "w = torch.randn(10,200)  / (10)**0.5    # 200 neurons with input 10\n",
    "y = x @ w\n",
    "\n",
    "\n",
    "\n",
    "print(f\"x mean: {x.mean():4f} w mean:{w.mean():4f} y mean:{y.mean():4f}\")\n",
    "print(f\"x SD {x.std():4f} w SD {w.std():4f} y SD {y.std():4f}\")\n",
    "\n",
    "plt.figure(figsize=(20,3))\n",
    "plt.subplot(121)\n",
    "plt.hist(x.view(-1).tolist(), 50, density=True)\n",
    "plt.subplot(122)\n",
    "plt.hist(y.view(-1).tolist(), 50, density=True)\n",
    "\n",
    "plt.plot()\n"
   ]
  },
  {
   "cell_type": "code",
   "execution_count": null,
   "metadata": {},
   "outputs": [],
   "source": [
    "# gausian distribution \n",
    "# normal gaussian \n",
    "    # mean = 0\n",
    "    # SD = 1  measure of the spread of gaussian\n",
    "\n",
    "# after multiplicatoion\n",
    "# mean remain same as it is simitric operation \n",
    "# the gaussian is expending for ie y and SD is increasing\n",
    "\n",
    "# from the above graph as the weights value increases the spread of output y increases proportionaly\n",
    "# similarly if i readuce the value of weights the output spread will decrease\n",
    "\n",
    "\n",
    "# point is what do i multiply with weight to preserve the SD of output to be one\n",
    "# div the sqroot of fanin \n",
    "# fanin is the input element to layer ie = 10\n",
    "# root(fanin) = root(10)\n",
    "\n",
    "\n",
    "# the activation out valuie shoud not convers to 0 or expend to inf \n",
    "# it should be well managed\n",
    "\n",
    "\n",
    "# also the gradients should also be well behaved\n",
    "# all this will be managed by well initalized weights and baises\n",
    "\n",
    "\n",
    "# torch uses:\n",
    "# torch.nn.init.kaining_normal\n",
    "\n",
    "\n",
    "# weight initalisation used to play imp role eariler but due to advancement \n",
    "# of below techniques help it to take care of it\n",
    "\n",
    "# batch normalisation \n",
    "# resudual connection \n",
    "# best optimiser\n",
    "\n",
    "\n",
    "\n",
    "# gain/root(fanin)    # gain for tanh = 5/3\n",
    "(5/3)/((n_embd * block_size)**0.5)"
   ]
  },
  {
   "cell_type": "code",
   "execution_count": null,
   "metadata": {},
   "outputs": [],
   "source": [
    "# now from the above graphs we can see that \n",
    "# we have solved the activation issues\n",
    "#now will roun for all epochs\n",
    "#-------------------------------------------\n",
    "\n",
    "\n",
    "n_embd = 10 # the dimensionality of the character embedding vectors\n",
    "n_hidden = 200 # the number of neurons in the hidden layer of the MLP\n",
    "\n",
    "g = torch.Generator().manual_seed(2147483647) # for reproducibility\n",
    "C  = torch.randn((vocab_size, n_embd),            generator=g)\n",
    "W1 = torch.randn((n_embd * block_size, n_hidden), generator=g) * (5/3)/((n_embd * block_size)**0.5)\n",
    "b1 = torch.randn(n_hidden,                        generator=g) * 0.01\n",
    "W2 = torch.randn((n_hidden, vocab_size),          generator=g) * 0.1\n",
    "b2 = torch.randn(vocab_size,                      generator=g) * 0.0\n",
    "\n",
    "parameters = [C, W1, b1, W2, b2]\n",
    "print(sum(p.nelement() for p in parameters)) # number of parameters in total\n",
    "for p in parameters:\n",
    "  p.requires_grad = True\n",
    "\n",
    "# Training Loop:\n",
    "#------------------------------\n",
    "\n",
    "max_steps = 5000\n",
    "batch_size = 32\n",
    "lossi = []\n",
    "\n",
    "\n",
    "for i in range(max_steps):\n",
    "\n",
    "    #minbatch construct\n",
    "    ix = torch.randint(0, Xtr.shape[0], (batch_size,), generator= g)\n",
    "    Xb, Yb = Xtr[ix], Ytr[ix] # batchs\n",
    "\n",
    "    #forward Pass:\n",
    "    emb = C[Xb]                 # emb chr into vector(32,3,10)\n",
    "    embcat = emb.view(emb.shape[0],-1)       # voncat the vectors(32,30)\n",
    "    hpreact = embcat @ W1 + b1    # (32,200)\n",
    "    h = torch.tanh(hpreact)     # (32,200)\n",
    "    logits = h @ W2 + b2        # (32,27)\n",
    "    loss = F.cross_entropy(logits, Yb)\n",
    "\n",
    "    #backward pass:\n",
    "    for p in parameters:\n",
    "        p.grad = None\n",
    "    loss.backward()\n",
    "\n",
    "    #weight update:\n",
    "    lr = 0.1 if i < 500 else 0.01      # step lr decay\n",
    "    for p in parameters:\n",
    "        p.data += -lr * p.grad\n",
    "\n",
    "    # track status:\n",
    "    if i % 500== 0:\n",
    "        print(f\"{i:7d}/{max_steps:7d}: {loss.item():.4f}\")\n",
    "    \n",
    "    # plot data\n",
    "    lossi.append(loss.log10().item())\n",
    "    \n",
    "split_loss('train')\n",
    "split_loss('val')\n",
    "import matplotlib.pyplot as plt\n",
    "# Plot loss vs epochs\n",
    "plt.figure(figsize=(8, 4))  # Set the width and height in inches\n",
    "plt.plot(lossi)\n",
    "plt.xlabel('Epochs')\n",
    "plt.ylabel('Loss')\n",
    "plt.grid(True)\n",
    "plt.show()\n"
   ]
  },
  {
   "cell_type": "code",
   "execution_count": null,
   "metadata": {},
   "outputs": [],
   "source": [
    "# batch normalisation:\n",
    "#------------------------------\n",
    "# will modify preactivation\n",
    "# it has to be roughly gausian\n",
    "# so that output to activation have right shape\n",
    "\n",
    "# so just take the preactivations and normalised it to gaussain \n",
    "# and gaussain is perfectly differential operation\n",
    "\n",
    "# if the preactivation is small than ytanh will inactivae\n",
    "# and if it is high than tanh output will be saturated\n",
    "# so we like it to be preactivation to be gausian\n",
    "\n",
    "# we want these preactivation: hpreact to be gaussain omnnly in the initalization but not force to be gausian always\n",
    "# like this distribution should move around\n",
    "# so will introduce scale and shift\n",
    "# we are taking these normalised input and scaling these input by some gain and adding some baise to offset them\n",
    "# \n",
    "# add gain and bais\n",
    "# at the initalization the value of gain =1 \n",
    "# bias = 0\n",
    "# so hract = gain * (hract - hract.mean()) / hract.std()  + bias\n",
    "\n",
    "# in the optimisation these gain and bias value will get updated to give flexibility to the output value of the preactivation.\n"
   ]
  },
  {
   "cell_type": "code",
   "execution_count": 42,
   "metadata": {},
   "outputs": [
    {
     "name": "stdout",
     "output_type": "stream",
     "text": [
      "11897\n",
      "      0/   5000: 3.9518\n"
     ]
    }
   ],
   "source": [
    "# now from the above graphs we can see that \n",
    "# we have solved the activation issues\n",
    "#now will roun for all epochs\n",
    "#-------------------------------------------\n",
    "\n",
    "\n",
    "n_embd = 10 # the dimensionality of the character embedding vectors\n",
    "n_hidden = 200 # the number of neurons in the hidden layer of the MLP\n",
    "\n",
    "g = torch.Generator().manual_seed(2147483647) # for reproducibility\n",
    "C  = torch.randn((vocab_size, n_embd),            generator=g)\n",
    "W1 = torch.randn((n_embd * block_size, n_hidden), generator=g) * (5/3)/((n_embd * block_size)**0.5)\n",
    "b1 = torch.randn(n_hidden,                        generator=g) * 0.01\n",
    "W2 = torch.randn((n_hidden, vocab_size),          generator=g) * 0.1\n",
    "b2 = torch.randn(vocab_size,                      generator=g) * 0.0\n",
    "\n",
    "\n",
    "parameters = [C, W1, b1, W2, b2]\n",
    "print(sum(p.nelement() for p in parameters)) # number of parameters in total\n",
    "for p in parameters:\n",
    "  p.requires_grad = True\n",
    "\n",
    "# Training Loop:\n",
    "#------------------------------\n",
    "\n",
    "max_steps = 5000\n",
    "batch_size = 32\n",
    "lossi = []\n",
    "\n",
    "\n",
    "for i in range(max_steps):\n",
    "\n",
    "    #minbatch construct\n",
    "    ix = torch.randint(0, Xtr.shape[0], (batch_size,), generator= g)\n",
    "    Xb, Yb = Xtr[ix], Ytr[ix] # batchs\n",
    "\n",
    "    #forward Pass:\n",
    "    emb = C[Xb]                 # emb chr into vector(32,3,10)\n",
    "    embcat = emb.view(emb.shape[0],-1)       # voncat the vectors(32,30)\n",
    "    hpreact = embcat @ W1 + b1    # (32,200)\n",
    "\n",
    "    # preactivation : hpreact\n",
    "    hpreact = (hpreact - hpreact.mean(0,keepdim=True)) / hpreact.std(0, keepdim=True)\n",
    "\n",
    "\n",
    "\n",
    "\n",
    "    h = torch.tanh(hpreact)     # (32,200)\n",
    "    logits = h @ W2 + b2        # (32,27)\n",
    "    loss = F.cross_entropy(logits, Yb)\n",
    "\n",
    "    #backward pass:\n",
    "    for p in parameters:\n",
    "        p.grad = None\n",
    "    loss.backward()\n",
    "\n",
    "    #weight update:\n",
    "    lr = 0.1 if i < 500 else 0.01      # step lr decay\n",
    "    for p in parameters:\n",
    "        p.data += -lr * p.grad\n",
    "\n",
    "    # track status:\n",
    "    if i % 500== 0:\n",
    "        print(f\"{i:7d}/{max_steps:7d}: {loss.item():.4f}\")\n",
    "    \n",
    "    # plot data\n",
    "    lossi.append(loss.log10().item())\n",
    "    break\n",
    "    \n"
   ]
  },
  {
   "cell_type": "code",
   "execution_count": 54,
   "metadata": {},
   "outputs": [
    {
     "name": "stdout",
     "output_type": "stream",
     "text": [
      "hpreact.shape=torch.Size([32, 200])\n",
      "mean around 0 dim: hpreact.mean(0, keepdim=True).shape=torch.Size([1, 200])\n",
      "SD around 0 dim: hpreact.std(0, keepdim=True).shape=torch.Size([1, 200])\n"
     ]
    }
   ],
   "source": [
    "print(f\"{hpreact.shape=}\") # 32 examples 200 neurons\n",
    "print(f\"mean around 0 dim: {hpreact.mean(0, keepdim=True).shape=}\")\n",
    "print(f\"SD around 0 dim: {hpreact.std(0, keepdim=True).shape=}\")\n",
    "print(f\"batch normalization:\")\n",
    "hpreact = (hpreact - hpreact.mean(0,keepdim=True)) / hpreact.std(0, keepdim=True)"
   ]
  },
  {
   "cell_type": "code",
   "execution_count": 55,
   "metadata": {},
   "outputs": [
    {
     "name": "stdout",
     "output_type": "stream",
     "text": [
      "12297\n",
      "      0/   5000: 3.7900\n",
      "    500/   5000: 2.7913\n",
      "   1000/   5000: 2.3590\n",
      "   1500/   5000: 2.4010\n",
      "   2000/   5000: 2.3683\n",
      "   2500/   5000: 2.4132\n",
      "   3000/   5000: 2.4002\n",
      "   3500/   5000: 2.4720\n",
      "   4000/   5000: 2.2636\n",
      "   4500/   5000: 2.1829\n"
     ]
    },
    {
     "data": {
      "image/png": "[encoded data removed]",
      "text/plain": [
       "<Figure size 800x400 with 1 Axes>"
      ]
     },
     "metadata": {},
     "output_type": "display_data"
    }
   ],
   "source": [
    "# add gain and bais\n",
    "# at the initalization the value of gain =1 \n",
    "# bias = 0\n",
    "# so hract = gain * (hract - hract.mean()) / hract.std()  + bias\n",
    "#-------------------------------------------\n",
    "\n",
    "\n",
    "n_embd = 10 # the dimensionality of the character embedding vectors\n",
    "n_hidden = 200 # the number of neurons in the hidden layer of the MLP\n",
    "\n",
    "g = torch.Generator().manual_seed(2147483647) # for reproducibility\n",
    "C  = torch.randn((vocab_size, n_embd),            generator=g)\n",
    "W1 = torch.randn((n_embd * block_size, n_hidden), generator=g) * (5/3)/((n_embd * block_size)**0.5)\n",
    "b1 = torch.randn(n_hidden,                        generator=g) * 0.01\n",
    "W2 = torch.randn((n_hidden, vocab_size),          generator=g) * 0.1\n",
    "b2 = torch.randn(vocab_size,                      generator=g) * 0.0\n",
    "\n",
    "\n",
    "\n",
    "bngain = torch.ones((1, n_hidden))\n",
    "bnbias = torch.zeros((1, n_hidden))\n",
    "\n",
    "parameters = [C, W1, b1, W2, b2, bngain, bnbias]\n",
    "print(sum(p.nelement() for p in parameters)) # number of parameters in total\n",
    "for p in parameters:\n",
    "  p.requires_grad = True\n",
    "\n",
    "# Training Loop:\n",
    "#------------------------------\n",
    "\n",
    "max_steps = 5000\n",
    "batch_size = 32\n",
    "lossi = []\n",
    "\n",
    "\n",
    "for i in range(max_steps):\n",
    "\n",
    "    #minbatch construct\n",
    "    ix = torch.randint(0, Xtr.shape[0], (batch_size,), generator= g)\n",
    "    Xb, Yb = Xtr[ix], Ytr[ix] # batchs\n",
    "\n",
    "    #forward Pass:\n",
    "    emb = C[Xb]                 # emb chr into vector(32,3,10)\n",
    "    embcat = emb.view(emb.shape[0],-1)       # voncat the vectors(32,30)\n",
    "    hpreact = embcat @ W1 + b1    # (32,200)\n",
    "\n",
    "    # preactivation : hpreact\n",
    "    hpreact = bngain * (hpreact - hpreact.mean(0,keepdim=True)) / hpreact.std(0, keepdim=True) + bnbias\n",
    "\n",
    "\n",
    "\n",
    "\n",
    "    h = torch.tanh(hpreact)     # (32,200)\n",
    "    logits = h @ W2 + b2        # (32,27)\n",
    "    loss = F.cross_entropy(logits, Yb)\n",
    "\n",
    "    #backward pass:\n",
    "    for p in parameters:\n",
    "        p.grad = None\n",
    "    loss.backward()\n",
    "\n",
    "    #weight update:\n",
    "    lr = 0.1 if i < 500 else 0.01      # step lr decay\n",
    "    for p in parameters:\n",
    "        p.data += -lr * p.grad\n",
    "\n",
    "    # track status:\n",
    "    if i % 500== 0:\n",
    "        print(f\"{i:7d}/{max_steps:7d}: {loss.item():.4f}\")\n",
    "    \n",
    "    # plot data\n",
    "    lossi.append(loss.log10().item())\n",
    "    \n",
    "    \n",
    "\n",
    "import matplotlib.pyplot as plt\n",
    "# Plot loss vs epochs\n",
    "plt.figure(figsize=(8, 4))  # Set the width and height in inches\n",
    "plt.plot(lossi)\n",
    "plt.xlabel('Epochs')\n",
    "plt.ylabel('Loss')\n",
    "plt.grid(True)\n",
    "plt.show()\n"
   ]
  },
  {
   "cell_type": "code",
   "execution_count": 56,
   "metadata": {},
   "outputs": [
    {
     "name": "stdout",
     "output_type": "stream",
     "text": [
      "train 2.3686\n",
      "val 2.3681\n"
     ]
    }
   ],
   "source": [
    "@torch.no_grad()   # decorator will disable gradient tracking\n",
    "def split_loss(split):\n",
    "    x,y = {\n",
    "        'train': (Xtr, Ytr),\n",
    "        'val' : (Xdev, Ydev),\n",
    "        'test': (Xte, Yte)\n",
    "    }[split]\n",
    "\n",
    "    emb = C[x]\n",
    "    embcat = emb.view(emb.shape[0],-1)\n",
    "    hpreact = embcat @ W1 + b1\n",
    "    # preactivation : hpreact\n",
    "    hpreact = bngain * (hpreact - hpreact.mean(0,keepdim=True)) / hpreact.std(0, keepdim=True) + bnbias\n",
    "    h = torch.tanh(hpreact)\n",
    "    logits = h @ W2 + b2\n",
    "    loss = F.cross_entropy(logits, y)\n",
    "    print(f\"{split} {loss.item():.4f}\")\n",
    "\n",
    "split_loss('train')\n",
    "split_loss('val')"
   ]
  },
  {
   "cell_type": "code",
   "execution_count": null,
   "metadata": {},
   "outputs": [],
   "source": [
    "# after seting the activation below are results\n",
    "\n",
    "# train 2.3525\n",
    "# val 2.3578\n",
    "\n",
    "# train 2.3686\n",
    "# val 2.3681"
   ]
  },
  {
   "cell_type": "code",
   "execution_count": null,
   "metadata": {},
   "outputs": [],
   "source": []
  },
  {
   "cell_type": "code",
   "execution_count": 57,
   "metadata": {},
   "outputs": [
    {
     "name": "stdout",
     "output_type": "stream",
     "text": [
      "morajansa.\n",
      "zeze.\n",
      "mad.\n",
      "ryalarsturjksogon.\n",
      "gra.\n",
      "chad.\n",
      "elin.\n",
      "shilon.\n",
      "jekeanvit.\n",
      "aah.\n",
      "katelon.\n",
      "kaana.\n",
      "shdani.\n",
      "dhinie.\n",
      "tyn.\n",
      "joxecgynn.\n",
      "thatfanzelahda.\n",
      "kyltub.\n",
      "eha.\n",
      "kayshah.\n"
     ]
    }
   ],
   "source": [
    "# evaluation:\n",
    "# evaluation on generation\n",
    "# sample from the model\n",
    "g = torch.Generator().manual_seed(2147483647 + 10)\n",
    "\n",
    "for _ in range(20):\n",
    "    \n",
    "    out = []\n",
    "    context = [0] * block_size # initialize with all ...\n",
    "    while True:\n",
    "      emb = C[torch.tensor([context])] # (1,block_size,d)\n",
    "      h = torch.tanh(emb.view(1, -1) @ W1 + b1)\n",
    "      logits = h @ W2 + b2\n",
    "      probs = F.softmax(logits, dim=1)\n",
    "      ix = torch.multinomial(probs, num_samples=1, generator=g).item()\n",
    "      context = context[1:] + [ix]\n",
    "      out.append(ix)\n",
    "      if ix == 0:\n",
    "        break\n",
    "    \n",
    "    print(''.join(itos[i] for i in out))"
   ]
  },
  {
   "cell_type": "code",
   "execution_count": null,
   "metadata": {},
   "outputs": [],
   "source": []
  },
  {
   "cell_type": "code",
   "execution_count": null,
   "metadata": {},
   "outputs": [],
   "source": []
  },
  {
   "cell_type": "code",
   "execution_count": null,
   "metadata": {},
   "outputs": [],
   "source": []
  },
  {
   "cell_type": "code",
   "execution_count": null,
   "metadata": {},
   "outputs": [],
   "source": []
  }
 ],
 "metadata": {
  "kernelspec": {
   "display_name": "gpt",
   "language": "python",
   "name": "python3"
  },
  "language_info": {
   "codemirror_mode": {
    "name": "ipython",
    "version": 3
   },
   "file_extension": ".py",
   "mimetype": "text/x-python",
   "name": "python",
   "nbconvert_exporter": "python",
   "pygments_lexer": "ipython3",
   "version": "3.12.0"
  }
 },
 "nbformat": 4,
 "nbformat_minor": 2
}

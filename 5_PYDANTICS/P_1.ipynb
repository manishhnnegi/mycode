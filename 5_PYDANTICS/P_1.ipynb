{
 "cells": [
  {
   "cell_type": "markdown",
   "metadata": {},
   "source": [
    "# Pydantics:"
   ]
  },
  {
   "cell_type": "markdown",
   "metadata": {},
   "source": [
    "## Models\n",
    "\n",
    "Models in Pydantic are classes that inherit from `BaseModel`. They define the data structure using type annotations and offer avenues for data validation and conversion.\n",
    "\n",
    "## Nested Models\n",
    "\n",
    "Nested Models allow you to represent complex, nested data structures by defining models within models.\n",
    "\n",
    "## Fields\n",
    "\n",
    "Fields are the individual variables defined within a model. They can have additional configurations and validations beyond the basic type annotations.\n",
    "\n",
    "## Field Validators\n",
    "\n",
    "Field Validators are functions used to apply additional validations or transformations to fields before they are set in the model.\n",
    "\n",
    "## Model Validators\n",
    "\n",
    "Model Validators allow for validation at the model level, occurring after all the Field Validators have been executed. They can be performed both pre and post-field validation.\n",
    "\n",
    "## Computed Fields\n",
    "\n",
    "Computed Fields are fields whose values are dynamically computed from the values of other fields.\n",
    "\n",
    "## Integration with Dataclasses\n",
    "\n",
    "Pydantic offers integrations with Python Dataclasses to simplify type safety and data validation.\n",
    "\n",
    "## Settings for Environment Variables\n",
    "\n",
    "Pydantic enables the loading and validation of settings from environment variables, simplifying the configuration of your applications.\n"
   ]
  },
  {
   "cell_type": "code",
   "execution_count": 6,
   "metadata": {},
   "outputs": [
    {
     "name": "stdout",
     "output_type": "stream",
     "text": [
      "pydantics version: 2.6.4\n"
     ]
    }
   ],
   "source": [
    "import pydantic\n",
    "print(f\"pydantics version: {pydantic.__version__}\")"
   ]
  },
  {
   "cell_type": "code",
   "execution_count": null,
   "metadata": {},
   "outputs": [],
   "source": [
    "# its used for validating stuffs\n",
    "\n"
   ]
  }
 ],
 "metadata": {
  "kernelspec": {
   "display_name": "gpt",
   "language": "python",
   "name": "python3"
  },
  "language_info": {
   "codemirror_mode": {
    "name": "ipython",
    "version": 3
   },
   "file_extension": ".py",
   "mimetype": "text/x-python",
   "name": "python",
   "nbconvert_exporter": "python",
   "pygments_lexer": "ipython3",
   "version": "3.12.0"
  }
 },
 "nbformat": 4,
 "nbformat_minor": 2
}

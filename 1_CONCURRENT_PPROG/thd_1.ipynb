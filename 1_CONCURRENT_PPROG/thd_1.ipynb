{
 "cells": [
  {
   "cell_type": "markdown",
   "metadata": {},
   "source": [
    "# Threding Tutorial \n",
    "\n",
    "    1. Structure of threading code\n",
    "    2. Sequential program execution of code\n",
    "    3. parallal execution of code using threading \n",
    "    4. comparision of both approches\n",
    "    5. threading code using custom threading class\n",
    "    6. threading code execution explanation\n",
    "    7. threading when a function retruns a value in the code.\n",
    "        1. differnt ways to handel retrun values.\n",
    "    8. threading use cases.\n",
    "        1. IO bound operations\n",
    "        2. paralla execution of tasks\n",
    "        3. handlling concurrent use request\n",
    "        4. handling background tasks"
   ]
  },
  {
   "cell_type": "markdown",
   "metadata": {},
   "source": [
    "### Structure followed in the examples"
   ]
  },
  {
   "cell_type": "code",
   "execution_count": 1,
   "metadata": {},
   "outputs": [],
   "source": [
    "import time\n",
    "\n",
    "def fn():    # function to called in main\n",
    "    pass\n",
    "\n",
    "def main():   # main function\n",
    "    pass\n",
    "\n",
    "if __name__ == \"__main__\":   # run only if run as main file not when it gets imported\n",
    "    main()"
   ]
  },
  {
   "cell_type": "markdown",
   "metadata": {},
   "source": [
    "### structure of threading"
   ]
  },
  {
   "cell_type": "code",
   "execution_count": 3,
   "metadata": {
    "scrolled": true
   },
   "outputs": [],
   "source": [
    "import threading\n",
    "\n",
    "def fn(n):\n",
    "    print(n*n)\n",
    " \n",
    "    \n",
    "def main(N):\n",
    "    \n",
    "    threads = []\n",
    "    for i in range(N):\n",
    "        num = (i+1)*100000\n",
    "        t = threading.Thread(target= fn, args=(num,))   # create thread\n",
    "        t.start()                   # start thread\n",
    "        threads.append(t)           # append to threds list\n",
    "        \n",
    "    for t in threads:\n",
    "        t.join()                   # join each thread after completion of executions\n",
    "        \n",
    "if __name__ == \"__main__\":\n",
    "    main(3)\n",
    "    "
   ]
  },
  {
   "cell_type": "markdown",
   "metadata": {},
   "source": [
    "### Example of sequential execution of program"
   ]
  },
  {
   "cell_type": "code",
   "execution_count": 21,
   "metadata": {},
   "outputs": [
    {
     "name": "stdout",
     "output_type": "stream",
     "text": [
      "time taken by sum of square fn:  8.0 seconds\n",
      "time taken by sleep time fn:  15.0 seconds\n",
      "total execution time of both fn: 23.0 seconds\n"
     ]
    }
   ],
   "source": [
    "import time\n",
    "\n",
    "def fn(n):\n",
    "    sum_of_sqr = 0\n",
    "    for i in range(n):\n",
    "        sum_of_sqr += i**2\n",
    "    \n",
    "\n",
    "def sleepy(sec):\n",
    "    time.sleep(sec)\n",
    "\n",
    "\n",
    "def main(N, secs):\n",
    "\n",
    "    start = time.time()\n",
    "    for i in range(N):\n",
    "        num = (1+i)*10000000\n",
    "        fn(num)\n",
    "    tm2 = round(time.time() - start,1)\n",
    "    print('time taken by sum of square fn: ', tm2, 'seconds')\n",
    "\n",
    "    start = time.time()\n",
    "    for i in range(1, secs):\n",
    "        sleepy(i)    \n",
    "    tm1 = round(time.time() - start,1)\n",
    "    print('time taken by sleep time fn: ', tm1, 'seconds')\n",
    "\n",
    "    print(f\"total execution time of both fn: {tm1+tm2} seconds\")\n",
    "\n",
    "    \n",
    "\n",
    "if __name__ == \"__main__\":   # run only if run as main file not when it gets imported\n",
    "    main(4, 6)"
   ]
  },
  {
   "cell_type": "markdown",
   "metadata": {},
   "source": [
    "### Example of parallal execution of the program"
   ]
  },
  {
   "cell_type": "code",
   "execution_count": 18,
   "metadata": {},
   "outputs": [
    {
     "name": "stdout",
     "output_type": "stream",
     "text": [
      "Time taken by sum of square:  8.1 seconds\n",
      "time taken by sleep time:  5.0 seconds\n",
      "total execution time: 13.1 seconds\n"
     ]
    }
   ],
   "source": [
    "import time\n",
    "import threading\n",
    "\n",
    "\n",
    "\n",
    "def fn(n):\n",
    "    sum_of_sqr = 0\n",
    "    for i in range(n):\n",
    "        sum_of_sqr += i**2\n",
    "    #print(sum_of_sqr)\n",
    "\n",
    "def sleepy(sec):\n",
    "    time.sleep(sec)\n",
    "\n",
    "\n",
    "def main(N, secs):\n",
    "\n",
    "    start = time.time()\n",
    "\n",
    "    current_threads = []\n",
    "    for i in range(N):\n",
    "        num = (1+i)*10000000\n",
    "        t = threading.Thread(target= fn, args=(num,))\n",
    "        t.start()\n",
    "        current_threads.append(t)\n",
    "    for i in range(len(current_threads)):\n",
    "        current_threads[i].join()\n",
    "\n",
    "    tm1 = round(time.time() - start,1)\n",
    "    print(\"Time taken by sum of square fn: \", tm1,'seconds')\n",
    "\n",
    "    start = time.time()\n",
    "\n",
    "    current_threads = []\n",
    "    for second in range(1, secs):\n",
    "        t = threading.Thread(target= sleepy, args=(second,))\n",
    "        t.start()\n",
    "        current_threads.append(t)\n",
    "    for i in range(len(current_threads)):\n",
    "        current_threads[i].join()\n",
    "\n",
    "    tm2 = round(time.time() - start,1)\n",
    "    print('time taken by sleep time fn: ', tm2, 'seconds')\n",
    "\n",
    "\n",
    "    print(f\"total execution time of both fn: {tm1+tm2} seconds\")\n",
    "\n",
    "    \n",
    "\n",
    "if __name__ == \"__main__\":   # run only if run as main file not when it gets imported\n",
    "    main(4, 6)"
   ]
  },
  {
   "cell_type": "markdown",
   "metadata": {},
   "source": [
    " ##### Sequential Execution:\n",
    "    \n",
    "    time taken by sum of square fn:  8.0 seconds   (cpu compute intensive task)\n",
    "    time taken by sleep time fn:  15.0 seconds      (IO bound task)\n",
    "    total execution time of both fn: 23.0 seconds\n",
    "    --------------------------------------------------------------------\n",
    "##### Parllal Execution:\n",
    "    \n",
    "    Time taken by sum of square:  8.1 seconds  (cpu compute intensive task)\n",
    "    time taken by sleep time:  5.0 seconds      (IO bound task)\n",
    "    total execution time: 13.1 seconds\n",
    "    -----------------------------------------------------------------\n",
    "    \n",
    "##### Conclusion:\n",
    "    \n",
    "    the threading optimise the execution time for IO bound task effectively as compare to cpu compute intensive task.\n",
    "    \n",
    "    "
   ]
  },
  {
   "cell_type": "markdown",
   "metadata": {},
   "source": [
    "### same code above using custom threading class"
   ]
  },
  {
   "cell_type": "code",
   "execution_count": 25,
   "metadata": {},
   "outputs": [
    {
     "name": "stdout",
     "output_type": "stream",
     "text": [
      "Time taken by sum of square fn:  8.0 seconds\n",
      "Time taken by sleep time fn:  5.0 seconds\n",
      "Total execution time of both functions: 13.0 seconds\n"
     ]
    }
   ],
   "source": [
    "import threading\n",
    "\n",
    "class FnClass(threading.Thread):\n",
    "    def __init__(self, n):\n",
    "        threading.Thread.__init__(self)\n",
    "        self.n = n\n",
    "\n",
    "    def run(self):\n",
    "        sm = 0\n",
    "        for i in range(self.n):\n",
    "            sm += i**2\n",
    "\n",
    "\n",
    "# Custom thread class for sleeping\n",
    "class SleepyThread(threading.Thread):\n",
    "    def __init__(self, sec):\n",
    "        threading.Thread.__init__(self)\n",
    "        self.sec = sec\n",
    "\n",
    "    def run(self):\n",
    "        time.sleep(self.sec)\n",
    "\n",
    "def main(N,secs):\n",
    "    start = time.time()\n",
    "    sum_threads = []\n",
    "    \n",
    "    for i in range(N):\n",
    "        num = (1+i)* 10000000\n",
    "        t = FnClass(num)\n",
    "        t.start()\n",
    "        sum_threads.append(t)\n",
    "\n",
    "    for t in sum_threads:\n",
    "        t.join()\n",
    "\n",
    "    tm1 = round(time.time()- start,1)\n",
    "    print(\"Time taken by sum of square fn: \", tm1, 'seconds')\n",
    "\n",
    "    # Timing the sleep function\n",
    "    start = time.time()\n",
    "    sleep_threads = []\n",
    "\n",
    "    for second in range(1, secs):\n",
    "        t = SleepyThread(second)\n",
    "        t.start()\n",
    "        sleep_threads.append(t)\n",
    "\n",
    "    for t in sleep_threads:\n",
    "        t.join()\n",
    "\n",
    "    tm2 = round(time.time() - start, 1)\n",
    "    print('Time taken by sleep time fn: ', tm2, 'seconds')\n",
    "\n",
    "    print(f\"Total execution time of both functions: {tm1 + tm2} seconds\")\n",
    "\n",
    "\n",
    "\n",
    "if __name__ == \"__main__\":\n",
    "    main(4, 6)"
   ]
  },
  {
   "cell_type": "markdown",
   "metadata": {},
   "source": [
    "### Threading Concept Explanation"
   ]
  },
  {
   "cell_type": "code",
   "execution_count": 22,
   "metadata": {},
   "outputs": [
    {
     "name": "stdout",
     "output_type": "stream",
     "text": [
      "Thread fn-1 (fn) started.\n",
      "Thread fn-2 (fn) started.\n",
      "Thread fn-3 (fn) started.\n",
      "Thread fn-4 (fn) started.\n",
      "Thread fn-1 (fn) finished with sum: 333333283333335000000\n",
      "Thread fn-2 (fn) finished with sum: 2666666466666670000000\n",
      "Thread fn-3 (fn) finished with sum: 8999999550000005000000\n",
      "Thread fn-4 (fn) finished with sum: 21333332533333340000000\n",
      "Time taken by sum of square fn:  7.9 seconds\n",
      "\n",
      "Thread sleepy-1 (sleepy) started, sleeping for 1 seconds.\n",
      "Thread sleepy-2 (sleepy) started, sleeping for 2 seconds.\n",
      "Thread sleepy-3 (sleepy) started, sleeping for 3 seconds.\n",
      "Thread sleepy-4 (sleepy) started, sleeping for 4 seconds.\n",
      "Thread sleepy-5 (sleepy) started, sleeping for 5 seconds.\n",
      "Thread sleepy-1 (sleepy) finished.\n",
      "Thread sleepy-2 (sleepy) finished.\n",
      "Thread sleepy-3 (sleepy) finished.\n",
      "Thread sleepy-4 (sleepy) finished.\n",
      "Thread sleepy-5 (sleepy) finished.\n",
      "Time taken by sleep time fn:  5.0 seconds\n",
      "\n",
      "Total execution time of both fn: 12.9 seconds\n"
     ]
    }
   ],
   "source": [
    "import time\n",
    "import threading\n",
    "\n",
    "def fn(n, thread_id):\n",
    "    print(f\"Thread {thread_id} (fn) started.\")\n",
    "    sum_of_sqr = 0\n",
    "    for i in range(n):\n",
    "        sum_of_sqr += i**2\n",
    "    print(f\"Thread {thread_id} (fn) finished with sum: {sum_of_sqr}\")\n",
    "\n",
    "def sleepy(sec, thread_id):\n",
    "    print(f\"Thread {thread_id} (sleepy) started, sleeping for {sec} seconds.\")\n",
    "    time.sleep(sec)\n",
    "    print(f\"Thread {thread_id} (sleepy) finished.\")\n",
    "\n",
    "def main(N, secs):\n",
    "\n",
    "    start = time.time()\n",
    "\n",
    "    # Sum of squares calculation with threading\n",
    "    current_threads = []\n",
    "    for i in range(N):\n",
    "        num = (1 + i) * 10000000\n",
    "        thread_id = f\"fn-{i + 1}\"\n",
    "        t = threading.Thread(target=fn, args=(num, thread_id))\n",
    "        t.start()\n",
    "        current_threads.append(t)\n",
    "    \n",
    "    for t in current_threads:\n",
    "        t.join()\n",
    "\n",
    "    tm1 = round(time.time() - start, 1)\n",
    "    print(\"Time taken by sum of square fn: \", tm1, 'seconds\\n')\n",
    "\n",
    "    start = time.time()\n",
    "\n",
    "    # Sleep function with threading\n",
    "    current_threads = []\n",
    "    for second in range(1, secs):\n",
    "        thread_id = f\"sleepy-{second}\"\n",
    "        t = threading.Thread(target=sleepy, args=(second, thread_id))\n",
    "        t.start()\n",
    "        current_threads.append(t)\n",
    "    \n",
    "    for t in current_threads:\n",
    "        t.join()\n",
    "\n",
    "    tm2 = round(time.time() - start, 1)\n",
    "    print('Time taken by sleep time fn: ', tm2, 'seconds\\n')\n",
    "\n",
    "    print(f\"Total execution time of both fn: {tm1 + tm2} seconds\")\n",
    "\n",
    "if __name__ == \"__main__\":\n",
    "    main(4, 6)\n"
   ]
  },
  {
   "cell_type": "markdown",
   "metadata": {},
   "source": [
    "#### explain"
   ]
  },
  {
   "cell_type": "markdown",
   "metadata": {},
   "source": [
    "    When multiple threads, like fn-1 and fn-2, are executed on the same CPU core, they don't literally run at the same time in the strict sense. Instead, they share the CPU core's time through a process called time slicing or context switching.\n",
    "\n",
    "    Time Slicing and Context Switching\n",
    "    Time Slicing: The operating system's scheduler divides the CPU's time into small slices, allocating each thread a brief period to run. This time slice is usually in the order of milliseconds.\n",
    "    Context Switching: When a thread's time slice ends, the operating system saves its current state (context) and switches to another thread. The new thread then starts or resumes execution. This switching happens very quickly, making it appear as though multiple threads are running simultaneously, even on a single core.\n",
    "    Example Execution with fn-1 and fn-2\n",
    "    Starting fn-1:\n",
    "\n",
    "    The operating system gives fn-1 a time slice on the CPU core.\n",
    "    fn-1 begins calculating the sum of squares for n=10,000,000.\n",
    "    It might perform some iterations of the loop and accumulate part of the sum.\n",
    "    Context Switch to fn-2:\n",
    "\n",
    "    After fn-1 has used its time slice, the operating system may decide to switch to fn-2.\n",
    "    The current state of fn-1 (including the value of its variables, current instruction, etc.) is saved.\n",
    "    The CPU core is now allocated to fn-2, which begins calculating the sum of squares for n=20,000,000.\n",
    "    fn-2 performs some iterations of its loop.\n",
    "    Switching Back to fn-1:\n",
    "\n",
    "    After fn-2 uses its time slice, the operating system might switch back to fn-1.\n",
    "    The saved state of fn-1 is restored, and it resumes its calculation right where it left off.\n",
    "    This cycle of switching continues, with both fn-1 and fn-2 getting turns to run on the CPU core.\n",
    "    Parallel-like Execution:\n",
    "\n",
    "    Because the switching happens so fast, usually many thousands of times per second, it creates the illusion that both threads are running simultaneously.\n",
    "    In reality, they are taking turns, but this is done so efficiently that the performance gain is still significant.\n",
    "    Visualization of Time Slicing\n",
    "    Imagine a simplified timeline where each letter represents a small time slice:\n",
    "\n",
    "    plaintext\n",
    "    Copy code\n",
    "    Time --->\n",
    "\n",
    "    CPU Core: | fn-1 | fn-1 | fn-2 | fn-1 | fn-2 | fn-2 | fn-1 | fn-2 | ...\n",
    "\n",
    "    fn-1:       Running             Running             Running         \n",
    "    fn-2:                 Running             Running          Running  \n",
    "    Key Points:\n",
    "    Rapid Switching: The CPU rapidly switches between fn-1 and fn-2, allowing both to make progress almost simultaneously.\n",
    "    Efficient Use of CPU: This method maximizes the use of the CPU core, keeping it busy and reducing idle time.\n",
    "    Illusion of Parallelism: Even on a single core, this rapid switching gives the appearance of parallel execution, which is why threading can be effective even on systems with limited cores.\n",
    "    Conclusion:\n",
    "    Even though fn-1 and fn-2 are technically sharing a single CPU core, they appear to run concurrently because the operating system efficiently manages time slices through context switching. This allows both threads to progress in their calculations without one having to completely finish before the other can start."
   ]
  },
  {
   "cell_type": "markdown",
   "metadata": {},
   "source": [
    "### Threading when a function retruns some value"
   ]
  },
  {
   "cell_type": "markdown",
   "metadata": {},
   "source": [
    "##### a sequantial approach"
   ]
  },
  {
   "cell_type": "code",
   "execution_count": 6,
   "metadata": {},
   "outputs": [
    {
     "name": "stdout",
     "output_type": "stream",
     "text": [
      "Squares:  [4, 27, 256, 3125]\n",
      "time taken by sum of square fn:  8.0 seconds\n"
     ]
    }
   ],
   "source": [
    "import time\n",
    "import threading\n",
    "import queue\n",
    "\n",
    "#input:  [2, 3, 4,  5]\n",
    "#output: [4, 9, 16, 25]\n",
    "\n",
    "def fn(n):\n",
    "    time.sleep(2)\n",
    "    sq = n**n\n",
    "    return sq\n",
    "\n",
    "def main():\n",
    "    start = time.time()\n",
    "\n",
    "    nm = [2,3,4,5]\n",
    "    out_lst = []\n",
    "    for i in nm:\n",
    "        out_lst.append(fn(i))\n",
    "    \n",
    "    print(\"Squares: \", out_lst)\n",
    "    tm2 = round(time.time() - start,1)\n",
    "    print('time taken by sum of square fn: ', tm2, 'seconds')\n",
    "    return out_lst\n",
    "\n",
    "if __name__ == \"__main__\":\n",
    "    main()\n",
    "\n",
    "    "
   ]
  },
  {
   "cell_type": "markdown",
   "metadata": {},
   "source": [
    "##### Threading approach"
   ]
  },
  {
   "cell_type": "code",
   "execution_count": 9,
   "metadata": {},
   "outputs": [
    {
     "name": "stdout",
     "output_type": "stream",
     "text": [
      "Squares:  [4, 256, 27, 3125]\n",
      "time taken by sum of square fn:  2.0 seconds\n"
     ]
    }
   ],
   "source": [
    "import time\n",
    "import threading\n",
    "import queue\n",
    "\n",
    "#input:  [2, 3, 4,  5]\n",
    "#output: [4, 9, 16, 25]\n",
    "\n",
    "def fn(n, qu):\n",
    "    time.sleep(2)\n",
    "    sq = n**n\n",
    "    qu.put(sq)        #return sq\n",
    "\n",
    "def main():\n",
    "    start = time.time()\n",
    "\n",
    "    nm = [2,3,4,5]\n",
    "    out_queue = queue.Queue()   #out_lst = []\n",
    "    threads = []\n",
    "\n",
    "    for number in nm:\n",
    "        t = threading.Thread(target= fn, args=(number, out_queue))\n",
    "        t.start()\n",
    "        threads.append(t)\n",
    "    \n",
    "    for i in range(len(threads)):\n",
    "        threads[i].join()\n",
    "        \n",
    "    \n",
    "    \n",
    "    result = []\n",
    "    while not out_queue.empty():\n",
    "        result.append(out_queue.get())\n",
    "\n",
    "\n",
    "    print(\"Squares: \", result)\n",
    "    tm2 = round(time.time() - start,1)\n",
    "    print('time taken by sum of square fn: ', tm2, 'seconds')\n",
    "    return out_queue\n",
    "\n",
    "if __name__ == \"__main__\":\n",
    "    main()\n",
    "\n",
    "    "
   ]
  },
  {
   "cell_type": "markdown",
   "metadata": {},
   "source": [
    "##### queue concept refresher"
   ]
  },
  {
   "cell_type": "code",
   "execution_count": 17,
   "metadata": {},
   "outputs": [
    {
     "name": "stdout",
     "output_type": "stream",
     "text": [
      "0\n",
      "3 True\n",
      "a\n",
      "2 False\n",
      "3 True False\n"
     ]
    }
   ],
   "source": [
    "from queue import Queue\n",
    "q = Queue(maxsize = 3)\n",
    "print(q.qsize()) \n",
    "q.put('a')\n",
    "q.put('b')\n",
    "q.put('c')\n",
    "print(q.qsize(), q.full())\n",
    "print(q.get())\n",
    "print(q.qsize(), q.full())\n",
    "q.put('e')\n",
    "print(q.qsize(), q.full(), q.empty())\n"
   ]
  },
  {
   "cell_type": "markdown",
   "metadata": {},
   "source": [
    "#### alternative way to store and retrun the value"
   ]
  },
  {
   "cell_type": "code",
   "execution_count": 15,
   "metadata": {},
   "outputs": [
    {
     "name": "stdout",
     "output_type": "stream",
     "text": [
      "Square: [4, 27, 256, 3125]\n"
     ]
    }
   ],
   "source": [
    "# using threadpooling method\n",
    "\n",
    "from concurrent.futures import ThreadPoolExecutor\n",
    "def fn(n):\n",
    "    return n**n\n",
    "\n",
    "def main():\n",
    "    numbers = [2,3,4,5]\n",
    "    Results = []\n",
    "\n",
    "    with ThreadPoolExecutor(max_workers=4) as executor:\n",
    "        futures = [executor.submit(fn, num) for num in numbers]\n",
    "\n",
    "    for future in futures:\n",
    "        Results.append(future.result())\n",
    "\n",
    "    print(\"Square:\",Results)\n",
    "\n",
    "\n",
    "\n",
    "if __name__ == \"__main__\":\n",
    "    main()"
   ]
  },
  {
   "cell_type": "code",
   "execution_count": 22,
   "metadata": {},
   "outputs": [
    {
     "name": "stdout",
     "output_type": "stream",
     "text": [
      "9780\n",
      "14900\n",
      "7772\n",
      "14560\n",
      "Squares:  dict_values([16, 25, 36, 49])\n"
     ]
    }
   ],
   "source": [
    "# using dictonary\n",
    "\n",
    "import threading\n",
    "\n",
    "def fn(n, results):\n",
    "    sq = n*n\n",
    "    thread_id = threading.get_ident()\n",
    "    print(thread_id)\n",
    "    results[thread_id] = sq\n",
    "    pass\n",
    "\n",
    "def main():\n",
    "    results = {}\n",
    "    numbers = [4,5,6,7]\n",
    "\n",
    "    threads = []\n",
    "\n",
    "    for number in numbers:\n",
    "        t = threading.Thread(target= fn , args= (number, results))\n",
    "        t.start()\n",
    "        threads.append(t)\n",
    "\n",
    "    for thread in threads:\n",
    "        thread.join()\n",
    "    \n",
    "    print(\"Squares: \", results.values())\n",
    "\n",
    "\n",
    "if __name__== \"__main__\":\n",
    "    main()"
   ]
  },
  {
   "cell_type": "code",
   "execution_count": 31,
   "metadata": {
    "scrolled": true
   },
   "outputs": [
    {
     "name": "stdout",
     "output_type": "stream",
     "text": [
      "Squares: [4, 9, 16, 25]\n"
     ]
    }
   ],
   "source": [
    "# using custom threading class\n",
    "\n",
    "import threading\n",
    "\n",
    "class fnClass(threading.Thread):\n",
    "    def __init__(self, n):\n",
    "        threading.Thread.__init__(self)\n",
    "        self.n = n\n",
    "        self.result = None\n",
    "\n",
    "    def run(self):\n",
    "        self.result = self.n * self.n\n",
    "    \n",
    "\n",
    "\n",
    "\n",
    "def main():\n",
    "    threads = []\n",
    "    numbers = [2, 3, 4, 5]\n",
    "\n",
    "    for number in numbers:\n",
    "        t = fnClass(number)\n",
    "        t.start()\n",
    "        threads.append(t)\n",
    "\n",
    "    results = []\n",
    "    for t in threads:\n",
    "        t.join()\n",
    "        results.append(t.result)\n",
    "\n",
    "    print(\"Squares:\", results)\n",
    "\n",
    "if __name__ == \"__main__\":\n",
    "    main()\n",
    "\n",
    "    "
   ]
  },
  {
   "cell_type": "markdown",
   "metadata": {},
   "source": [
    "### different use cases of Threading"
   ]
  },
  {
   "cell_type": "markdown",
   "metadata": {},
   "source": [
    "##### usecase1"
   ]
  },
  {
   "cell_type": "code",
   "execution_count": null,
   "metadata": {},
   "outputs": [],
   "source": [
    "#IO operation handling\n",
    "\n",
    "import threading\n",
    "import time\n",
    "import requests\n",
    "\n",
    "# Custom thread class for downloading files\n",
    "class DownloadThread(threading.Thread):\n",
    "    def __init__(self, url, filename):\n",
    "        threading.Thread.__init__(self)\n",
    "        self.url = url\n",
    "        self.filename = filename\n",
    "\n",
    "    def run(self):\n",
    "        response = requests.get(self.url)\n",
    "        with open(self.filename, 'wb') as file:\n",
    "            file.write(response.content)\n",
    "        print(f\"Downloaded {self.filename}\")\n",
    "\n",
    "def main():\n",
    "    urls = [\n",
    "        (\"https://example.com/file1\", \"file1.txt\"),\n",
    "        (\"https://example.com/file2\", \"file2.txt\"),\n",
    "        (\"https://example.com/file3\", \"file3.txt\"),\n",
    "    ]\n",
    "    threads = []\n",
    "\n",
    "    for url, filename in urls:\n",
    "        t = DownloadThread(url, filename)\n",
    "        t.start()\n",
    "        threads.append(t)\n",
    "\n",
    "    for t in threads:\n",
    "        t.join()\n",
    "\n",
    "    print(\"All downloads completed.\")\n",
    "\n",
    "if __name__ == \"__main__\":\n",
    "    main()\n"
   ]
  },
  {
   "cell_type": "markdown",
   "metadata": {},
   "source": [
    "##### usecase2"
   ]
  },
  {
   "cell_type": "code",
   "execution_count": 37,
   "metadata": {},
   "outputs": [
    {
     "data": {
      "text/plain": [
       "(array([[0.77066554, 0.63134172, 0.05582189],\n",
       "        [0.85896099, 0.84747234, 0.67985402],\n",
       "        [0.88105652, 0.30677149, 0.00311544]]),\n",
       " array([[0.14334451, 0.80528668, 0.22224675],\n",
       "        [0.89451653, 0.62532771, 0.61644714],\n",
       "        [0.61782207, 0.41474211, 0.63210282]]),\n",
       " array([[0., 0., 0.],\n",
       "        [0., 0., 0.],\n",
       "        [0., 0., 0.]]))"
      ]
     },
     "execution_count": 37,
     "metadata": {},
     "output_type": "execute_result"
    }
   ],
   "source": [
    "#### prallal computation\n",
    "\n",
    "import numpy as np\n",
    "\n",
    "A = np.random.rand(3, 3)\n",
    "B = np.random.rand(3, 3)\n",
    "result = np.zeros((3, 3))\n",
    "A, B, result"
   ]
  },
  {
   "cell_type": "code",
   "execution_count": 43,
   "metadata": {},
   "outputs": [
    {
     "data": {
      "text/plain": [
       "(0, 3)"
      ]
     },
     "execution_count": 43,
     "metadata": {},
     "output_type": "execute_result"
    }
   ],
   "source": [
    "for i in range(A.shape[0]):\n",
    "    break\n",
    "\n",
    "i, A.shape[0]"
   ]
  },
  {
   "cell_type": "code",
   "execution_count": 44,
   "metadata": {},
   "outputs": [
    {
     "data": {
      "text/plain": [
       "array([0.77066554, 0.63134172, 0.05582189])"
      ]
     },
     "execution_count": 44,
     "metadata": {},
     "output_type": "execute_result"
    }
   ],
   "source": [
    "A[0]"
   ]
  },
  {
   "cell_type": "code",
   "execution_count": null,
   "metadata": {},
   "outputs": [],
   "source": [
    "np.dot()"
   ]
  },
  {
   "cell_type": "code",
   "execution_count": null,
   "metadata": {},
   "outputs": [],
   "source": [
    "import threading\n",
    "import numpy as np\n",
    "\n",
    "# Custom thread class for matrix multiplication\n",
    "class MatrixMultiplyThread(threading.Thread):\n",
    "    def __init__(self, A, B, result, row):\n",
    "        threading.Thread.__init__(self)\n",
    "        self.A = A\n",
    "        self.B = B\n",
    "        self.result = result\n",
    "        self.row = row\n",
    "\n",
    "    def run(self):\n",
    "        self.result[self.row] = np.dot(self.A[self.row], self.B)\n",
    "\n",
    "def main():\n",
    "    A = np.random.rand(3, 3)\n",
    "    B = np.random.rand(3, 3)\n",
    "    result = np.zeros((3, 3))\n",
    "\n",
    "    threads = []\n",
    "    for i in range(A.shape[0]):\n",
    "        t = MatrixMultiplyThread(A, B, result, i)\n",
    "        t.start()\n",
    "        threads.append(t)\n",
    "\n",
    "    for t in threads:\n",
    "        t.join()\n",
    "\n",
    "    print(\"Matrix A:\\n\", A)\n",
    "    print(\"Matrix B:\\n\", B)\n",
    "    print(\"Result of A * B:\\n\", result)\n",
    "\n",
    "if __name__ == \"__main__\":\n",
    "    main()\n"
   ]
  },
  {
   "cell_type": "markdown",
   "metadata": {},
   "source": [
    "##### usecase3"
   ]
  },
  {
   "cell_type": "code",
   "execution_count": null,
   "metadata": {},
   "outputs": [],
   "source": [
    "# handling background execution \n",
    "\n",
    "import threading\n",
    "import time\n",
    "\n",
    "# Custom thread class for background task\n",
    "class BackgroundTask(threading.Thread):\n",
    "    def __init__(self, interval):\n",
    "        threading.Thread.__init__(self)\n",
    "        self.interval = interval\n",
    "        self.running = True\n",
    "\n",
    "    def run(self):\n",
    "        while self.running:\n",
    "            print(\"Background task running...\")\n",
    "            time.sleep(self.interval)\n",
    "\n",
    "    def stop(self):\n",
    "        self.running = False\n",
    "\n",
    "def main():\n",
    "    background_task = BackgroundTask(interval=2)\n",
    "    background_task.start()\n",
    "\n",
    "    time.sleep(6)\n",
    "    print(\"Main thread doing other tasks...\")\n",
    "    \n",
    "    background_task.stop()\n",
    "    background_task.join()\n",
    "    print(\"Background task stopped.\")\n",
    "\n",
    "if __name__ == \"__main__\":\n",
    "    main()\n"
   ]
  },
  {
   "cell_type": "markdown",
   "metadata": {},
   "source": [
    "##### usecase4"
   ]
  },
  {
   "cell_type": "code",
   "execution_count": null,
   "metadata": {},
   "outputs": [],
   "source": [
    "## handling concurrent user request\n",
    "\n",
    "import threading\n",
    "import socket\n",
    "\n",
    "# Custom thread class to handle client connections\n",
    "class ClientHandlerThread(threading.Thread):\n",
    "    def __init__(self, client_socket, client_address):\n",
    "        threading.Thread.__init__(self)\n",
    "        self.client_socket = client_socket\n",
    "        self.client_address = client_address\n",
    "\n",
    "    def run(self):\n",
    "        print(f\"Connection from {self.client_address}\")\n",
    "        self.client_socket.sendall(b\"Welcome to the server!\\n\")\n",
    "        self.client_socket.close()\n",
    "\n",
    "def main():\n",
    "    server_socket = socket.socket(socket.AF_INET, socket.SOCK_STREAM)\n",
    "    server_socket.bind(('localhost', 9999))\n",
    "    server_socket.listen(5)\n",
    "\n",
    "    print(\"Server listening on port 9999...\")\n",
    "    while True:\n",
    "        client_socket, client_address = server_socket.accept()\n",
    "        handler = ClientHandlerThread(client_socket, client_address)\n",
    "        handler.start()\n",
    "\n",
    "if __name__ == \"__main__\":\n",
    "    main()\n"
   ]
  },
  {
   "cell_type": "code",
   "execution_count": null,
   "metadata": {},
   "outputs": [],
   "source": []
  },
  {
   "cell_type": "code",
   "execution_count": null,
   "metadata": {},
   "outputs": [],
   "source": []
  }
 ],
 "metadata": {
  "kernelspec": {
   "display_name": "Python 3 (ipykernel)",
   "language": "python",
   "name": "python3"
  },
  "language_info": {
   "codemirror_mode": {
    "name": "ipython",
    "version": 3
   },
   "file_extension": ".py",
   "mimetype": "text/x-python",
   "name": "python",
   "nbconvert_exporter": "python",
   "pygments_lexer": "ipython3",
   "version": "3.11.4"
  }
 },
 "nbformat": 4,
 "nbformat_minor": 2
}
